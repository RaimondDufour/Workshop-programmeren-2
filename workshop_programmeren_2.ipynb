{
  "nbformat": 4,
  "nbformat_minor": 0,
  "metadata": {
    "colab": {
      "provenance": [],
      "collapsed_sections": [
        "BWXcuoN6Hb_c",
        "wYJsCi7KHhCL",
        "hHmVcqwOJOBV",
        "7X330jFEOrXo",
        "fFyMV7cXZic8"
      ],
      "authorship_tag": "ABX9TyON7HOhWOxjhBOuSzkfjFsB",
      "include_colab_link": true
    },
    "kernelspec": {
      "name": "python3",
      "display_name": "Python 3"
    },
    "language_info": {
      "name": "python"
    }
  },
  "cells": [
    {
      "cell_type": "markdown",
      "metadata": {
        "id": "view-in-github",
        "colab_type": "text"
      },
      "source": [
        "<a href=\"https://colab.research.google.com/github/RaimondDufour/Workshop-programmeren-2/blob/main/workshop_programmeren_2.ipynb\" target=\"_parent\"><img src=\"https://colab.research.google.com/assets/colab-badge.svg\" alt=\"Open In Colab\"/></a>"
      ]
    },
    {
      "cell_type": "markdown",
      "source": [
        "##Wat hebben wij vorige week gedaan?\n",
        "* print(\"Hallo wereld\")\n",
        "* Variabelen: \n",
        "    * string: tekst = \"Hallo Wereld\"\n",
        "    * integer: cijfer = 5\n",
        "    * float: getal = 4.53236\n",
        "    * boolean: waarOfNietWaar = True\n",
        "* For-loop:\n",
        "        for x in range(0, 30):\n",
        "            print(teller)\n",
        "            teller = teller + 1\n",
        "    Kenmerken:\n",
        "    * \"x\" is een naam: Mag je zelf kiezen;\n",
        "    * telling van 0 tot 9 in plaats van 1 tot 10;\n",
        "    * Indentatie: zolang je ingesprongen hebt zit je in de iteratie. Je kunt itereren in een iteratie. "
      ],
      "metadata": {
        "id": "BWXcuoN6Hb_c"
      }
    },
    {
      "cell_type": "markdown",
      "source": [
        "## Wat gaan wij vandaag doen?\n",
        "* While-loop laten we even zitten;\n",
        "* Vergelijkingsoperatoren;\n",
        "* If-statements;\n",
        "* Lijsten;\n",
        "* Tekst-bewerkingen: \n",
        "    * Eenvoudige functies voor strings: tellen, zoeken, vervangen, substrings, zinnen aanpassen, maar laat je fantasie de vrije loop! (google naar python string functions);\n",
        "    * regular expressions (regex);\n",
        "* Een webpagina scrapen!"
      ],
      "metadata": {
        "id": "wYJsCi7KHhCL"
      }
    },
    {
      "cell_type": "markdown",
      "source": [
        "##vergelijkingsoperatoren:\n",
        "        groter dan: >\n",
        "        kleiner dan: <\n",
        "        groter of gelijk aan: >=\n",
        "        kleiner of gelijk aan: <=\n",
        "        is gelijk aan: == (dus let op: 2x een =-teken!!)\n",
        "        is niet gelijk aan: !=\n",
        "\n",
        "###Syntaxis:\n",
        "        if voorwaarde: \n",
        "            dan deze code aflopen\n",
        "        elif voorwaarde 2:        (elif staat voor else if)\n",
        "            dan deze code aflopen\n",
        "        else:                     (zonder voorwaarde)\n",
        "            hier komt dan de standaardcode\n",
        "\n",
        "\n",
        "### Meerdere voorwaarden, EN cq OF: \n",
        "        if voorwaarde1 & voorwaarde 2:   \n",
        "            (code wordt afgelopen als beide voorwaarden zijn vervuld)\n",
        "        if voorwaarde1 | voorwaarde 2: \n",
        "            (code wordt afgelopen als ten minste één van beide voorwaarden is vervuld)"
      ],
      "metadata": {
        "id": "hHmVcqwOJOBV"
      }
    },
    {
      "cell_type": "code",
      "execution_count": 4,
      "metadata": {
        "colab": {
          "base_uri": "https://localhost:8080/"
        },
        "id": "tTO6CdSpDILO",
        "outputId": "4126a096-0a14-42b6-a0b9-9120f0d0cc3b"
      },
      "outputs": [
        {
          "output_type": "stream",
          "name": "stdout",
          "text": [
            "cijfer is: 0 Dit is kleiner dan of gelijk aan 5\n",
            "cijfer is: 1 Dit is kleiner dan of gelijk aan 5\n",
            "cijfer is: 2 Dit is kleiner dan of gelijk aan 5\n",
            "cijfer is: 3 Dit is kleiner dan of gelijk aan 5\n",
            "cijfer is: 4 Dit is kleiner dan of gelijk aan 5\n",
            "cijfer is: 5 Dit is kleiner dan of gelijk aan 5\n",
            "cijfer is: 6 Dit getal is 1. NIET kleiner of gelijk aan 5, maar wel kleiner of gelijk aan 10\n",
            "cijfer is: 7 Dit getal is 1. NIET kleiner of gelijk aan 5, maar wel kleiner of gelijk aan 10\n",
            "cijfer is: 8 Dit getal is 1. NIET kleiner of gelijk aan 5, maar wel kleiner of gelijk aan 10\n",
            "cijfer is: 9 Dit getal is 1. NIET kleiner of gelijk aan 5, maar wel kleiner of gelijk aan 10\n",
            "cijfer is: 10 Dit getal is 1. NIET kleiner of gelijk aan 5, maar wel kleiner of gelijk aan 10\n",
            "cijfer is: 11 Dat is groter dan 10\n",
            "cijfer is: 12 Dat is groter dan 10\n",
            "cijfer is: 13 Dat is groter dan 10\n",
            "cijfer is: 14 Dat is groter dan 10\n"
          ]
        }
      ],
      "source": [
        "#Oefeningen:\n",
        "for cijfer in range(0, 15):\n",
        "    if cijfer <= 5:\n",
        "        print(\"cijfer is: \" + str(cijfer) + \" Dit is kleiner dan of gelijk aan 5\")\n",
        "    elif cijfer <= 10: \n",
        "        print(\"cijfer is: \" + str(cijfer) + \" Dit getal is 1. NIET kleiner of gelijk aan 5, maar wel kleiner of gelijk aan 10\")\n",
        "    else:\n",
        "        print(\"cijfer is: \" + str(cijfer) + \" Dat is groter dan 10\")\n",
        "        \n",
        "\n"
      ]
    },
    {
      "cell_type": "code",
      "source": [
        "tekst = \"dit is een tekst\"\n",
        "letter = \"e\"\n",
        "if tekst.count(letter):\n",
        "    print(\"aantal keer de letter : \" + str(tekst.count(letter)))\n",
        "elif len(tekst) >= 20:\n",
        "    print(\"de lengte van de tekst is: \" + str(len(tekst)))\n",
        "else:\n",
        "    print(\"in tekst komt \" + str(tekst.count(letter))  + \" keer de letter voor, maar de tekst is kleiner dan 20 tekens lang.\")\n",
        "# Wat we hier zien is een conversie van een tekstkenmerk naar een getal. Dat is belangrijk!"
      ],
      "metadata": {
        "colab": {
          "base_uri": "https://localhost:8080/"
        },
        "id": "nfHJ1pBHMldz",
        "outputId": "c92a7893-3f96-4e64-8b1a-6b30fe7c85d3"
      },
      "execution_count": 13,
      "outputs": [
        {
          "output_type": "stream",
          "name": "stdout",
          "text": [
            "aantal keer de letter : 3\n"
          ]
        }
      ]
    },
    {
      "cell_type": "markdown",
      "source": [
        "## Lijsten\n",
        "een lijst is een verzameling van variabelen, op een bepaalde manier gestructureerd. Een lijst staat tussen haken: [ ]"
      ],
      "metadata": {
        "id": "7X330jFEOrXo"
      }
    },
    {
      "cell_type": "code",
      "source": [
        "# Een lege lijst is dan:\n",
        "lijst = []\n",
        "\n",
        "# En aan een lijst voegen we een element toe:\n",
        "lijst.append(1)\n",
        "lijst.append(2)\n",
        "lijst.append(3)\n",
        "lijst.append(5)\n",
        "lijst.append(4)\n",
        "\n",
        "lijst = []\n",
        "lijst.append([1, 2])\n",
        "lijst.append([3, 4])\n",
        "# print(lijst)\n",
        "\n",
        "lijst = [[1,2],\n",
        "         [3,4]]\n",
        "\n",
        "# En dan krijgt het de vorm van een matrix. Nog een lijst in een lijst en dan heb je de vorm van een 3d-tabel. Maar daar houdt het niet mee op. \n",
        "# Een lijst kan daarom heel ingewikkeld zijn. Je krijgt dan multi-dimensionale lijsten. Gaan wij hier niet doen. "
      ],
      "metadata": {
        "colab": {
          "base_uri": "https://localhost:8080/"
        },
        "id": "2J2WCxclO21u",
        "outputId": "6f5eb0a8-8cd0-4211-9773-69dfdcdaf8e6"
      },
      "execution_count": 20,
      "outputs": [
        {
          "output_type": "stream",
          "name": "stdout",
          "text": [
            "[1, 2]\n"
          ]
        }
      ]
    },
    {
      "cell_type": "code",
      "source": [
        "# Lijsten hoeven niet altijd alleen integers te bevatten: \n",
        "lijstUitspraken = [[\"ECLI:NL:HR:2022:1234\", \"...hier de uitspraaktekst van de 0e uitspraak...\", 2022],\n",
        "      [\"ECLI:NL:RBADAM:2023:12\", \"...hier de uitspraaktekst van de 1e uitspraak...\", 2023],\n",
        "      [\"ECLI:NL:RBADAM:2023:34\", \"...hier de uitspraaktekst van de 2e uitspraak...\", 2023],\n",
        "      [\"ECLI:NL:RBADAM:2023:56\", \"...hier de uitspraaktekst van de 3e uitspraak...\", 2023],\n",
        "      [\"ECLI:NL:RBADAM:2023:78\", \"...hier de uitspraaktekst van de 4e uitspraak...\", 2023],\n",
        "      [\"ECLI:NL:GHSHE:2020:910\", \"...hier de uitspraaktekst van de 5e uitspraak...\", 2020]]\n",
        "\n",
        "# print(lijstUitspraken)\n",
        "\n",
        "for uitspraak in lijstUitspraken:\n",
        "    print(uitspraak)\n"
      ],
      "metadata": {
        "colab": {
          "base_uri": "https://localhost:8080/"
        },
        "id": "XPTkb-qAQi9O",
        "outputId": "bd8e55cf-e310-4474-f7d0-6866441d0e47"
      },
      "execution_count": 24,
      "outputs": [
        {
          "output_type": "stream",
          "name": "stdout",
          "text": [
            "['ECLI:NL:HR:2022:1234', '...hier de uitspraaktekst van de 0e uitspraak...', 2022]\n",
            "['ECLI:NL:RBADAM:2023:12', '...hier de uitspraaktekst van de 1e uitspraak...', 2023]\n",
            "['ECLI:NL:RBADAM:2023:34', '...hier de uitspraaktekst van de 2e uitspraak...', 2023]\n",
            "['ECLI:NL:RBADAM:2023:56', '...hier de uitspraaktekst van de 3e uitspraak...', 2023]\n",
            "['ECLI:NL:RBADAM:2023:78', '...hier de uitspraaktekst van de 4e uitspraak...', 2023]\n",
            "['ECLI:NL:GHSHE:2020:910', '...hier de uitspraaktekst van de 5e uitspraak...', 2020]\n"
          ]
        }
      ]
    },
    {
      "cell_type": "markdown",
      "source": [
        "##Tekstbewerkingen\n",
        "\n",
        "Python heeft veel ingebouwde functies voor teksten (strings). Voor een overzicht: https://www.w3schools.com/python/python_ref_string.asp\n"
      ],
      "metadata": {
        "id": "pzPrVl-tRnsu"
      }
    },
    {
      "cell_type": "code",
      "source": [
        "# DEMO:\n",
        "tekst = \"Hoera, dit is weer eens een zin.\"\n",
        "\n",
        "# print(tekst.find(\"zin\"))\n",
        "# print(tekst[7:21])\n",
        "# print(tekst[tekst.find(\"weer\"):tekst.find(\"zin\")])\n",
        "# print(tekst.count(\"i\"))\n",
        "# print(tekst.lower())\n",
        "# print(tekst.upper())\n",
        "# print(tekst.replace(\"e\", \"i\"))\n",
        "# print(tekst.replace(\"e\", \"\"))\n",
        "# a = tekst.replace(\"e\", \"\")"
      ],
      "metadata": {
        "colab": {
          "base_uri": "https://localhost:8080/"
        },
        "id": "jA_MuYfZQzR0",
        "outputId": "8459dbfb-1d2d-40bc-923f-596b99034361"
      },
      "execution_count": 39,
      "outputs": [
        {
          "output_type": "stream",
          "name": "stdout",
          "text": [
            "Hora, dit is wr ns n zin.\n"
          ]
        }
      ]
    },
    {
      "cell_type": "markdown",
      "source": [
        "## Oefening\n",
        "Laat de computer het aantal woorden tellen in de volgende passage:\n",
        "\n",
        "Hallo! Dit is het antwoordapparaat van Tineke Laanmaker, want ik ben er even niet. Maar na de piep heeft u gelegenheid om uw boodschap in te spreken, en dan bel ik u zo gauw mogelijk terug. Doe-oeg! Hallo Tineke, dit is Ton, en ik weet dat je thuis bent. Want ik ben net met de Rover langs je huis gereden, het is nu 7 minuten over half 8, en de gordijnen waren dicht maar d'r kwam licht door de spleet, Tineke. En ik heb hem wel zien lopen hoor, in mijn ochtendjas. Of dacht jij dat ik gek was? Ik wil jou 1 ding zeggen, Tineke. Van mijn sigaren blijft ie af. Als ik merk dat jullie samen aan mijn sigaren hebben gezeten..."
      ],
      "metadata": {
        "id": "zLkXCzXjTQoD"
      }
    },
    {
      "cell_type": "code",
      "source": [
        "kootEnBie = \"Hallo! Dit is het antwoordapparaat van Tineke Laanmaker, want ik ben er even niet. Maar na de piep heeft u gelegenheid om uw boodschap in te spreken, en dan bel ik u zo gauw mogelijk terug. Doe-oeg! Hallo Tineke, dit is Ton, en ik weet dat je thuis bent. Want ik ben net met de Rover langs je huis gereden, het is nu 7 minuten over half 8, en de gordijnen waren dicht maar d'r kwam licht door de spleet, Tineke. En ik heb hem wel zien lopen hoor, in mijn ochtendjas. Of dacht jij dat ik gek was? Ik wil jou 1 ding zeggen, Tineke. Van mijn sigaren blijft ie af. Als ik merk dat jullie samen aan mijn sigaren hebben gezeten...\" \n",
        "\n",
        "print(kootEnBie.count(\" \") + 1)"
      ],
      "metadata": {
        "colab": {
          "base_uri": "https://localhost:8080/"
        },
        "id": "BrVZ65t-UEwi",
        "outputId": "734e327f-8d48-42b8-c9f6-d5d519427a0c"
      },
      "execution_count": 42,
      "outputs": [
        {
          "output_type": "stream",
          "name": "stdout",
          "text": [
            "123\n"
          ]
        }
      ]
    },
    {
      "cell_type": "markdown",
      "source": [
        "## Regular expressions (Regex)\n",
        "\n",
        "Met regular expressions kun je de computer laten zoeken op tekstpatronen, dus niet alleen op trefwoorden. Het is een klein taaltje op zich, en heel leuk om te doen omdat het een beetje puzzelen is. Als je even niet uit een regex-code komt dan is de website http://regex101.com heel bruikbaar.\n",
        "\n",
        "Regular expressions zijn niet standaard ingeschakeld in Python. Je moet een library importeren. Dat doe je heel makkelijk met het commando:\n",
        "\n",
        "        import re\n",
        "(er zijn vele, vele libraries)    \n",
        "\n",
        "En de library geeft dan weer een hele waslijst aan functies. \n",
        "\n",
        "###Patroon definieren\n",
        "Voorbeelden: \n",
        "een getal zoek je met \"\\d\". Een letter zoek je met die letter. \n",
        "\n",
        "Voor standaard-codes (zoals bijvoorbeeld een e-mailadres, die is nl. best ingewikkeld), kun je het beste even googelen."
      ],
      "metadata": {
        "id": "NYGhRDk1Uqta"
      }
    },
    {
      "cell_type": "code",
      "source": [
        "import re\n",
        "zin = \"Hij ging op 03-02-2023 om 3 uur naar huis om met 4 vrienden te eten. Zijn vriendin kwam ook bij hem eten omdat hij dat gezellig vond. 2021-05-30\"\n",
        "print(re.findall(\"om\", zin))"
      ],
      "metadata": {
        "colab": {
          "base_uri": "https://localhost:8080/"
        },
        "id": "BQ3kjYRRVqnZ",
        "outputId": "9c1db07e-309a-4da0-8713-a8676f60fd3c"
      },
      "execution_count": 50,
      "outputs": [
        {
          "output_type": "stream",
          "name": "stdout",
          "text": [
            "['om', 'om', 'om']\n"
          ]
        }
      ]
    },
    {
      "cell_type": "code",
      "source": [
        "# Een . staat voor één karakter (maakt niet uit welke)\n",
        "print(re.findall(\"vriend.n\", zin))"
      ],
      "metadata": {
        "colab": {
          "base_uri": "https://localhost:8080/"
        },
        "id": "be6ixwYqWWZI",
        "outputId": "67046773-40aa-4b5b-cc9a-10a9ff90bd11"
      },
      "execution_count": 45,
      "outputs": [
        {
          "output_type": "stream",
          "name": "stdout",
          "text": [
            "['vrienden', 'vriendin']\n"
          ]
        }
      ]
    },
    {
      "cell_type": "code",
      "source": [
        "# Een getal definieer je als \\d\n",
        "print(re.findall(\"\\d\", zin))"
      ],
      "metadata": {
        "colab": {
          "base_uri": "https://localhost:8080/"
        },
        "id": "2CnxMs8QWlCv",
        "outputId": "a16fd21e-c905-4e22-82d6-8ac2ac262390"
      },
      "execution_count": 46,
      "outputs": [
        {
          "output_type": "stream",
          "name": "stdout",
          "text": [
            "['0', '3', '0', '2', '2', '0', '2', '3', '3', '4']\n"
          ]
        }
      ]
    },
    {
      "cell_type": "code",
      "source": [
        "# Meerdere getallen definieer je als \\d{0,4} ofwel: alle getallen van \n",
        "print(re.findall(\"\\d{1,4}\", zin))"
      ],
      "metadata": {
        "colab": {
          "base_uri": "https://localhost:8080/"
        },
        "id": "QRiKxu0KXAbe",
        "outputId": "255fef8f-eec8-4be3-a4ce-fd7e48bfbd7e"
      },
      "execution_count": 47,
      "outputs": [
        {
          "output_type": "stream",
          "name": "stdout",
          "text": [
            "['03', '02', '2023', '3', '4']\n"
          ]
        }
      ]
    },
    {
      "cell_type": "code",
      "source": [
        "# En een datum die is opgemaakt als hierboven (03-02-2023) definieer je dus als volgt: \n",
        "print(re.findall(\"\\d{2,4}-\\d{2}-\\d{2,4}\", zin)) # 123-12-123\n",
        "# 2023-02-20"
      ],
      "metadata": {
        "colab": {
          "base_uri": "https://localhost:8080/"
        },
        "id": "el0q3z0zXQXm",
        "outputId": "156bc2c1-798b-4ae9-fbb2-7bfca31064a8"
      },
      "execution_count": 51,
      "outputs": [
        {
          "output_type": "stream",
          "name": "stdout",
          "text": [
            "['03-02-2023', '2021-05-30']\n"
          ]
        }
      ]
    },
    {
      "cell_type": "code",
      "source": [
        "# alle letters (hoofdletters of niet): \n",
        "print(re.findall(\"[a-zA-Z]\", zin))"
      ],
      "metadata": {
        "colab": {
          "base_uri": "https://localhost:8080/"
        },
        "id": "inzgf0SCX7jS",
        "outputId": "4d373232-e002-447d-e35b-69fb83b03c1d"
      },
      "execution_count": 52,
      "outputs": [
        {
          "output_type": "stream",
          "name": "stdout",
          "text": [
            "['H', 'i', 'j', 'g', 'i', 'n', 'g', 'o', 'p', 'o', 'm', 'u', 'u', 'r', 'n', 'a', 'a', 'r', 'h', 'u', 'i', 's', 'o', 'm', 'm', 'e', 't', 'v', 'r', 'i', 'e', 'n', 'd', 'e', 'n', 't', 'e', 'e', 't', 'e', 'n', 'Z', 'i', 'j', 'n', 'v', 'r', 'i', 'e', 'n', 'd', 'i', 'n', 'k', 'w', 'a', 'm', 'o', 'o', 'k', 'b', 'i', 'j', 'h', 'e', 'm', 'e', 't', 'e', 'n', 'o', 'm', 'd', 'a', 't', 'h', 'i', 'j', 'd', 'a', 't', 'g', 'e', 'z', 'e', 'l', 'l', 'i', 'g', 'v', 'o', 'n', 'd']\n"
          ]
        }
      ]
    },
    {
      "cell_type": "code",
      "source": [
        "# maar ook kan: \n",
        "print(re.findall(\"[a-z]\", zin, re.IGNORECASE))"
      ],
      "metadata": {
        "colab": {
          "base_uri": "https://localhost:8080/"
        },
        "id": "f16Td-67YQ-Y",
        "outputId": "86abd29a-2469-4593-8291-c6a06de750bd"
      },
      "execution_count": 53,
      "outputs": [
        {
          "output_type": "stream",
          "name": "stdout",
          "text": [
            "['H', 'i', 'j', 'g', 'i', 'n', 'g', 'o', 'p', 'o', 'm', 'u', 'u', 'r', 'n', 'a', 'a', 'r', 'h', 'u', 'i', 's', 'o', 'm', 'm', 'e', 't', 'v', 'r', 'i', 'e', 'n', 'd', 'e', 'n', 't', 'e', 'e', 't', 'e', 'n', 'Z', 'i', 'j', 'n', 'v', 'r', 'i', 'e', 'n', 'd', 'i', 'n', 'k', 'w', 'a', 'm', 'o', 'o', 'k', 'b', 'i', 'j', 'h', 'e', 'm', 'e', 't', 'e', 'n', 'o', 'm', 'd', 'a', 't', 'h', 'i', 'j', 'd', 'a', 't', 'g', 'e', 'z', 'e', 'l', 'l', 'i', 'g', 'v', 'o', 'n', 'd']\n"
          ]
        }
      ]
    },
    {
      "cell_type": "code",
      "source": [
        "# Alle woorden: \n",
        "print(re.findall(\"[a-z]{1,25}\", zin, re.IGNORECASE))"
      ],
      "metadata": {
        "colab": {
          "base_uri": "https://localhost:8080/"
        },
        "id": "hspxR19fYd0A",
        "outputId": "0adfad9b-b53d-4257-f29e-c942166431a4"
      },
      "execution_count": 54,
      "outputs": [
        {
          "output_type": "stream",
          "name": "stdout",
          "text": [
            "['Hij', 'ging', 'op', 'om', 'uur', 'naar', 'huis', 'om', 'met', 'vrienden', 'te', 'eten', 'Zijn', 'vriendin', 'kwam', 'ook', 'bij', 'hem', 'eten', 'omdat', 'hij', 'dat', 'gezellig', 'vond']\n"
          ]
        }
      ]
    },
    {
      "cell_type": "code",
      "source": [
        "print(len(re.findall(\"[a-z]{1,25}\", zin, re.IGNORECASE)))"
      ],
      "metadata": {
        "colab": {
          "base_uri": "https://localhost:8080/"
        },
        "id": "wtkUfs8qYsKC",
        "outputId": "3fb4877c-8099-4f79-a000-c5c0ecec65ed"
      },
      "execution_count": 55,
      "outputs": [
        {
          "output_type": "stream",
          "name": "stdout",
          "text": [
            "24\n"
          ]
        }
      ]
    },
    {
      "cell_type": "code",
      "source": [
        "print(re.findall(\"[a-z]{1,25}\", kootEnBie, re.IGNORECASE))"
      ],
      "metadata": {
        "colab": {
          "base_uri": "https://localhost:8080/"
        },
        "id": "SOUb7PvxY3jL",
        "outputId": "377c17f8-61a6-4900-ae9f-831da8410758"
      },
      "execution_count": 56,
      "outputs": [
        {
          "output_type": "stream",
          "name": "stdout",
          "text": [
            "['Hallo', 'Dit', 'is', 'het', 'antwoordapparaat', 'van', 'Tineke', 'Laanmaker', 'want', 'ik', 'ben', 'er', 'even', 'niet', 'Maar', 'na', 'de', 'piep', 'heeft', 'u', 'gelegenheid', 'om', 'uw', 'boodschap', 'in', 'te', 'spreken', 'en', 'dan', 'bel', 'ik', 'u', 'zo', 'gauw', 'mogelijk', 'terug', 'Doe', 'oeg', 'Hallo', 'Tineke', 'dit', 'is', 'Ton', 'en', 'ik', 'weet', 'dat', 'je', 'thuis', 'bent', 'Want', 'ik', 'ben', 'net', 'met', 'de', 'Rover', 'langs', 'je', 'huis', 'gereden', 'het', 'is', 'nu', 'minuten', 'over', 'half', 'en', 'de', 'gordijnen', 'waren', 'dicht', 'maar', 'd', 'r', 'kwam', 'licht', 'door', 'de', 'spleet', 'Tineke', 'En', 'ik', 'heb', 'hem', 'wel', 'zien', 'lopen', 'hoor', 'in', 'mijn', 'ochtendjas', 'Of', 'dacht', 'jij', 'dat', 'ik', 'gek', 'was', 'Ik', 'wil', 'jou', 'ding', 'zeggen', 'Tineke', 'Van', 'mijn', 'sigaren', 'blijft', 'ie', 'af', 'Als', 'ik', 'merk', 'dat', 'jullie', 'samen', 'aan', 'mijn', 'sigaren', 'hebben', 'gezeten']\n"
          ]
        }
      ]
    },
    {
      "cell_type": "code",
      "source": [
        "print(len(re.findall(\"[a-z]{1,25}\", kootEnBie, re.IGNORECASE)))"
      ],
      "metadata": {
        "colab": {
          "base_uri": "https://localhost:8080/"
        },
        "id": "TA1Dy9vXY-Au",
        "outputId": "d53877d1-d38b-4a08-fa95-5606de9c0796"
      },
      "execution_count": 57,
      "outputs": [
        {
          "output_type": "stream",
          "name": "stdout",
          "text": [
            "122\n"
          ]
        }
      ]
    },
    {
      "cell_type": "markdown",
      "source": [
        "## Oefening\n",
        "Uit hoeveel letters bestaan de woorden in de Koot & Bie-passage gemiddeld?"
      ],
      "metadata": {
        "id": "fFyMV7cXZic8"
      }
    },
    {
      "cell_type": "code",
      "source": [
        "Woordenlijst = re.findall(\"[a-z]{1,25}\", kootEnBie, re.IGNORECASE)\n",
        "aantalLettersTotaal = 0\n",
        "for woord in Woordenlijst:\n",
        "    aantalLettersTotaal = aantalLettersTotaal + len(woord)\n",
        "\n",
        "print(aantalLettersTotaal/len(Woordenlijst))\n",
        "\n"
      ],
      "metadata": {
        "colab": {
          "base_uri": "https://localhost:8080/"
        },
        "id": "XWJqHS02Zm2M",
        "outputId": "a1f41872-28c7-4bce-a7eb-479c58fb1a08"
      },
      "execution_count": 61,
      "outputs": [
        {
          "output_type": "stream",
          "name": "stdout",
          "text": [
            "3.8934426229508197\n"
          ]
        }
      ]
    },
    {
      "cell_type": "code",
      "source": [
        "# Vergelijken met een willekeurige uitspraak: (ECLI:NL:RBDHA:2023:3960)\n",
        "uitspraak = \"1. De rechtbank doet op grond van artikel 8:54 van de Algemene wet bestuursrecht (Awb) uitspraak zonder zitting. 2. In artikel 6:2, aanhef en onder b, van de Awb is bepaald dat, voor de toepassing van wettelijke voorschriften over bezwaar en beroep, het niet tijdig nemen van een besluit met een besluit wordt gelijkgesteld. 3. In artikel 6:12, tweede lid, van de Awb, voor zover hier van belang, is bepaald dat een beroepschrift gericht tegen het niet tijdig nemen van een besluit kan worden ingediend zodra het bestuursorgaan in gebreke is om op tijd een besluit te nemen en twee weken zijn verstreken nadat een schriftelijke ingebrekestelling door het bestuursorgaan is ontvangen.  4. Op grond van artikel 42, eerste lid, van de Vreemdelingenwet 2000 (Vw) moet verweerder binnen zes maanden na ontvangst van de aanvraag beslissen. De rechtbank stelt vast dat deze wettelijke beslistermijn is verstreken, dat eiser verweerder rechtsgeldig in gebreke heeft gesteld en dat sindsdien meer dan twee weken zijn verstreken.  5. Verweerder heeft eiser wel op 7 februari 2022 op de hoogte gesteld dat hij op korte termijn opgenomen zou worden in de algemene asielprocedure, maar verweerder heeft sindsdien eiser niet verder over bericht.  6. Het beroep is daarom kennelijk gegrond.  7. In artikel 1 van de Tijdelijke wet opschorting dwangsommen IND (hierna: de Tijdelijke wet) is bepaald dat de artikelen 4:17 tot en met 4:19, afdeling 8.2.4a en artikel 8:72, zesde lid, van de Awb niet van toepassing zijn op de aanvragen tot het verlenen van een verblijfsvergunning asiel voor bepaalde tijd.  8. De Afdeling bestuursrechtspraak van de Raad van State (ABRvS) heeft zich in twee uitspraken van 30 november 2022 (ECLI:NL:RVS:2022:3352 en ECLI:NL:RVS:2022:3353) uitgelaten over de verbindendheid van artikel 1 van de Tijdelijke wet voor zover dat artikel de mogelijkheid uitsluit dat in de asielprocedure de staatssecretaris een dwangsom verbeurt wanneer hij na ingebrekestelling niet tijdig een besluit neemt op een asielaanvraag (de bestuurlijke dwangsom) en dat de bestuursrechter bepaalt dat de staatssecretaris een in een uitspraak vast te stellen dwangsom verbeurt (de rechterlijke dwangsom). Naar het oordeel van de ABRvS is het uitsluiten van het verbeuren van een bestuurlijke dwangsom niet in strijd met het Unierecht. Dit betekent dat de staatssecretaris geen bestuurlijke dwangsom verbeurt als hij niet binnen twee weken na ingebrekestelling alsnog een besluit neemt op de asielaanvraag van de vreemdeling. Het afschaffen van de rechterlijke dwangsom in asielzaken heeft de ABRvS wél in strijd met het Unierecht geacht. Artikel 1 van de Tijdelijk wet is in zoverre onverbindend.  9. Omdat het beroep gegrond is, zal de rechtbank met toepassing van artikel 8:72, vierde lid, aanhef en onder b, van de Awb bepalen dat verweerder alsnog een besluit bekend dient te maken op de asielaanvraag van eiser. In de uitspraak van 8 juli 2020 (ECLI:NL:RVS:2020:1560) heeft de ABRvS verweerder gevolgd in het standpunt dat een termijn van acht weken voor het houden van een eerste gehoor en een termijn van acht weken voor het bekend maken van een besluit op de aanvraag (het 8+8-wekenmodel) passend is. De rechtbank ziet geen aanleiding daarover anders te oordelen.  10. Met toepassing van artikel 8:55d, tweede lid, van de Awb bepaalt de rechtbank dat verweerder een dwangsom van € 100,- moet betalen voor elke dag waarmee de beslistermijn wordt overschreden door verweerder. Daarbij geldt wel een maximum van € 7.500,-. 11. De rechtbank veroordeelt verweerder in de door eiser gemaakte proceskosten. Deze kosten stelt de rechtbank op grond van het Besluit proceskosten bestuursrecht voor de door een derde beroepsmatig verleende rechtsbijstand vast op € 418,50 (1 punt voor het indienen van het beroepschrift, met een waarde per punt van € 837,- en een wegingsfactor 0,5).  Beslissing De rechtbank:  - verklaart het beroep gegrond;  - vernietigt het, met een besluit gelijk te stellen, niet tijdig nemen van een besluit;  - draagt verweerder op binnen zestien weken na de dag van verzending van deze uitspraak alsnog een besluit op de aanvraag bekend te maken;  - bepaalt dat verweerder aan eiser een dwangsom van € 100,- moet betalen voor elke dag waarmee hij de hiervoor genoemde termijn overschrijdt, met een maximum van € 7.500,-;  - veroordeelt verweerder in de proceskosten van eiser tot een bedrag van € 418,50.  Deze uitspraak is gedaan door mr. C.H. de Groot, rechter, in aanwezigheid van N.G. Fuller, griffier en openbaar gemaakt door middel van geanonimiseerde publicatie op rechtspraak.nl. \"\n",
        "\n",
        "Woordenlijst = re.findall(\"[a-z]{1,25}\", uitspraak, re.IGNORECASE)\n",
        "aantalLettersTotaal = 0\n",
        "for woord in Woordenlijst:\n",
        "    aantalLettersTotaal = aantalLettersTotaal + len(woord)\n",
        "\n",
        "aantalLettersTotaal/len(Woordenlijst)\n"
      ],
      "metadata": {
        "colab": {
          "base_uri": "https://localhost:8080/"
        },
        "id": "HsK1c_SHaTPG",
        "outputId": "7940dba1-68e8-4137-b1b0-7be7ba557b08"
      },
      "execution_count": 62,
      "outputs": [
        {
          "output_type": "execute_result",
          "data": {
            "text/plain": [
              "5.2437956204379566"
            ]
          },
          "metadata": {},
          "execution_count": 62
        }
      ]
    },
    {
      "cell_type": "markdown",
      "source": [
        "## Een webpagina scrapen\n",
        "\n",
        "Een webpagina is vaak niet meer dan een string, die je ophaalt met een functie. Die string kun je ook bekijken als je de website bezoekt met je browser: rechtermuisknop -> Paginabron bekijken \n",
        "\n",
        "Je kunt op verschillende manieren een webpagina scrapen, als je weinig verstand hebt van html dan kun je het beste onze manier volgen. Maar een beetje moet je wel weten:\n",
        "\n",
        "* html (hypertext markup language) is de basistaal voor websites, maar ook wordt wel xml (oud) of json gebruikt om alleen data over te zenden.\n",
        "* html-codes staan tussen vishaken: <>. Wat niet tussen vishaken staat is paginacontent.\n",
        "* Let op: Als je veel pagina's snel achter elkaar downloadt, dan kan de systeembeheerder je (automatisch) blacklisten (dus misschien moet je een vpn gebruiken);\n",
        "* Lang niet alle pagina's/sites kunnen met deze tool worden bekeken: als er cookies vereist zijn of als je moet inloggen dan wordt het al snel moeilijker;\n",
        "* Meer geavanceerde methode om te scrapen in python: beautifulsoup. (google beautifulsoup tutorial)"
      ],
      "metadata": {
        "id": "YmMzlYENbn0t"
      }
    },
    {
      "cell_type": "code",
      "source": [
        "# We gebruiken de site met tuchtrechtuitspraken van de overheid als voorbeeld: https://tuchtrecht.overheid.nl/\n",
        "# Kijk naar de url: Wat doet die site als we erop komen?\n",
        "\n",
        "from urllib import request\n",
        "url  = \"https://tuchtrecht.overheid.nl/zoeken/resultaat?domein=Advocaten\"\n",
        "resp = request.urlopen(url)\n",
        "html = resp.read().decode(\"UTF-8\")\n",
        "print(html)\n",
        "\n"
      ],
      "metadata": {
        "id": "gLg0gSgRdTbG"
      },
      "execution_count": null,
      "outputs": []
    },
    {
      "cell_type": "code",
      "source": [
        "# in deze pagina kunnen we zoeken naar ECLI-nummers: \n",
        "eclilijst = re.findall(\"ECLI:NL:.{2,10}:\\d{4}:[A-Z0-9]{1,6}\", html)\n",
        "for uitspraak in eclilijst:\n",
        "    print(uitspraak)\n"
      ],
      "metadata": {
        "colab": {
          "base_uri": "https://localhost:8080/"
        },
        "id": "L1wwW6-Ie0iZ",
        "outputId": "ed344818-cbd9-4e61-9fb3-9eeeda2dead5"
      },
      "execution_count": 64,
      "outputs": [
        {
          "output_type": "stream",
          "name": "stdout",
          "text": [
            "ECLI:NL:TADRARL:2023:65\n",
            "ECLI:NL:TADRARL:2023:65\n",
            "ECLI:NL:TAHVD:2023:42\n",
            "ECLI:NL:TAHVD:2023:42\n",
            "ECLI:NL:TAHVD:2023:43\n",
            "ECLI:NL:TAHVD:2023:43\n",
            "ECLI:NL:TAHVD:2023:39\n",
            "ECLI:NL:TAHVD:2023:39\n",
            "ECLI:NL:TAHVD:2023:40\n",
            "ECLI:NL:TAHVD:2023:40\n",
            "ECLI:NL:TAHVD:2023:41\n",
            "ECLI:NL:TAHVD:2023:41\n",
            "ECLI:NL:TAHVD:2023:35\n",
            "ECLI:NL:TAHVD:2023:35\n",
            "ECLI:NL:TADRAMS:2023:56\n",
            "ECLI:NL:TADRAMS:2023:56\n",
            "ECLI:NL:TAHVD:2023:36\n",
            "ECLI:NL:TAHVD:2023:36\n",
            "ECLI:NL:TAHVD:2023:37\n",
            "ECLI:NL:TAHVD:2023:37\n",
            "ECLI:NL:TACAKN:2019:76\n"
          ]
        }
      ]
    },
    {
      "cell_type": "markdown",
      "source": [],
      "metadata": {
        "id": "dZNflyYaZwk2"
      }
    },
    {
      "cell_type": "code",
      "source": [
        "# ik wil nu de uitspraak met ecli ECLI:NL:TADRARL:2023:65 downloaden:\n",
        "# Zo ziet de url eruit die we willen hebben: https://tuchtrecht.overheid.nl/zoeken/resultaat/uitspraak/2023/ECLI_NL_TAHVD_2023_39\n",
        "basisurl = \"https://tuchtrecht.overheid.nl/zoeken/resultaat/uitspraak/\"\n",
        "jaartal = \"2023/\"\n",
        "eclinr = \"ECLI:NL:TADRARL:2023:65\"\n",
        "eclinr = eclinr.replace(\":\", \"_\")\n",
        "totaalurl = basisurl + jaartal + eclinr\n",
        "print(totaalurl)\n"
      ],
      "metadata": {
        "colab": {
          "base_uri": "https://localhost:8080/"
        },
        "id": "O_KZbjBXffzq",
        "outputId": "82c77ecd-1603-4391-f632-f000417f6d54"
      },
      "execution_count": 69,
      "outputs": [
        {
          "output_type": "stream",
          "name": "stdout",
          "text": [
            "https://tuchtrecht.overheid.nl/zoeken/resultaat/uitspraak/2023/ECLI_NL_TADRARL_2023_65\n"
          ]
        }
      ]
    },
    {
      "cell_type": "code",
      "source": [
        "resp = request.urlopen(totaalurl)\n",
        "html = resp.read().decode(\"UTF-8\")\n",
        "print(html)"
      ],
      "metadata": {
        "id": "k6307MfRgaOj"
      },
      "execution_count": null,
      "outputs": []
    },
    {
      "cell_type": "code",
      "source": [
        "htmlNieuw2 = re.sub(\"<.+?>\", \"\", html)\n",
        "htmlNieuw2 = re.sub(\"\\n\", \"AaAaAa\", htmlNieuw2)\n",
        "htmlNieuw2 = re.sub(\"\\s{2,}\", \" \", htmlNieuw2)\n",
        "htmlNieuw2 = re.sub(\"AaAaAa \", \"\\n\", htmlNieuw2)\n",
        "htmlNieuw2 = re.sub(\"\\n{3,}\", \"\\n\\n\", htmlNieuw2)\n",
        "htmlNieuw2 = htmlNieuw2[htmlNieuw2.find(\"Inhoudsindicatie\"):]\n",
        "htmlNieuw2 = re.sub(\"&nbsp;\", \" \", htmlNieuw2)\n",
        "\n",
        "print(htmlNieuw2)"
      ],
      "metadata": {
        "colab": {
          "base_uri": "https://localhost:8080/"
        },
        "id": "mueL_gp7glC8",
        "outputId": "bf5e2fea-a75c-4223-9e57-3bcd02abfa7a"
      },
      "execution_count": 84,
      "outputs": [
        {
          "output_type": "stream",
          "name": "stdout",
          "text": [
            "Inhoudsindicatie:\n",
            "Naar het oordeel van de raad is sprake van een patroon van nalatigheid, waarbij verweerder\n",
            "de belangen van klaagster in haar bijstandsgeschil vanaf het begin tot zijn onttrekking\n",
            "volstrekt niet met voldoende zorg en deskundigheid heeft behartigd in de zin van artikel\n",
            "46 Aw. Daarnaast heeft verweerder belangrijke afspraken en informatie niet schriftelijk\n",
            "aan klaagster bevestigd en dat is in strijd met regel 16. Verweerder heeft tevens\n",
            "de kernwaarden deskundigheid en integriteit geschonden. Vooral de omstandigheid dat\n",
            "verweerder niet duidelijk aan klaagster heeft gemeld dat hij de beroepstermijn had\n",
            "laten verlopen maar de suggestie heeft gewekt met een herzieningsprocedure hetzelfde\n",
            "resultaat te kunnen bereiken, neemt de raad hem zeer kwalijk. Dit alles in combinatie\n",
            "met zijn recente tuchtrechtelijk verleden, waarbij dezelfde kernwaarden ook aan de\n",
            "orde waren in gelijksoortige gevallen, legt de raad aan verweerder een onvoorwaardelijke\n",
            "schorsing van 4 weken op.\n",
            "\n",
            "Beslissing van de Raad van Discipline in het ressort Arnhem-Leeuwarden van 27 maart\n",
            "2023\n",
            "in de zaak 22-583/AL/OV\n",
            "naar aanleiding van de klacht van:\n",
            "\n",
            "klaagster\n",
            "\n",
            "oververweerder\n",
            "\n",
            "1 VERLOOP VAN DE PROCEDURE\n",
            "\n",
            "1.1 Op 13 februari 2022 heeft klaagster bij de deken van de Orde van Advocaten in\n",
            "het arrondissement Overijssel (hierna: de deken) een klacht ingediend over verweerder.\n",
            "1.2 Op 18 juli 2022 heeft de raad het klachtdossier met kenmerk 1778758 van de deken\n",
            "ontvangen.\n",
            "1.3 De klacht is behandeld op de zitting van de raad van 17 februari 2023. Daarbij\n",
            "waren klaagster en verweerder aanwezig. Van de behandeling is proces-verbaal opgemaakt.\n",
            "1.4 De raad heeft kennisgenomen van het in 1.2 genoemde klachtdossier en van de op\n",
            "de inventarislijst genoemde bijlagen.\n",
            "\n",
            "2 FEITEN\n",
            "\n",
            "Voor de beoordeling van de klacht gaat de raad, gelet op het klachtdossier en de op\n",
            "de zitting afgelegde verklaringen, uit van de volgende feiten.\n",
            "2.1 Klaagster ontvangt van het UWV een WGA-uitkering (Werkhervatting Gedeeltelijk\n",
            "Arbeidsgeschikten). Omdat deze uitkering lager is dan de bijstandsnorm heeft klaagster\n",
            "op 14 september 2020 een aanvraag ingediend bij de gemeente N voor het verkrijgen\n",
            "van aanvullende bijstand.\n",
            "2.2 Bij besluit van 26 oktober 2020 (verder ook: besluit I) heeft de gemeente deze\n",
            "aanvraag van klaagster afgewezen wegens overschrijding van de toegestane vermogensgrens.\n",
            "Als grond voor afwijzing is vermeld dat klaagster niet aannemelijk heeft kunnen maken\n",
            "dat het college ten onrechte is uitgegaan van de waarde van de auto van klaagster\n",
            "volgens de ANWB koerslijst.\n",
            "2.3 Verweerder heeft namens klaagster bezwaar aangetekend tegen besluit I. In het\n",
            "bezwaarschrift heeft hij onder meer de volgende zinsnede opgenomen:\n",
            "\n",
            "Met betrekking tot een eventuele hoorzitting in deze kwestie, verzoek ik u mij op\n",
            "voorhand (schriftelijk of per e-mail) te melden of en welke juridische onduidelijkheden\n",
            "er zijn omtrent de bezwaargronden. Indien er geen juridische onduidelijkheden zijn,\n",
            "verzoek ik u om een beslissing te nemen op grond van het procesdossier.\n",
            "\n",
            "2.4 Op 17 februari 2021 heeft verweerder aan klaagster doorgegeven dat op 8 maart\n",
            "2021 de hoorzitting van het bezwaar tegen besluit I zal plaatsvinden. Ook heeft hij\n",
            "daarin geschreven:\n",
            "\n",
            "U heeft mij reeds kenbaar gemaakt dat er geen behoefte is aan een hoorzitting. Dat\n",
            "is mijns inziens ook niet nodig in deze situatie aangezien uw bezwaar uitvoerig uiteen\n",
            "is gezet. Kan ik de gemeente bevestigen dat u niet aanwezig bent op 8 maart 2021?\n",
            "\n",
            "2.5 Op 4 maart 2021 heeft klaagster bij verweerder geïnformeerd waar en hoe laat de\n",
            "hoorzitting plaats zal vinden, zodat zij daarbij aanwezig kan zijn.\n",
            "2.6 Klaagster heeft op 8 maart 2021 medische informatie ter onderbouwing van haar\n",
            "noodzaak voor het gebruik van haar auto en foto’s ter onderbouwing van de schade aan\n",
            "de auto aan verweerder gestuurd. Verweerder heeft die dag aan klaagster geschreven:\n",
            "\n",
            "Zoals zojuist besproken bijgaand de uitnodiging van de gemeente.\n",
            "\n",
            "Het secretariaat had ik overigens de opdracht gegeven die informatie naar u toe te\n",
            "zenden, blijkbaar is dat nog niet gebeurd waarvoor mijn excuses.\n",
            "\n",
            "Diezelfde dag heeft klaagster ook nog twee andere e-mails aan verweerder gestuurd:\n",
            "\n",
            "Vandaag heb ik de hoorzitting betreft de bijstandsuitkering bij de gemeente ik moet\n",
            "u zeggen dat ik erg teleurgesteld en ontevreden ben over de gang van zaken.\n",
            "\n",
            "Ik heb u meerdere keren gemailt over deze zaak en telkens geen gehoor gekregen. Naar\n",
            "mijn mening is dat de taak van de advocaat om de client op de juiste manier te adviseren\n",
            "en volledige informatie te verschreken en deze bij te staan in gang van zaken. En\n",
            "dit is echter niet gebeurd.\n",
            "\n",
            "En:\n",
            "\n",
            "Wederom is er geen juiste informatie verstrekt aan de gemeente [N]. Zij deelde mij\n",
            "mede dat er geen email met betrekking tot de foto's van de schade van mijn auto +\n",
            "medische documenten zijn ontvangen. Ook deelde ze mede dat deze 10 dagen voor de hoorzitting\n",
            "hadden moeten ontvangen.\n",
            "\n",
            "Daarnaast namen ze niet mijn medische documenten die ik had meegenomen omtrent mijn\n",
            "smetvrees aan.\n",
            "\n",
            "Ik ben opnieuw teleurgesteld in de gang van zaken.\n",
            "\n",
            "Verweerder heeft daarop per e-mail aan klaagster laten weten dat hij haar aanvullende\n",
            "stukken die ochtend via Zivver naar de gemeente heeft gestuurd. Verder heeft hij klaagster\n",
            "gemeld dat hij de stukken nogmaals zal versturen en de gemeente zal verzoeken om de\n",
            "verstrekte informatie in de herbeoordeling mee te nemen. \n",
            "2.7 Bij besluit van 21 juli 2021 op bezwaar (besluit II) is besluit I gehandhaafd.\n",
            "Uit dit besluit volgt dat de waarde van de auto op juiste wijze is vastgesteld op\n",
            "basis van de ANWB Koerslijst en dat aan de afwijkende verklaring van de garagehouder\n",
            "over de waarde van de auto van klaagster vrijwel geen waarde werd gehecht. Daarnaast\n",
            "is overwogen dat niet was onderbouwd dat de auto van klaagster vanwege haar gezondheidssituatie\n",
            "noodzakelijk was.\n",
            "2.8 Per e-mail van 22 juli 2021 heeft verweerder aan klaagster laten weten dat er\n",
            "volgens hem redenen zijn om tegen besluit II binnen zes weken in beroep te gaan en\n",
            "heeft haar gevraagd of zij dat wil. Ook heeft hij geschreven:\n",
            "\n",
            "De rechter zal mogelijk de verklaring van de garagehouder mogelijk in het voordeel\n",
            "van u waarderen. Die kans lijkt mij evenwel gering. Het lijkt mij dan ook zinvol een\n",
            "uitgebreidere verklaring/rapportage met betrekking tot de waardebepaling in te dienen.\n",
            "Verder stelt de gemeente ten onrechte dat er geen medisch bewijs is overgelegd. Dat\n",
            "is wel het geval, zoals ik u reeds eerder per e-mail kenbaar heb gemaakt. Mogelijk\n",
            "dat de rechter op basis van die medische informatie oordeelt dat de auto vanwege uw\n",
            "gezondheidssituatie noodzakelijk is.\n",
            "\n",
            "2.9 In zijn e-mail van 10 augustus 2021 heeft verweerder aan klaagster bevestigd dat\n",
            "hij beroep in zal stellen tegen besluit II en heeft verder nog geschreven:\n",
            "\n",
            "Wat betreft de kosten van de beroepsprocedure hebben wij het volgende afgesproken.\n",
            "U zal bijzondere bijstand aanvragen voor de te maken kosten (eigen bijdrage gefinancierde\n",
            "rechtsbijstand en griffierechten). Waarschijnlijk zal de eigen bijdrage worden afgewezen.\n",
            "Bij hoge uitzondering maak ik dan ook geen aanspraak op de eigen bijdrage als het\n",
            "verzoek daartoe wordt afgewezen alsook het beroep ongegrond wordt verklaard.\n",
            "\n",
            "U ontvangt wel een factuur voor de vastgestelde eigen bijdrage en de griffierechten.\n",
            "De griffierechten moeten binnen de factuurtermijn worden betaald. De eigen bijdrage\n",
            "moet enkel worden betaald als het beroep gegrond worden verklaard.\n",
            "\n",
            "2.10 Op 1 september 2021 heeft klaagster aan verweerder een volledig taxatierapport\n",
            "van haar auto gestuurd met een verklaring van haar huisarts dat zij de auto om medische\n",
            "redenen nodig heeft. Op 9 september 2021 heeft klaagster bij verweerder naar de stand\n",
            "van zaken gevraagd, omdat zij nog niets van hem had vernomen.\n",
            "2.11 Op 11 september 2021 heeft verweerder aan klaagster laten weten:\n",
            "\n",
            "Helaas kom ik er zojuist evenwel achter dat het beroep waarschijnlijk ten gevolge\n",
            "van een interne miscommunicatie nog niet is ingesteld.\n",
            "\n",
            "De stukken die u naar mij heeft gezonden bieden mijns inziens evenwel aanleiding om\n",
            "een herzieningsverzoek in te dienen betreffende de beslissing op bezwaar.\n",
            "\n",
            "Daardoor weet u mogelijk sneller waar u aan toe bent dan een beroepsprocedure.\n",
            "\n",
            "Zal ik een herzieningsverzoek voor u indienen?\n",
            "\n",
            "2.12 Op 12 september 2021 heeft klaagster haar onvrede over de gang van zaken gemeld\n",
            "en ingestemd met indiening van een herzieningsverzoek. Daarop heeft verweerder aan\n",
            "klaagster geschreven:\n",
            "\n",
            "Als een herzieningsverzoek wordt afgewezen kan daartegen beroep worden ingesteld.\n",
            "\n",
            "Het taxatieverslag dat u naar mij heeft gezonden is mijns inziens nog summier. Het\n",
            "is wellicht verstandig daarvoor een erkende taxateur in te schakelen. Volgens mij\n",
            "is dat niet erg duur. Als de kosten beneden de € 200,- liggen zullen wij die coulancehalve\n",
            "dragen.\n",
            "\n",
            "Daarnaast kan u met behulp van het taxatierapport nogmaals een bijstandsaanvraag indienen,\n",
            "voor het geval het herzieningsverzoek niet wordt geaccepteerd.\n",
            "\n",
            "Laten wij het vervolg deze week even met elkaar afstemmen.\n",
            "\n",
            "2.13 Op 16 november 2021 heeft verweerder namens klaagster een verzoek om herziening\n",
            "bij de gemeente ingediend van besluit II en klaagster daarvan op de hoogte gesteld.\n",
            "2.14 Op 2 februari 2022 heeft klaagster verweerder erop gewezen dat de beslistermijn\n",
            "van zes weken is verstreken en heeft hem gevraagd om contact met de gemeente en het\n",
            "UWV op te nemen vanwege haar nijpende financiële situatie. Verweerder heeft telefonisch\n",
            "contact met de gemeente gezocht.\n",
            "2.15 Bij beslissing van 8 februari 2022 (besluit III) heeft de gemeente het verzoek\n",
            "om besluit II te herzien, afgewezen omdat geen sprake was van nieuw gebleken feiten\n",
            "of gewijzigde omstandigheden in de zin van artikel 4:6 Awb. Dit besluit heeft verweerder\n",
            "op 15 februari 2022 aan klaagster gestuurd en haar verder geschreven:\n",
            "\n",
            "Als u in bezwaar wenst te gaan verzoek ik u dat binnen twee weken per e-mail aan mij\n",
            "kenbaar te maken. Mijns inziens valt de waarde van de auto minus het vrijgestelde\n",
            "bedrag ook op de door de gemeente gestelde peildatum onder de vermogensgrens. Verder\n",
            "wordt er in bijgaande beslissing nog melding gemaakt van de ontvangst van een bedrag\n",
            "van de auteursrechtenstichting. Voor zover u in bezwaar wilt gaan tegen bijgaand besluit\n",
            "wil ik ook graag duidelijkheid daaromtrent.\n",
            "\n",
            "2.16 Op 28 februari 2022 heeft verweerder onder meer aan klaagster geschreven:\n",
            "\n",
            "U stelt dat u schade heeft geleden doordat niet tijdig beroep is ingesteld. Naar mijn\n",
            "mening is dat niet het geval.\n",
            "\n",
            "Helaas is niet tijdig beroep ingesteld. Daarom heb ik namens u een herzieningsverzoek\n",
            "ingediend. Dat verzoek is afgewezen. Vervolgens hebt u een klacht bij de orde van\n",
            "advocaten tegen mij ingediend. De klacht is een signaal dat er sprake is van een vertrouwensbreuk.\n",
            "Hetgeen u inmiddels ook heeft bevestigd. De vertrouwensbreuk vormt geen goede basis\n",
            "voor een verdere samenwerking. Daarom heb ik u aangeboden in bezwaar te gaan tegen\n",
            "de afwijzing van het herzieningsverzoek als de klacht wordt ingetrokken.\n",
            "\n",
            "Daarbij heb ik u ook aangegeven dat het raadzaam is een andere advocaat in de armen\n",
            "te nemen als u de klacht niet wilt intrekken.\n",
            "\n",
            "Voor zover u onverhoopt geen andere advocaat kan vinden ben ik overigens bereid namens\n",
            "u bezwaar in te dienen. In dat geval verzoek ik u dat binnen twee weken na heden per\n",
            "e-mail aan mij kenbaar te maken.\n",
            "\n",
            "Verder zal ik onze aansprakelijkheidsverzekeraar op de hoogte stellen van het voorgaande.\n",
            "\n",
            "2.17 Klaagster heeft, na indiening van het bezwaar door verweerder tegen besluit III,\n",
            "de opdracht aan verweerder ingetrokken en wordt nu in haar beroepsprocedure bijgestaan\n",
            "door een andere advocaat.\n",
            "\n",
            "3 KLACHT\n",
            "\n",
            "3.1 De klacht houdt, zakelijk weergegeven, in dat verweerder tuchtrechtelijk verwijtbaar\n",
            "heeft gehandeld, zoals ter zitting door klaagster is bevestigd, als bedoeld in artikel\n",
            "46 Advocatenwet door:\n",
            "a) klaagster in haar bezwaarprocedure onvoldoende bij te staan doordat:\n",
            "(i) verweerder haar onvoldoende heeft geïnformeerd over de manier waarop de bezwaarprocedure\n",
            "zo succesvol mogelijk kon worden gedaan door het overleggen van relevante stukken,\n",
            "waaronder een taxatierapport van de auto van een erkend taxatiebedrijf en medische\n",
            "informatie ter onderbouwing van haar gezondheidssituatie, en\n",
            "(ii) verweerder klaagster tijdens de hoorzitting van de bezwaarzitting bij de gemeente\n",
            "op 8 maart 2021 niet heeft bijgestaan, en\n",
            "(iii) verweerder klaagster ontijdig, pas op 8 maart 2021 en op haar verzoek, heeft\n",
            "ingelicht over locatie en tijdstip van de hoorzitting, en\n",
            "(iv) verweerder haar onvoldoende heeft voorbereid op de hoorzitting van 8 maart 2021,\n",
            "en\n",
            "(v) verweerder niet tijdig, 10 dagen voor de hoorzitting van 8 maart 2021, de voor\n",
            "haar zaak relevante stukken aan de gemeente heeft gestuurd, waardoor deze buiten de\n",
            "beoordeling zijn gebleven, en\n",
            "(vi) verweerder niet op eigen initiatief, maar pas op verzoek van klaagster op 2 februari\n",
            "2022, de gemeente in gebreke heeft gesteld omdat een tijdige beslissing uitbleef;\n",
            "b) een beroepsfout te maken door de termijn voor indiening van beroep tegen de beslissing\n",
            "op bezwaar van 21 juli 2021 te laten verstrijken en over dat verzuim niet duidelijk\n",
            "met klaagster te communiceren, waardoor hij bij klaagster de indruk heeft gewekt dat\n",
            "een herzieningsverzoek naast de beroepsprocedure zou plaatsvinden;\n",
            "c) klaagster niet, althans onjuist, voor te lichten over de verschillen tussen een\n",
            "beroepsprocedure en een herzieningsverzoek.\n",
            "\n",
            "4 VERWEER\n",
            "\n",
            "Klachtonderdeel a)\n",
            "\n",
            "4.1 Volgens verweerder heeft hij klaagster goed begeleid bij haar bezwaarprocedure\n",
            "tegen de gemeente en voert daartoe onder meer het volgende verweer tegen de subverwijten.\n",
            "4.2 Na overleg met klaagster heeft hij een bezwaarschrift gemaakt. Daarin is hij uitgegaan\n",
            "van de dagwaarde van de auto van klaagster zoals die door haar garagehouder was getaxeerd.\n",
            "Tijdens de zitting van de raad heeft verweerder verklaard dat hij die taxatie toen\n",
            "afdoende vond om een positieve beslissing van de gemeente te krijgen. Klaagster had\n",
            "bovendien geen geld voor een erkend taxateur. Ook heeft hij tijdens de zitting van\n",
            "de raad verklaard dat hij het niet nodig vond om bij het bezwaarschrift medische informatie\n",
            "van klaagster te voegen, omdat het bij de vermogensvaststelling ging om de waardering\n",
            "van haar auto en niet om haar medische situatie. Dat was voor verweerder ook de reden\n",
            "dat hij klaagster niet om medische stukken heeft gevraagd.\n",
            "4.3 In het bezwaarschrift heeft hij verder een (standaard) zinsnede opgenomen dat\n",
            "hij niet naar de hoorzitting zal komen, tenzij de gemeente hem laat weten dat hij\n",
            "wel moet komen vanwege (juridische) onduidelijkheden. De gemeente heeft daarna niets\n",
            "van zich laten horen, zodat voor hem geen noodzaak bestond naar de hoorzitting op\n",
            "8 maart 2021 te gaan. Volgens verweerder was klaagster bekend met deze werkwijze en\n",
            "heeft zij hem ook niet gevraagd om toch mee te gaan naar de hoorzitting. Verweerder\n",
            "verwijst nog naar de inhoud van zijn e-mail van 17 februari 2021 aan klaagster.\n",
            "4.4 Klaagster wist al langer dat de hoorzitting op bezwaar op 8 maart 2021 was. Door\n",
            "een vergissing op de administratie van verweerder is de uitnodiging voor de hoorzitting,\n",
            "met daarin het tijdstip en de locatie, pas in de ochtend van 8 maart 2021 aan klaagster\n",
            "doorgestuurd nadat zij verweerder daarom telefonisch had gevraagd. Omdat de hoorzitting\n",
            "pas uren later was, heeft klaagster daarvan geen nadeel ondervonden. Volgens verweerder\n",
            "heeft hij klaagster in dat telefoongesprek ook uitgelegd hoe een hoorzitting in zijn\n",
            "werk gaat, zodat zij voldoende voorbereid was. De die ochtend van klaagster ontvangen\n",
            "aanvullende stukken, een medische verklaring van haar huisarts en foto’s van schade\n",
            "aan haar auto, heeft hij direct na ontvangst en nog vóór de hoorzitting aan de gemeente\n",
            "gestuurd via de beveiligde mail-applicatie Zivver. Na de hoorzitting heeft hij van\n",
            "klaagster gehoord dat de gemeente tijdens de hoorzitting had laten weten niet bekend\n",
            "te zijn met die aanvullende stukken, volgens verweerder omdat de gemeente die stukken\n",
            "niet meer had geopend. In het belang van klaagster heeft hij die stukken meteen na\n",
            "de hoorzitting opnieuw aan de gemeente gestuurd en verzocht om de informatie daarvan\n",
            "alsnog te betrekken in hun oordeel.\n",
            "4.5 Nadat de gemeente het bezwaar van klaagster had afgewezen en hij de beroepstermijn\n",
            "per ongeluk heeft laten verstrijken, heeft hij als goedmaker aan klaagster aangeboden\n",
            "om (een deel van de) kosten van een erkend taxateur voor waardering van haar auto\n",
            "voor zijn rekening te nemen. Van dat aanbod heeft klaagster gebruik gemaakt. Dat een\n",
            "waardering van haar auto door een erkend taxateur haar mogelijk meer kans op een betere\n",
            "beslissing had gegeven, heeft verweerder klaagster niet voorgehouden.\n",
            "4.6 Doordat hij door drukte de beslistermijn van de gemeente even niet goed in de\n",
            "gaten heeft gehouden, heeft hij meteen na het daartoe gedane verzoek van klaagster\n",
            "aan de gemeente een ingebrekestelling gestuurd. Sindsdien stuurt hij standaard een\n",
            "ingebrekestelling na het verstrijken van de beslistermijn.Klachtonderdelen b) en c)\n",
            "4.7 Nadat hij had ontdekt dat hij door een interne miscommunicatie geen beroep tegen\n",
            "besluit II had ingesteld, heeft hij klaagster daarvan meteen in zijn e mail van 11\n",
            "september 2021 op de hoogte gebracht. In die e-mail heeft hij haar aangeboden om een\n",
            "herzieningsverzoek in te dienen en daarmee alsnog het beoogde resultaat te behalen.\n",
            "Hij heeft daarbij nooit bij klaagster de indruk willen wekken dat de beroepsprocedure\n",
            "en de herzieningsprocedure naast elkaar zouden worden ingesteld. \n",
            "4.8 Volgens verweerder was de bewijspositie van klaagster in de herzieningsprocedure\n",
            "niet lastiger dan in de beroepsprocedure. De inhoud van het taxatieverslag van de\n",
            "door verweerder betaalde erkende taxateur was positief voor klaagster en daarmee was\n",
            "de (bewijs)positie van klaagster juist verbeterd. Daarnaast is in het geval van een\n",
            "herzieningsprocedure sprake van een integrale herbeoordeling ofwel dubbele toetsing\n",
            "(doelmatigheids- en rechtmatigheidstoetsing), terwijl in een beroepsprocedure alleen\n",
            "sprake is van rechtmatigheidstoetsing.\n",
            "\n",
            "5 BEOORDELING\n",
            "\n",
            "Toetsingsmaatstaf\n",
            "\n",
            "5.1 In deze zaak gaat het om de vraag of verweerder de belangen van klaagster in haar\n",
            "procedure tegen een gemeente met voldoende zorg heeft behandeld, als bedoeld in artikel\n",
            "46 van de Advocatenwet.\n",
            "5.2 De raad stelt voorop dat de tuchtrechter de kwaliteit van de dienstverlening door\n",
            "de eigen advocaat in volle omvang toetst. Daarbij wordt rekening gehouden met de vrijheid\n",
            "die de advocaat heeft bij de manier waarop hij een zaak behandelt en met de keuzes\n",
            "waarvoor hij bij de behandeling kan komen te staan. De vrijheid die de advocaat daarbij\n",
            "heeft is niet onbeperkt. Deze vrijheid wordt begrensd door de eisen die aan de advocaat\n",
            "als opdrachtnemer in de uitvoering van die opdracht mogen worden gesteld. Volgens\n",
            "deze eisen dient zijn werk te voldoen aan de binnen de beroepsgroep geldende professionele\n",
            "standaard. Die professionele standaard veronderstelt een handelen met de zorgvuldigheid\n",
            "die van een redelijk bekwame en redelijk handelende advocaat in de gegeven omstandigheden\n",
            "mag worden verwacht.\n",
            "5.3 Verder geldt dat de tuchtrechter bij de toetsing aan de normen die uit artikel\n",
            "46 Advocatenwet volgen, ook de kernwaarden waaronder deskundigheid en integriteit\n",
            "zal betrekken, zoals omschreven in art. 10a Advocatenwet. De tuchtrechter is overigens\n",
            "niet gebonden aan de gedragsregels maar die regels zijn, gezien het open karakter\n",
            "van de wettelijke normen, ter invulling van deze normen wel van belang.\n",
            "\n",
            "Ten aanzien van klachtonderdeel a)\n",
            "\n",
            "5.4 De raad stelt voorop dat uit de hiervoor genoemde maatstaf volgt dat een advocaat\n",
            "als opdrachtnemer regie behoort te voeren en op deskundige en duidelijke wijze met\n",
            "de cliënt moet blijven communiceren over de omvang en inhoud van de door de advocaat\n",
            "te verrichten werkzaamheden en de voortgang daarin. Gedragsregel 16 vereist dat belangrijke\n",
            "afspraken schriftelijk aan de cliënt worden bevestigd om misverstanden daarover achteraf\n",
            "met die cliënt te voorkomen. Het bewijsrisico daarvan ligt bij de advocaat.\n",
            "5.5 Naar het oordeel van de raad is verweerder tekortgeschoten in de behartiging van\n",
            "de belangen van klaagster in haar zaak met de gemeente en wel op de volgende gronden.\n",
            "5.6 Vaststaat dat de gemeente het bezwaar van klaagster heeft afgewezen wegens overschrijding\n",
            "van de vermogensgrens. Niet alleen ontbreekt dat besluit (en alle andere besluiten)\n",
            "bij de stukken, ook ontbreken e-mails van verweerder aan klaagster waarin hij haar\n",
            "vooraf heeft uitgelegd welke werkzaamheden hij voor haar kan en wil doen, hoe een\n",
            "bezwaarprocedure met hoorzitting verloopt en op welke wijze het bezwaar van klaagster\n",
            "het meest kansrijk kan zijn.\n",
            "5.7 Uit de stukken en de verklaringen ter zitting is de raad gebleken dat in het (ook\n",
            "ontbrekende) bezwaarschrift door verweerder is verwezen naar de waardering van de\n",
            "auto van klaagster, die door haar eigen garagehouder was gedaan. Dat verweerder voor\n",
            "indiening van het bezwaarschrift met klaagster heeft besproken welke specifieke informatie\n",
            "hij nodig had om haar bezwaar succesvol te laten zijn, kan de raad op grond van de\n",
            "stukken niet vaststellen. Door bij aanvang niet met klaagster te overleggen over een\n",
            "grotere kans op succes bij een autotaxatie door een erkende taxateur, zoals verweerder\n",
            "ter zitting heeft verklaard, heeft hij klaagster de mogelijkheid onthouden om daarvoor\n",
            "te kiezen en om daarvoor kosten te maken. Pas na de afwijzing van het bezwaar heeft\n",
            "verweerder in zijn e-mail van 22 juli 2021 aan klaagster voorgesteld om een uitgebreidere\n",
            "waardebepaling van haar auto te laten opstellen om een succesvoller beroep te hebben.\n",
            "Daarnaast is de raad niet gebleken welk medisch bewijs verweerder in de bezwaarprocedure\n",
            "heeft gebruikt, omdat ook die stukken ontbreken. Dit terwijl juist ook die informatie,\n",
            "zoals verweerder in genoemde e-mail aan klaagster schreef om beroep in te stellen,\n",
            "noodzakelijk was om aan te tonen dat zij vanwege haar gezondheidssituatie specifiek\n",
            "haar eigen auto moest blijven gebruiken in plaats van een (goedkopere) tweedehandsauto.\n",
            "Naar het oordeel van de raad heeft verweerder hierin geen regie genomen en daarmee\n",
            "de kans op afwijzing van het bezwaar vergroot. Het bezwaar is op 22 juli 2021 ook\n",
            "op deze gronden afgewezen. Ondanks de intentie van verweerder om die relevante informatie\n",
            "alsnog in beroep te gebruiken, is het zover niet gekomen omdat, zoals hierna zal blijken,\n",
            "verweerder de beroepstermijn heeft laten verstrijken.\n",
            "5.8 Op 17 februari 2021 heeft verweerder aan klaagster laten weten dat de hoorzitting\n",
            "op 8 maart 2021 zal plaatsvinden. Pas in de ochtend van 8 maart 2021 heeft verweerder\n",
            "als reactie op de e-mail van klaagster van 4 maart 2021 het tijdstip en de locatie\n",
            "van deze hoorzitting aan haar doorgegeven en dat was naar het oordeel van de raad\n",
            "rijkelijk laat. Dat deze informatie volgens verweerder vanwege interne miscommunicatie\n",
            "niet eerder aan klaagster was doorgestuurd, ontslaat hem immers niet van zijn eigen\n",
            "verantwoordelijkheid om in de gaten te houden of een cliënt tijdig op de hoogte wordt\n",
            "gesteld van dergelijke belangrijke informatie. Dat is in dit geval kennelijk niet\n",
            "door verweerder gedaan.\n",
            "5.9 Op grond van de stukken kan de raad evenmin vaststellen dat verweerder met instemming\n",
            "vooraf van klaagster niet mee zou gaan naar de hoorzitting op 8 maart 2021. Klaagster\n",
            "heeft tijdens de zitting van de raad daarover verklaard dat zij niet wist dat verweerder\n",
            "mee kon gaan naar de hoorzitting omdat hij haar dat niet had verteld. Had zij dat\n",
            "wel geweten en ook geweten hoe een hoorzitting verloopt, dan had zij wel tijdens de\n",
            "hoorzitting bijgestaan willen worden gezien haar grote financiële belang daarbij.\n",
            "Dat verweerder klaagster hierover voldoende heeft ingelicht, kan de raad dan ook niet\n",
            "vaststellen. Daar komt bij dat verweerder naar het oordeel van de raad een ontoelaatbaar\n",
            "risico heeft genomen door in zijn bezwaarschrift als zinsnede op te nemen dat hij\n",
            "alleen naar een hoorzitting zal komen als de gemeente dat vraagt. Dat is niet de werkwijze\n",
            "zoals van een zorgvuldig handelend advocaat verwacht mag worden.\n",
            "5.10 Vaststaat dat klaagster op eigen initiatief op 8 maart 2021 aan verweerder een\n",
            "medische verklaring over haar gezondheidssituatie ter onderbouwing van de noodzaak\n",
            "van haar auto en foto’s van schade aan haar auto heeft gestuurd ten behoeve van de\n",
            "hoorzitting bij de gemeente die dag. Naar het oordeel van de raad had het op de weg\n",
            "van verweerder gelegen om die stukken zelf bij klaagster op te vragen en tijdig aan\n",
            "de gemeente door te sturen, gezien de relevantie daarvan volgens klaagster. Verweerder\n",
            "heeft hierin naar het oordeel van de raad onvoldoende regie genomen en ook niet deskundig\n",
            "gehandeld. Hij had immers moeten weten dat een bezwaarschrift met bewijsstukken onderbouwd\n",
            "moet worden en dat aanvullende stukken tien dagen voor een hoorzitting bij de gemeente\n",
            "binnen moeten zijn. Verweerder heeft geen verklaring gegeven waarom hij die stukken\n",
            "pas op de dag van de hoorzitting naar de gemeente heeft gestuurd en dit in zijn optiek\n",
            "toen nog mocht. De omstandigheid dat de gemeente de aanvullende stukken op 8 maart\n",
            "2021 ook niet had ontvangen en klaagster die stukken niet meer tijdens de hoorzitting\n",
            "mocht afgeven omdat de termijn van tien dagen was verstreken, valt verweerder dan\n",
            "ook aan te rekenen.\n",
            "5.11 Ook had van verweerder verwacht mogen worden dat hij zelf de beslistermijn van\n",
            "de gemeente op het verzoek tot herziening van besluit II in de gaten had gehouden.\n",
            "In plaats daarvan is hij pas in actie gekomen nadat klaagster hem daarop heeft gewezen\n",
            "in haar e mail van 2 februari 2022.\n",
            "5.12 Op grond van het voorgaande is de raad van oordeel dat verweerder in zijn informatie-\n",
            "en zorgplicht richting klaagster op ernstige wijze is tekortgeschoten. Dat is niet\n",
            "zoals van een zorgvuldig handelend advocaat verwacht mag worden en is tuchtrechtelijk\n",
            "verwijtbaar richting klaagster. De raad zal dan ook klacht a) met alle subverwijten\n",
            "gegrond verklaren.\n",
            "\n",
            "Ten aanzien van klachtonderdelen b) en c)\n",
            "\n",
            "5.13 Naar het oordeel van de raad heeft verweerder ten aanzien van het tijdig instellen\n",
            "van beroep tegen besluit II niet de zorgvuldigheid jegens klaagster betracht die van\n",
            "hem verwacht mocht worden. Verweerder heeft ook erkend dat hij de beroepstermijn heeft\n",
            "laten verstrijken. Daarmee heeft zijn handelen niet voldaan aan de in de maatstaf\n",
            "bedoelde kwaliteitseisen. Alhoewel verweerder als reden voor zijn nalatig handelen\n",
            "heeft gewezen op interne miscommunicatie, zal voor verweerder duidelijk zijn dat hij\n",
            "daarvoor als behandelend advocaat volledig de verantwoordelijkheid droeg. Door zijn\n",
            "nalaten heeft hij dan ook in strijd gehandeld met zijn zorgplicht jegens klaagster\n",
            "in de zin van artikel 46 Advocatenwet en ook in strijd met de kernwaarde deskundigheid\n",
            "als bedoeld in artikel 10a lid 1 sub c Advocatenwet, en daarmee tuchtrechtelijk verwijtbaar\n",
            "richting klaagster.\n",
            "5.14 Daarnaast is de raad gebleken dat verweerder geen juiste informatie aan klaagster\n",
            "heeft gegeven en niet meteen duidelijk is geweest over zijn omissie en de gevolgen\n",
            "daarvan voor klaagster. Ook in het vervolg daarvan heeft hij klaagster niet deskundig\n",
            "begeleid. In zijn e mail van 11 september 2021 heeft hij aan klaagster laten weten\n",
            "dat het beroep nog niet was ingesteld terwijl op dat moment de beroepstermijn al definitief\n",
            "was verstreken. Dat bij klaagster daardoor de indruk is gewekt dat verweerder naast\n",
            "beroep ook herziening kon vragen, is gelet op de door verweerder gebruikte bewoordingen\n",
            "in genoemde e-mail, niet onbegrijpelijk. Door daarin aan klaagster te schrijven dat\n",
            "‘nog’ geen beroep was ingesteld, heeft verweerder die optie immers opengehouden en haar\n",
            "pas op 28 februari 2022 duidelijkheid gegeven. Daarnaast heeft hij klaagster in zijn\n",
            "e-mail van 11 september 2021 geadviseerd om herziening te vragen en daarop aangedrongen.\n",
            "Het had op de weg van verweerder gelegen om klaagster op zorgvuldige wijze in te lichten\n",
            "over de verschillen tussen deze twee procedures. Dat hij dat heeft gedaan, is door\n",
            "klaagster betwist en is de raad uit de stukken niet gebleken. Pas op 28 februari 2022\n",
            "heeft verweerder klaagster ingelicht dat hij melding van de beroepsfout bij zijn verzekeraar\n",
            "had gedaan. Ook daarover heeft hij klaagster, zoals hij ter zitting heeft verklaard,\n",
            "niet eerder ingelicht.\n",
            "5.15 De raad rekent het verweerder aan dat hij nog altijd volhardt in zijn standpunt\n",
            "dat hij met de herzieningsprocedure mogelijk een beter en sneller resultaat voor klaagster\n",
            "had kunnen bereiken dan met het instellen van beroep. Daarmee miskent hij dat de gemeente\n",
            "bij besluit III van 8 februari 2022 heeft bepaald dat het verzoek tot herziening werd\n",
            "afgewezen omdat geen sprake was van nieuw gebleken feiten of gewijzigde omstandigheden\n",
            "in de zin van artikel 4:6 Awb. Dat daarvan wel sprake was, heeft verweerder niet gesteld\n",
            "en is de raad uit de stukken ook niet gebleken. In zijn daaropvolgende e-mails aan\n",
            "klaagster, opgenomen in de feiten hiervoor, heeft hij haar vervolgens afwisselend\n",
            "geadviseerd om tegen besluit III bezwaar of beroep in te stellen. Daarin heeft hij\n",
            "klaagster niet alleen onjuist geadviseerd, de raad is ook niet gebleken dat hij klaagster\n",
            "alsnog op dat moment heeft uitgelegd hoe een herzieningsprocedure verloopt. Stukken\n",
            "daarvan ontbreken. \n",
            "5.16 Op grond van het voorgaande is de raad van oordeel dat verweerder de belangen\n",
            "van klaagster niet heeft behandeld zoals van een zorgvuldig advocaat mag worden verwacht,\n",
            "in het bijzonder door schending van zijn informatieplicht jegens klaagster. Daarvan\n",
            "treft verweerder een tuchtrechtelijk verwijt. De raad zal dan ook de klachtonderdelen\n",
            "b) en c) gegrond verklaren.\n",
            "\n",
            "6 MAATREGEL\n",
            "\n",
            "6.1 De raad komt tot gegrondverklaring van de gehele klacht. Er is sprake van een\n",
            "patroon van nalatigheid, waarbij verweerder de belangen van klaagster vanaf het begin\n",
            "tot zijn onttrekking volstrekt niet met voldoende zorg en deskundigheid heeft behartigd\n",
            "in de zin van artikel 46 Advocatenwet. Daarnaast heeft verweerder belangrijke afspraken\n",
            "of informatie niet schriftelijk aan klaagster bevestigd terwijl dat wel van hem verwacht\n",
            "mocht worden volgens gedragsregel 16. Daarnaast, en dat acht de raad zeer ernstig,\n",
            "heeft verweerder in strijd met de kernwaarden deskundigheid en integriteit gehandeld.\n",
            "Tijdens de zitting van de raad heeft verweerder verder geen inzicht in het foutieve\n",
            "van zijn handelen getoond, maar de oorzaken daarvan buiten zichzelf gezocht. De raad\n",
            "houdt bij oplegging van de maatregel daarnaast rekening met het recente tuchtrechtelijke\n",
            "verleden van verweerder waarbij ook deze kernwaarden aan de orde waren in gelijksoortige\n",
            "gevallen.\n",
            "6.2 Gelet op al deze omstandigheden is de raad van oordeel dat oplegging van een onvoorwaardelijke\n",
            "schorsing in de praktijkuitoefening voor de duur van vier weken noodzakelijk en passend\n",
            "is. \n",
            "\n",
            "7 GRIFFIERECHT EN KOSTENVEROORDELING\n",
            "\n",
            "7.1 Omdat de raad de klacht gegrond verklaart, moet verweerder op grond van artikel\n",
            "46e lid 5 Advocatenwet het door klaagster betaalde griffierecht van € 50,- aan haar\n",
            "vergoeden binnen vier weken nadat deze beslissing onherroepelijk is geworden. Klaagster\n",
            "geeft binnen twee weken na de datum van deze beslissing haar rekeningnummer schriftelijk\n",
            "aan verweerder door.\n",
            "7.2 Nu de raad een maatregel oplegt, zal de raad verweerder daarnaast op grond van\n",
            "artikel 48ac lid 1 Advocatenwet veroordelen in de volgende proceskosten:\n",
            "a) € 50,- aan forfaitaire reiskosten van klaagster,\n",
            "b) € 750,- kosten van de Nederlandse Orde van Advocaten en\n",
            "c) € 500,- kosten van de Staat.\n",
            "7.3 Verweerder moet het bedrag van € 50,- aan forfaitaire reiskosten binnen vier weken\n",
            "nadat deze beslissing onherroepelijk is geworden, betalen aan klaagster. Klaagster\n",
            "geeft binnen twee weken na de datum van deze beslissing haar rekeningnummer schriftelijk\n",
            "aan verweerder door.\n",
            "7.4 Verweerder moet het bedrag van € 1.250,- (het totaal van de in 7.2 onder b) en\n",
            "c) genoemde kosten) binnen vier weken nadat deze beslissing onherroepelijk is geworden,\n",
            "overmaken naar rekeningnummer lBAN: NL85 lNGB 0000 0790 00, BIC: INGBNL2A, Nederlandse\n",
            "Orde van Advocaten, Den Haag, onder vermelding van “kostenveroordeling raad van discipline\"\n",
            "en het zaaknummer.\n",
            "\n",
            "BESLISSING\n",
            "\n",
            "De raad van discipline:\n",
            "- verklaart de klacht in alle onderdelen gegrond;\n",
            "- legt aan verweerder de maatregel van schorsing in de praktijkuitoefening voor de\n",
            "duur van vier (4) weken op;\n",
            "- bepaalt dat de schorsing ingaat vier weken na het onherroepelijk worden van deze\n",
            "beslissing, met dien verstande dat:\n",
            "- de onderhavige schorsing pas ingaat na afloop van eerder onherroepelijk geworden\n",
            "schorsingen,\n",
            "- verschillende op dezelfde dag onherroepelijk geworden schorsingen niet tegelijkertijd\n",
            "maar na elkaar worden tenuitvoergelegd, en dat\n",
            "- de onderhavige schorsing niet ten uitvoer zal worden gelegd gedurende de tijd dat\n",
            "verweerder niet op het tableau staat ingeschreven;\n",
            "- veroordeelt verweerder tot betaling van het griffierecht van € 50,- aan klaagster,\n",
            "op de manier en binnen de termijn als hiervóór bepaald in 7.1;\n",
            "- veroordeelt verweerder tot betaling van de reiskosten van € 50,- aan klaagster,\n",
            "op de manier en binnen de termijn als hiervóór bepaald in 7.3;\n",
            "- veroordeelt verweerder tot betaling van de proceskosten van € 1.250,- aan de Nederlandse\n",
            "Orde van Advocaten, op de manier en binnen de termijn als hiervóór bepaald in 7.4;\n",
            "- bepaalt dat de in artikel 8a lid 3 Advocatenwet bedoelde termijn wordt verkort tot\n",
            "twee jaar.\n",
            "\n",
            "Aldus beslist door mr. M.H. van der Lecq, voorzitter, mrs. N.A. Heidanus, Y.N. Nijhuis,\n",
            "H.Q.N. Renon, M.J.J.M. van Roosmalen,  leden, bijgestaan door mr.  M.M. Goldhoorn\n",
            "als griffier en uitgesproken in het openbaar op 27 maart 2023.\n",
            "  \n",
            "griffier                                                                                                        \n",
            "voorzitter\n",
            " \n",
            "Verzonden d.d. 27 maart 2023\n",
            "\n",
            "Terug naar zoekresultaten\n",
            "\n",
            "Over deze website\n",
            "Contact\n",
            "English\n",
            "Help\n",
            "Zoeken\n",
            "\n",
            "Informatie hergebruiken\n",
            "Privacy en cookies\n",
            "Toegankelijkheid\n",
            "Sitemap\n",
            "\n",
            "Open data\n",
            "Linked Data Overheid\n",
            "PUC Open Data\n",
            "\n",
            "MijnOverheid.nl\n",
            "Rijksoverheid.nl\n",
            "Ondernemersplein.nl\n",
            "Werkenbijdeoverheid.nl\n",
            "\n",
            "<!--\n",
            "mvn.version=1.0.7\n",
            "git: git.commit.time=2023-02-28T12:08:32+0100, git.branch:master, git.tags:, git.commit.id.abbrev:982ec9d, git.dirty:false-->\n"
          ]
        }
      ]
    }
  ]
}