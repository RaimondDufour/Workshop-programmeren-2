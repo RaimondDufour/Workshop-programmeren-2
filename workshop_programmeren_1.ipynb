{
  "nbformat": 4,
  "nbformat_minor": 0,
  "metadata": {
    "colab": {
      "provenance": [],
      "authorship_tag": "ABX9TyOMNtiKwDytxHuia6TmFGXH",
      "include_colab_link": true
    },
    "kernelspec": {
      "name": "python3",
      "display_name": "Python 3"
    },
    "language_info": {
      "name": "python"
    }
  },
  "cells": [
    {
      "cell_type": "markdown",
      "metadata": {
        "id": "view-in-github",
        "colab_type": "text"
      },
      "source": [
        "<a href=\"https://colab.research.google.com/github/RaimondDufour/Workshop-programmeren-2/blob/main/workshop_programmeren_1.ipynb\" target=\"_parent\"><img src=\"https://colab.research.google.com/assets/colab-badge.svg\" alt=\"Open In Colab\"/></a>"
      ]
    },
    {
      "cell_type": "markdown",
      "source": [
        "##Programma:\n",
        "* We gaan beginnen!\n",
        "  - google naar \"colab\", url: http://colab.research.google.com\n",
        "  - open een nieuw notebook\n",
        "* Doel van de workshop: een eenvoudige webpagina scrapen (uitspraak?) en de tekst opslaan, analyseren etc."
      ],
      "metadata": {
        "id": "Ogo1h00OW0Iz"
      }
    },
    {
      "cell_type": "markdown",
      "source": [
        "##Python\n",
        "* Python wordt beschouwd als een goede \"instaptaal\", na Java de meest gebruikte computertaal. Ontwikkeld door een Nederlander! (Guido van Rossum);\n",
        "* Als je een taal kent, dan is het leren van de volgende taal makkelijker: ongeveer alles wat vandaag aan de orde komt geldt ook voor andere talen (alleen is de *syntaxis* anders);\n",
        "* Python: vereist is installatie van de taal en de IDE (Integrated Development Environment);\n",
        "* Python kijkt alleen naar de tekst, de IDE ook naar de syntaxis en helpt je om je eigen code zo goed mogelijk te schrijven en te begrijpen;\n",
        "* Colabs heeft beide: je zit op een computer van Google te programmeren.\n",
        "* je kunt Python en een IDE ook lokaal op je computer integreren (google: \"install anaconda windows\"). Goede IDE's zijn: Visual Studio Code en PyCharm (die komen met Anaconda).\n",
        "* Hulptroepen:\n",
        "    - Google is je beste vriend! (en vergeet youtube niet), zoek op python en onderwerp;\n",
        "    - Stackoverflow: http://stackoverflow.com \n",
        "    - sinds kort: ChatGPT: http://chat.openai.com/\n",
        "    - cheatsheets: https://github.com/ehmatthes/pcc/releases/download/v1.0.0/beginners_python_cheat_sheet_pcc_all.pdf\n",
        "\n",
        "### Python is doen doen doen: alleen de workshop meekijken is niet genoeg, codeer zelf mee!"
      ],
      "metadata": {
        "id": "P6MDjG_sXFki"
      }
    },
    {
      "cell_type": "markdown",
      "source": [
        "##Coderen\n",
        "* In Google Colabs: \n",
        "  - verander de naam van je bestand, maar houd de extensie .ipynb;\n",
        "  - maak een chunk aan: code of tekst. Tekst is een tekstverwerker, in de code wordt daadwerkelijk geprogrammeerd;\n",
        "\n",
        "* Tips:\n",
        "  - Wees altijd gestructureerd in je code: code wordt vaker gelezen dan gebruikt, goede code leest als poezie\n",
        "  - DRY: do not repeat yourself\n",
        "  - Gebruik sneltoetsen! \n",
        "  - als je je al iets comfortabeler voelt in het programmeren: zoek eens op youtube naar python tips: dit boost je leercurve."
      ],
      "metadata": {
        "id": "ogixCaPNXSXK"
      }
    },
    {
      "cell_type": "markdown",
      "source": [
        "## Je eerste code\n",
        "De code in een chunk wordt pas verwerkt als je de chunk \"afspeelt\": de play-knop of ctrl+enter. De eerste keer kan het even duren: de browser moet verbinding maken met de Google-computer (zie rechtsboven), de \"Runtime\". Loopt er iets vast? Start de Runtime opnieuw (zie menu Runtime)\n"
      ],
      "metadata": {
        "id": "E_OHIfDLYBNZ"
      }
    },
    {
      "cell_type": "code",
      "execution_count": 4,
      "metadata": {
        "colab": {
          "base_uri": "https://localhost:8080/"
        },
        "id": "4Ps5ovm-S-kP",
        "outputId": "12fce469-2edf-4872-ee95-d088b0f7b71d"
      },
      "outputs": [
        {
          "output_type": "stream",
          "name": "stdout",
          "text": [
            "hallo wereld, dit is poging 2\n"
          ]
        }
      ],
      "source": [
        "#Hoe krijg ik iets op mijn scherm? \n",
        "print(\"hallo wereld, dit is poging 2\")\n"
      ]
    },
    {
      "cell_type": "markdown",
      "source": [
        "## Een paar weetjes:\n",
        "* In de code-chunks vindt het programmeren plaats;\n",
        "* *uitcommentarieren*: het plaatsen van een opmerking in de code-chunk of het uitschakelen van een code-regel (ctrl+/);\n",
        "* Je kunt code per chunk afspelen. Dat is handig bij het *debuggen*: het oplossen van fouten in code;\n",
        "* als er een fout in de code staat, dan stopt de uitvoering bij die fout;\n",
        "* variabelen zijn zichtbaar aan de linkerkant bij {x};\n",
        "* het uitvoeren van code gebeurt op de achtergrond, je moet de computer instrueren om tijdens het uitvoeren iets te laten zien;\n",
        "* printen: geef output weer in de console: vooral belangrijk voor volgen van de code tijdens de uitvoering. "
      ],
      "metadata": {
        "id": "-GExN8dtaP3p"
      }
    },
    {
      "cell_type": "code",
      "source": [
        "# ik kan hier schrijven wat ik wil. Met dit commando schrijf je iets in de console:\n",
        "# print(\"Hallo Wereld!\") # \n",
        "\n",
        "#Een rode kringel: dat betekent een fout. Hover over de kringel en je krijgt de foutmelding. \n",
        "print(\"2 + 5\") # Dit noemen we ook wel een string\n",
        "print(2 + 5)\n",
        "#2 + 5\n",
        "3+8+6+4*8"
      ],
      "metadata": {
        "colab": {
          "base_uri": "https://localhost:8080/"
        },
        "id": "AiO6o03QWlS3",
        "outputId": "21ab0a4f-110e-4692-ed12-be43bb1f423b"
      },
      "execution_count": 11,
      "outputs": [
        {
          "output_type": "stream",
          "name": "stdout",
          "text": [
            "2 + 5\n",
            "7\n"
          ]
        },
        {
          "output_type": "execute_result",
          "data": {
            "text/plain": [
              "49"
            ]
          },
          "metadata": {},
          "execution_count": 11
        }
      ]
    },
    {
      "cell_type": "markdown",
      "source": [
        "# Coderen\n"
      ],
      "metadata": {
        "id": "kqhAoBvYcRUt"
      }
    },
    {
      "cell_type": "markdown",
      "source": [
        "## Variabelen\n",
        "Variabelen zijn stukjes geheugen in de computer die een naam hebben. \n",
        "\n",
        "\n",
        "\n"
      ],
      "metadata": {
        "id": "m4oqLdP3cTRw"
      }
    },
    {
      "cell_type": "code",
      "source": [
        "# De eerste variabele is een string: een stukje tekst. Die staan tussen enkele of dubbele aanhalingstekens: \"\" of ''. \n",
        "a = \"Hallo wereld!\"\n",
        "# Een string mag ook lang zijn! \n",
        "print(a)\n",
        "b=a[0:5]\n",
        "\n",
        "print(b)\n",
        "\n"
      ],
      "metadata": {
        "colab": {
          "base_uri": "https://localhost:8080/"
        },
        "id": "2W801mUJWt-a",
        "outputId": "7bd7c161-162e-4cbc-d59e-3dd19fb60668"
      },
      "execution_count": 24,
      "outputs": [
        {
          "output_type": "stream",
          "name": "stdout",
          "text": [
            "Hallo wereld!\n",
            "Hallo\n"
          ]
        }
      ]
    },
    {
      "cell_type": "code",
      "source": [
        "# De tweede variabele is een integer (int): een getal zonder komma:\n",
        "b = 5\n",
        "print(b)"
      ],
      "metadata": {
        "colab": {
          "base_uri": "https://localhost:8080/"
        },
        "id": "E-3PcfJnWuGV",
        "outputId": "0aa7e2c7-1c77-4310-d35d-689743d6cc47"
      },
      "execution_count": 45,
      "outputs": [
        {
          "output_type": "stream",
          "name": "stdout",
          "text": [
            "5\n"
          ]
        }
      ]
    },
    {
      "cell_type": "code",
      "source": [
        "# De derde variabele is een float:\n",
        "c = 3.1415\n",
        "# Let op: schrijf integers en floats niet tussen aanhalingstekens! (want dan denkt de computer dat het een string is)\n",
        "print(c)\n",
        "\n",
        "d= c*c\n",
        "print(round(d, 3))\n",
        "\n",
        "# Je kunt vragen om het type variabele:\n",
        "print(type(a))\n",
        "print(type(b))\n",
        "print(type(c))\n",
        "\n",
        "# je kunt variabelen aanpassen\n",
        "b = b + 5\n",
        "print(b)\n",
        "# of\n",
        "d = b + c\n",
        "print(d)\n",
        "\n"
      ],
      "metadata": {
        "colab": {
          "base_uri": "https://localhost:8080/"
        },
        "id": "IOuu1TOdfIMJ",
        "outputId": "2863d938-2a89-4422-dad9-e844b0807ea0"
      },
      "execution_count": 46,
      "outputs": [
        {
          "output_type": "stream",
          "name": "stdout",
          "text": [
            "3.1415\n",
            "9.869\n",
            "<class 'str'>\n",
            "<class 'int'>\n",
            "<class 'float'>\n",
            "10\n",
            "13.1415\n"
          ]
        }
      ]
    },
    {
      "cell_type": "code",
      "source": [
        "# Strings optellen geeft 'aan elkaar plakken': concatenate \n",
        "# Integers en floats opteller geeft de som.\n",
        "# Voorbeeld:\n",
        "print(a + \" En dit is de tweede string.\") "
      ],
      "metadata": {
        "colab": {
          "base_uri": "https://localhost:8080/"
        },
        "id": "JDM16HijhRLF",
        "outputId": "8c230e11-924d-4727-cbf0-709cb2ed05f4"
      },
      "execution_count": 47,
      "outputs": [
        {
          "output_type": "stream",
          "name": "stdout",
          "text": [
            "Hallo wereld! En dit is de tweede string.\n"
          ]
        }
      ]
    },
    {
      "cell_type": "code",
      "source": [
        "# Dit werkt niet:\n",
        "# print(a + b)\n",
        "\n",
        "# Dit werkt wel:\n",
        "print(a + str(b))"
      ],
      "metadata": {
        "colab": {
          "base_uri": "https://localhost:8080/"
        },
        "id": "xi1wp-Z0hdpm",
        "outputId": "8028a3ba-0b41-4ce8-f2bb-edbe71b8352c"
      },
      "execution_count": 50,
      "outputs": [
        {
          "output_type": "stream",
          "name": "stdout",
          "text": [
            "Hallo wereld!10\n"
          ]
        }
      ]
    },
    {
      "cell_type": "code",
      "source": [
        "# Er zijn nog veel meer ingebouwde variabelen\n",
        "# veel fouten ontstaan doordat je het verkeerde datatype gebruikt! \n",
        "# Variabelen zijn dus zichtbaar aan de linkerkant bij {x}"
      ],
      "metadata": {
        "id": "JhXGb5foh8sp"
      },
      "execution_count": null,
      "outputs": []
    },
    {
      "cell_type": "markdown",
      "source": [
        "## Oefening: converteren.\n",
        "* een variabele x zet je om naar een string: str(x)\n",
        "* een variabele x zet je om naar een integer: int(x)\n",
        "* een variabele x zet je om naar een float: float(x)\n",
        "\n",
        "**probeer:**\n",
        "* een int om te zetten naar een string (variabele b), noem hem variabele e;\n",
        "* een float om te zetten naar een int (variabele c), noem hem variabele f;\n",
        "* een string om te zetten naar een int (een eigen variabele), noem hem variabele g;"
      ],
      "metadata": {
        "id": "D5TRr8ociND8"
      }
    },
    {
      "cell_type": "code",
      "source": [
        "e = str(5)\n",
        "e = str(b)\n",
        "\n",
        "f = int(d)\n",
        "print(f)\n",
        "\n",
        "g = int(\"4\")\n",
        "print(g)\n"
      ],
      "metadata": {
        "colab": {
          "base_uri": "https://localhost:8080/"
        },
        "id": "mdz-y8PViwKq",
        "outputId": "573b7a2a-c533-411a-d352-ba636e20a87c"
      },
      "execution_count": 67,
      "outputs": [
        {
          "output_type": "stream",
          "name": "stdout",
          "text": [
            "13\n",
            "4\n"
          ]
        }
      ]
    },
    {
      "cell_type": "code",
      "source": [
        "# Nog even terug naar de string:\n",
        "tekst = \"Hoera dit is string 1\"\n",
        "\n",
        "# het eerste teken is: \n",
        "print(tekst[0])\n",
        "# want we tellen vanaf 0!\n",
        "\n",
        "# de eerste vijf tekens \n",
        "print(tekst[0:5])\n",
        "# de laatste:\n",
        "print(tekst[-5:])\n",
        "\n",
        "subtekst = tekst[3:10]\n",
        "print(subtekst)\n",
        "\n",
        "lengteTekst = len(tekst)\n",
        "print(lengteTekst)\n",
        "\n",
        "tekstTwee = \"Dit is de tweede zin\"\n",
        "lengteTekstTwee = len(tekstTwee)\n",
        "print(lengteTekstTwee)\n",
        "\n",
        "# Hoe lang zijn de twee zinnen samen?\n",
        "print(lengteTekst + lengteTekstTwee)\n",
        "\n",
        "a = True\n",
        "b = False\n",
        "print(a)\n",
        "print(b)"
      ],
      "metadata": {
        "colab": {
          "base_uri": "https://localhost:8080/"
        },
        "id": "lmSzsAPFktJJ",
        "outputId": "9bb574c4-7585-498d-abef-ee39b14c3857"
      },
      "execution_count": 84,
      "outputs": [
        {
          "output_type": "stream",
          "name": "stdout",
          "text": [
            "H\n",
            "Hoera\n",
            "ing 1\n",
            "ra dit \n",
            "21\n",
            "20\n",
            "41\n",
            "True\n",
            "False\n"
          ]
        }
      ]
    },
    {
      "cell_type": "markdown",
      "source": [
        "## Loops: de For-loop en de While-loop: iteraties\n",
        "De \"for\" in de for-loop zou je kunnen vertalen als: voor elke eenheid in een verzameling: doe iets. \n",
        "\n",
        "\"while\" zou je kunnen vertalen als: zolang als..."
      ],
      "metadata": {
        "id": "0K3xSEiOmjcQ"
      }
    },
    {
      "cell_type": "code",
      "source": [
        "print(\"---------FOR:--------------\\n\")\n",
        "\n",
        "aantal = len(tekstTwee)\n",
        "teller = 0\n",
        "for x in range(0, 30):\n",
        "        print(teller)\n",
        "        teller = teller + 1\n",
        "print(\"het werkt! De teller staat op:\")\n",
        "print(teller)\n",
        "\n",
        "# Wat valt hier op? \n",
        "# De telling: van 0 tot 9 ipv van 1 tot 10\n",
        "# Het inspringen: zolang er ingesprongen is, zit je in de iteratie. \n",
        "# de naam \"eenheid\" mag je zelf kiezen: mag ook een woord zijn (maar vaak wordt i gebruikt bij een getal). \n",
        "# de tekens \"\\n\" staan voor nieuwe alinea. (\\r staat voor nieuwe regel, \\t staat voor tab, \\s staat (ook) voor spatie)\n",
        "# met 'break' verlaat je vroegtijdig de loop"
      ],
      "metadata": {
        "colab": {
          "base_uri": "https://localhost:8080/"
        },
        "id": "aMi61nRGmyQE",
        "outputId": "99691aaf-b46b-4ccd-fdbb-1d7a2718c38b"
      },
      "execution_count": 114,
      "outputs": [
        {
          "output_type": "stream",
          "name": "stdout",
          "text": [
            "---------FOR:--------------\n",
            "\n",
            "0\n",
            "1\n",
            "2\n",
            "3\n",
            "4\n",
            "5\n",
            "6\n",
            "7\n",
            "8\n",
            "9\n",
            "het werkt! De teller staat op:\n",
            "10\n"
          ]
        }
      ]
    }
  ]
}