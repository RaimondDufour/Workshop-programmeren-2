{
  "nbformat": 4,
  "nbformat_minor": 0,
  "metadata": {
    "colab": {
      "provenance": [],
      "authorship_tag": "ABX9TyMHW3XQi/Hf76PeS5VsWHd2",
      "include_colab_link": true
    },
    "kernelspec": {
      "name": "python3",
      "display_name": "Python 3"
    },
    "language_info": {
      "name": "python"
    }
  },
  "cells": [
    {
      "cell_type": "markdown",
      "metadata": {
        "id": "view-in-github",
        "colab_type": "text"
      },
      "source": [
        "<a href=\"https://colab.research.google.com/github/RaimondDufour/Workshop-programmeren-2/blob/main/workshop_programmeren_3.ipynb\" target=\"_parent\"><img src=\"https://colab.research.google.com/assets/colab-badge.svg\" alt=\"Open In Colab\"/></a>"
      ]
    },
    {
      "cell_type": "markdown",
      "source": [
        "##Wat hebben wij vorige week gedaan?\n",
        "\n",
        "* Vergelijkingsoperatoren;\n",
        "* If-statements;\n",
        "* Lijsten;\n",
        "* Tekst-bewerkingen: \n",
        "    * Eenvoudige functies voor strings: tellen, zoeken, vervangen, substrings, zinnen aanpassen, maar laat je fantasie de vrije loop! (google naar python string functions);\n",
        "    * regular expressions (regex);\n",
        "* Een webpagina scrapen:\n",
        "    * de tekst \"binnenhalen\";\n",
        "    * de tekst opschonen met behulp van regular expressions.\n",
        "    "
      ],
      "metadata": {
        "id": "ADhJbJIoLaOo"
      }
    },
    {
      "cell_type": "markdown",
      "source": [
        "## Wat gaan wij vandaag doen?\n",
        "\n",
        "* Bestand opslaan (en weer openen) in Google Colabs;\n",
        "* Een paar uitspraken scrapen en in een lijst zetten;\n",
        "* Natural Language Processing (NLP) ofwel text mining"
      ],
      "metadata": {
        "id": "kRyXMedkLvjb"
      }
    },
    {
      "cell_type": "markdown",
      "source": [
        "## Opslaan als bestand (en dan weer openen)\n",
        "\n",
        "Er zijn verschillende manieren, maar de beste manier is om een pandas dataframe op te slaan als csv-bestand (comma separated values)."
      ],
      "metadata": {
        "id": "Lpip-AYOMJOW"
      }
    },
    {
      "cell_type": "code",
      "source": [
        "from google.colab import drive\n",
        "drive.mount('/content/drive')\n",
        "%cd /content/sample_data/"
      ],
      "metadata": {
        "id": "LCRv7bu-MiZW"
      },
      "execution_count": null,
      "outputs": []
    },
    {
      "cell_type": "code",
      "execution_count": 2,
      "metadata": {
        "id": "Qzbuz-HbKHgH"
      },
      "outputs": [],
      "source": [
        "import pandas as pd\n",
        "df = pd.read_csv('https://raw.githubusercontent.com/RaimondDufour/workshopProgrammeren-/main/overwegingen.csv')\n",
        "lijst2 = df.values.tolist()\n",
        "lijst = []\n",
        "for i in lijst2:\n",
        "    overwegingen = i[0].strip()\n",
        "    lijst.append(overwegingen)"
      ]
    },
    {
      "cell_type": "code",
      "source": [
        "lijst2 = [2,3,4,5,6]\n",
        "# Lijst omzetten naar pandas dataframe:\n",
        "lijstDF = pd.DataFrame(lijst2)\n",
        "\n",
        "# opslaan dataframe:\n",
        "lijstDF.to_csv('bestandsnaam.csv', encoding = 'utf-8-sig', index=False)\n",
        "\n",
        "# Openen: \n",
        "df = pd.read_csv('bestandsnaam.csv')\n",
        "\n",
        "# Andere bestandssoorten:\n",
        "# txt (.txt)\n",
        "# json (.json)\n",
        "# xml (.xml)\n",
        "# excel (.xlsm)"
      ],
      "metadata": {
        "id": "Fc1gWCCDNYps"
      },
      "execution_count": null,
      "outputs": []
    },
    {
      "cell_type": "markdown",
      "source": [
        "## Een paar uitspraken scrapen en in een lijst zetten\n",
        "\n",
        "Wij kunnen natuurlijk naar uitspraken.rechtspraak.nl gaan en daar de uitspraken zoeken die we willen hebben. \n",
        "\n",
        "Maar we kunnen ook een \"api\" bevragen: een Application Programming Interface\n",
        "We geven een url in, en we krijgen code terug. Dat is veel snellere en gestructureerdere data-uitwisseling!\n",
        "\n",
        "De api's voor de rechtspraak zijn:\n",
        "een lijst met de laatste uitspraken: \n",
        "\n",
        "https://data.rechtspraak.nl/uitspraken/zoeken?modified=2023-04-03&max=10 \n",
        "\n",
        "\n",
        "en de uitspraak per ecli=nummer:\n",
        "\n",
        "https://uitspraken.rechtspraak.nl/api/document/?id=ECLI:NL:RBZWB:2023:2036\n",
        "\n",
        "Je hoeft dan alleen maar de laatste gegevens van de url aan te passen om de juiste informatie terug te krijgen."
      ],
      "metadata": {
        "id": "UsSiZTIpOSjy"
      }
    },
    {
      "cell_type": "code",
      "source": [
        "# Webpagina downloaden:\n",
        "from urllib import request\n",
        "url = \"https://data.rechtspraak.nl/uitspraken/zoeken?modified=2023-04-03&max=10\"\n",
        "resp = request.urlopen(url)\n",
        "html = resp.read().decode(\"UTF-8\")\n",
        "print(html)\n",
        "# Hij geeft hier xml-code terug! Bij interesse: bekijk de code op: \n",
        "https://codebeautify.org/xmlviewer"
      ],
      "metadata": {
        "colab": {
          "base_uri": "https://localhost:8080/"
        },
        "id": "Zs6j_MiAP28R",
        "outputId": "f7a8287c-d4d0-4967-8a61-f857ac5edb39"
      },
      "execution_count": 3,
      "outputs": [
        {
          "output_type": "stream",
          "name": "stdout",
          "text": [
            "<?xml version=\"1.0\" encoding=\"utf-8\"?><feed xmlns=\"http://www.w3.org/2005/Atom\"><title type=\"text\">Rechtspraak Open Data (Uitspraken)</title><subtitle type=\"text\">Aantal gevonden ECLI's: 748</subtitle><id>uuid:a1cd3bca-b00b-439c-9f34-24c510cce02d;id=9981</id><rights type=\"text\">Copyright 2023 Rechtspraak.</rights><updated>2023-04-03T19:52:37+02:00</updated><entry><id>ECLI:NL:RBGEL:2023:784</id><title type=\"text\">ECLI:NL:RBGEL:2023:784, Rechtbank Gelderland, 22-02-2023, C/05/400106 / HA ZA 22-85</title><summary type=\"text\">Beëindiging bankrelatie met particulier wegens ongebruikelijke transacties (artikel 5 lid 3 Wwft jo. 35 ABV). Vordering tot vernietiging artikel 2 en 3 Algemene bankvoorwaarden afgewezen. Algemene voorwaarden niet oneerlijk of onredelijk bezwarend. Opzegging bankrelatie niet naar maatstaven van redelijkheid en billijkheid onaanvaardbaar (artikel 6:248 lid 2 BW).</summary><updated>2023-04-03T04:00:40Z</updated><link rel=\"alternate\" type=\"text/html\" href=\"https://uitspraken.rechtspraak.nl/InzienDocument?id=ECLI:NL:RBGEL:2023:784\" /></entry><entry><id>ECLI:NL:GHAMS:2007:BD8223</id><title type=\"text\">ECLI:NL:GHAMS:2007:BD8223, Gerechtshof Amsterdam, 11-10-2007, 982/06</title><summary type=\"text\">Huur woonruimte. Huurder moet zelf aangebrachte voorzieningen aan sociale huurwoning weer verwijderen. Indien een verbouwing dusdanig ingrijpend is dat de woning daarna niet meer kan gelden als een woning in de sociale huursector, wordt de verhuurbaarheid van het gehuurde geschaad. Ontruiming woning.</summary><updated>2023-04-03T04:01:40Z</updated><link rel=\"alternate\" type=\"text/html\" href=\"https://uitspraken.rechtspraak.nl/InzienDocument?id=ECLI:NL:GHAMS:2007:BD8223\" /></entry><entry><id>ECLI:NL:RBAMS:2023:1391</id><title type=\"text\">ECLI:NL:RBAMS:2023:1391, Rechtbank Amsterdam, 10-03-2023, 10016832 CV EXPL 22-9802</title><summary type=\"text\">Een man die een kamer in zijn huurwoning in Amsterdam verhuurde moet de inboedel die hij onder zich hield omdat de kamerhuur niet zou zijn betaald, teruggeven.</summary><updated>2023-04-03T04:01:42Z</updated><link rel=\"alternate\" type=\"text/html\" href=\"https://uitspraken.rechtspraak.nl/InzienDocument?id=ECLI:NL:RBAMS:2023:1391\" /></entry><entry><id>ECLI:NL:RBMNE:2023:1199</id><title type=\"text\">ECLI:NL:RBMNE:2023:1199, Rechtbank Midden-Nederland, 14-03-2023, UTR 21/4892</title><summary type=\"text\">WOZ (woning). Huurder. Geen procesbelang. Niet-ontvankelijk.</summary><updated>2023-04-03T04:01:44Z</updated><link rel=\"alternate\" type=\"text/html\" href=\"https://uitspraken.rechtspraak.nl/InzienDocument?id=ECLI:NL:RBMNE:2023:1199\" /></entry><entry><id>ECLI:NL:GHARL:2023:2321</id><title type=\"text\">ECLI:NL:GHARL:2023:2321, Gerechtshof Arnhem-Leeuwarden, 14-03-2023, 200.304.909/01</title><summary type=\"text\">Onderhoudsplicht van de man voor de vrouw eindigt door grievend gedrag van de vrouw. Het hof stelt een terugbetalingsverplichting vast en veroordeelt de vrouw in de proceskosten.</summary><updated>2023-04-03T06:05:51Z</updated><link rel=\"alternate\" type=\"text/html\" href=\"https://uitspraken.rechtspraak.nl/InzienDocument?id=ECLI:NL:GHARL:2023:2321\" /></entry><entry><id>ECLI:NL:RBDHA:2022:10430</id><title type=\"text\">ECLI:NL:RBDHA:2022:10430, Rechtbank Den Haag, 05-07-2022, C/09/617484 FA RK 21-6027</title><summary type=\"text\">Partneralimentatie, behoeftigheid en verdiencapaciteit, aandeel ouders in kosten jongmeerderjarige kinderen, neveninkomsten ook van belang bij bepaling draagkracht, werkelijke overige eigenaarslasten, geen proceskostenveroordeling.</summary><updated>2023-04-03T06:06:21Z</updated><link rel=\"alternate\" type=\"text/html\" href=\"https://uitspraken.rechtspraak.nl/InzienDocument?id=ECLI:NL:RBDHA:2022:10430\" /></entry><entry><id>ECLI:NL:RBROT:2023:2543</id><title type=\"text\">ECLI:NL:RBROT:2023:2543, Rechtbank Rotterdam, 24-03-2023, C/10/653584 / KG ZA 23-167</title><summary type=\"text\">KG. Uitsluitend gebruik van huurwoning na einde relatie. Minderjarige kinderen in het spel. Na een belangenafweging wordt de man bevolen de woning te verlaten en te ontruimen.</summary><updated>2023-04-03T06:06:28Z</updated><link rel=\"alternate\" type=\"text/html\" href=\"https://uitspraken.rechtspraak.nl/InzienDocument?id=ECLI:NL:RBROT:2023:2543\" /></entry><entry><id>ECLI:NL:RBMNE:2023:1394</id><title type=\"text\">ECLI:NL:RBMNE:2023:1394, Rechtbank Midden-Nederland, 05-03-2023, C/16/524359 / HA ZA 21-473</title><summary type=\"text\"></summary><updated>2023-04-03T07:52:57Z</updated><link rel=\"alternate\" type=\"text/html\" href=\"https://uitspraken.rechtspraak.nl/InzienDocument?id=ECLI:NL:RBMNE:2023:1394\" /></entry><entry><id>ECLI:NL:RBZWB:2023:2036</id><title type=\"text\">ECLI:NL:RBZWB:2023:2036, Rechtbank Zeeland-West-Brabant, 29-03-2023, AWB- 21_3730</title><summary type=\"text\">WIA</summary><updated>2023-04-03T08:00:27Z</updated><link rel=\"alternate\" type=\"text/html\" href=\"https://uitspraken.rechtspraak.nl/InzienDocument?id=ECLI:NL:RBZWB:2023:2036\" /></entry><entry><id>ECLI:NL:RBZWB:2023:2038</id><title type=\"text\">ECLI:NL:RBZWB:2023:2038, Rechtbank Zeeland-West-Brabant, 29-03-2023, AWB- 22_1515</title><summary type=\"text\">ZW</summary><updated>2023-04-03T08:00:30Z</updated><link rel=\"alternate\" type=\"text/html\" href=\"https://uitspraken.rechtspraak.nl/InzienDocument?id=ECLI:NL:RBZWB:2023:2038\" /></entry></feed>\n"
          ]
        }
      ]
    },
    {
      "cell_type": "code",
      "source": [
        "#De ecli-nummers eruit halen: \n",
        "import re\n",
        "eclilijst = re.findall(\"ECLI:NL:.{2,10}:\\d{4}:[A-Z0-9]{1,6}\", html)\n",
        "for uitspraak in eclilijst:\n",
        "    print(uitspraak)"
      ],
      "metadata": {
        "id": "Kj0tEmLSQe3b"
      },
      "execution_count": null,
      "outputs": []
    },
    {
      "cell_type": "code",
      "source": [
        "# Lijst ontdubbelen: (gebruik google om deze functie te vinden!)\n",
        "ecliUniekeLijst = list(dict.fromkeys(eclilijst))\n",
        "\n",
        "for ecli in ecliUniekeLijst:\n",
        "    print(ecli)"
      ],
      "metadata": {
        "colab": {
          "base_uri": "https://localhost:8080/"
        },
        "id": "auvhQs5RQtk6",
        "outputId": "983305b0-c960-4ccf-b3ad-91dff36c4866"
      },
      "execution_count": 5,
      "outputs": [
        {
          "output_type": "stream",
          "name": "stdout",
          "text": [
            "ECLI:NL:RBGEL:2023:784\n",
            "ECLI:NL:GHAMS:2007:BD8223\n",
            "ECLI:NL:RBAMS:2023:1391\n",
            "ECLI:NL:RBMNE:2023:1199\n",
            "ECLI:NL:GHARL:2023:2321\n",
            "ECLI:NL:RBDHA:2022:10430\n",
            "ECLI:NL:RBROT:2023:2543\n",
            "ECLI:NL:RBMNE:2023:1394\n",
            "ECLI:NL:RBZWB:2023:2036\n",
            "ECLI:NL:RBZWB:2023:2038\n"
          ]
        }
      ]
    },
    {
      "cell_type": "code",
      "source": [
        "# alle uitspraken opvragen:\n",
        "uitsprakenlijst = []\n",
        "for ecli in ecliUniekeLijst:\n",
        "    url = \"https://uitspraken.rechtspraak.nl/api/document/?id=\" + ecli\n",
        "    resp = request.urlopen(url)\n",
        "    html = resp.read().decode(\"UTF-8\")\n",
        "    toevoeging = [ecli, html]\n",
        "    uitsprakenlijst.append(toevoeging)\n",
        "# Per uitspraak wordt json-code teruggegeven. Bekijk deze code op: https://codebeautify.org/jsonviewer"
      ],
      "metadata": {
        "id": "QCE2PfpOQ1-x"
      },
      "execution_count": 6,
      "outputs": []
    },
    {
      "cell_type": "code",
      "source": [
        "print(uitsprakenlijst[0])"
      ],
      "metadata": {
        "colab": {
          "base_uri": "https://localhost:8080/"
        },
        "id": "QBY3v0aTRbt2",
        "outputId": "05bcb418-4ab5-483c-c3dc-01d7b628db8d"
      },
      "execution_count": 7,
      "outputs": [
        {
          "output_type": "stream",
          "name": "stdout",
          "text": [
            "['ECLI:NL:RBGEL:2023:784', '{\"WetsverwijzingLinks\":[],\"DeepLink\":\"https://deeplink.rechtspraak.nl/uitspraak?id=ECLI:NL:RBGEL:2023:784\",\"CitaatText\":\"Rechtbank Gelderland 22 februari 2023, ECLI:NL:RBGEL:2023:784\",\"InhoudsindicatieTekst\":\"<div class=\\\\\"inhoudsindicatie\\\\\"><p>Beëindiging bankrelatie met particulier wegens ongebruikelijke transacties (artikel 5 lid 3 Wwft jo. 35 ABV). Vordering tot vernietiging artikel 2 en 3 Algemene bankvoorwaarden afgewezen. Algemene voorwaarden niet oneerlijk of onredelijk bezwarend. Opzegging bankrelatie niet naar maatstaven van redelijkheid en billijkheid onaanvaardbaar (artikel 6:248 lid 2 BW).</p></div>\",\"UitspraakTekst\":\"<div class=\\\\\"uitspraak\\\\\">\\\\r\\\\n  <div class=\\\\\"uitspraak-info\\\\\">\\\\r\\\\n    <p>\\\\r\\\\n      <span class=\\\\\"inlinemediaobject \\\\\">\\\\r\\\\n        <span class=\\\\\"imageobject\\\\\">\\\\r\\\\n          <img src=\\\\\"/image/?id=26b379a1-3670-4383-aa79-f785552aae5e\\\\\" alt=\\\\\"\\\\\" width=\\\\\"13\\\\\" height=\\\\\"2\\\\\" />\\\\r\\\\n        </span>\\\\r\\\\n      </span>\\\\r\\\\n      <span class=\\\\\"inlinemediaobject \\\\\">\\\\r\\\\n        <span class=\\\\\"imageobject\\\\\">\\\\r\\\\n          <img src=\\\\\"/image/?id=8644c9cf-475f-4301-a7d0-a61de9229827\\\\\" alt=\\\\\"\\\\\" width=\\\\\"523\\\\\" height=\\\\\"2\\\\\" />\\\\r\\\\n        </span>\\\\r\\\\n      </span>vonnis</p>\\\\r\\\\n    <h2 name=\\\\\"ID0EIB\\\\\" style=\\\\\"font-weight:bold;\\\\\" class=\\\\\"bridgehead\\\\\">RECHTBANK GELDERLAND</h2>\\\\r\\\\n    \\\\r\\\\n    <div class=\\\\\"parablock\\\\\">\\\\r\\\\n      <p>Team kanton en handelsrecht</p>\\\\r\\\\n    </div><span class=\\\\\"linebreak1\\\\\"> </span>\\\\r\\\\n    \\\\r\\\\n    <div class=\\\\\"parablock\\\\\">\\\\r\\\\n      <p>Zittingsplaats Arnhem</p>\\\\r\\\\n    </div><span class=\\\\\"linebreak1\\\\\"> </span>\\\\r\\\\n    \\\\r\\\\n    <div class=\\\\\"parablock\\\\\">\\\\r\\\\n      <p>zaaknummer / rolnummer: C/05/400106 / HA ZA 22-85</p>\\\\r\\\\n    </div><span class=\\\\\"linebreak1\\\\\"> </span>\\\\r\\\\n    \\\\r\\\\n    <div class=\\\\\"parablock\\\\\">\\\\r\\\\n      <p>\\\\r\\\\n        <span class=\\\\\"emphasis\\\\\" style=\\\\\"font-weight:bold;\\\\\">Vonnis van 22 februari 2023</span>\\\\r\\\\n      </p>\\\\r\\\\n    </div><span class=\\\\\"linebreak1\\\\\"> </span>\\\\r\\\\n    \\\\r\\\\n    <div class=\\\\\"parablock\\\\\">\\\\r\\\\n      <p>in de zaak van</p>\\\\r\\\\n    </div><span class=\\\\\"linebreak1\\\\\"> </span>\\\\r\\\\n    \\\\r\\\\n    <div class=\\\\\"parablock\\\\\">\\\\r\\\\n      <p>\\\\r\\\\n        <span class=\\\\\"emphasis\\\\\" style=\\\\\"font-weight:bold;\\\\\">\\\\r\\\\n          [eiser]\\\\r\\\\n        </span>,</p>\\\\r\\\\n      <p>wonende te [woonplaats] ,</p>\\\\r\\\\n      <p>eiser,</p>\\\\r\\\\n      <p>advocaat mr. R.H.J.M. Silvertand te Waalwijk,</p>\\\\r\\\\n    </div><span class=\\\\\"linebreak1\\\\\"> </span>\\\\r\\\\n    \\\\r\\\\n    <div class=\\\\\"parablock\\\\\">\\\\r\\\\n      <p>tegen</p>\\\\r\\\\n    </div><span class=\\\\\"linebreak1\\\\\"> </span>\\\\r\\\\n    \\\\r\\\\n    <div class=\\\\\"parablock\\\\\">\\\\r\\\\n      <p>de naamloze vennootschap</p>\\\\r\\\\n      <p>\\\\r\\\\n        <span class=\\\\\"emphasis\\\\\" style=\\\\\"font-weight:bold;\\\\\">ABN AMRO BANK N.V.</span>,</p>\\\\r\\\\n      <p>gevestigd te Amsterdam,</p>\\\\r\\\\n      <p>gedaagde,</p>\\\\r\\\\n      <p>advocaat mr. A.L. Bremmer te Amsterdam.</p>\\\\r\\\\n    </div><span class=\\\\\"linebreak1\\\\\"> </span>\\\\r\\\\n    \\\\r\\\\n    <div class=\\\\\"parablock\\\\\">\\\\r\\\\n      <p>Partijen zullen hierna [eiser] en ABN AMRO of de bank worden genoemd.</p>\\\\r\\\\n    </div><span class=\\\\\"linebreak1\\\\\"> </span>\\\\r\\\\n    \\\\r\\\\n  </div>\\\\r\\\\n  <div class=\\\\\"section\\\\\">\\\\r\\\\n    <h2>\\\\r\\\\n      <span class=\\\\\"nr\\\\\">1</span> De procedure</h2>\\\\r\\\\n    <div class=\\\\\"paragroup\\\\\">\\\\r\\\\n      <span class=\\\\\"nr\\\\\">1.1.</span>\\\\r\\\\n      <p>Het verloop van de procedure blijkt uit:</p>\\\\r\\\\n      <ul name=\\\\\"ID0EUE\\\\\" class=\\\\\"mark\\\\\">\\\\r\\\\n        <li><span class=\\\\\"mark\\\\\">-</span>\\\\r\\\\n          <p>het tussenvonnis van 1 juni 2022</p>\\\\r\\\\n        </li>\\\\r\\\\n        <li><span class=\\\\\"mark\\\\\">-</span>\\\\r\\\\n          <p>de akte inbreng producties 18 tot en met 20 van [eiser] van 13 juli 2022</p>\\\\r\\\\n        </li>\\\\r\\\\n        <li><span class=\\\\\"mark\\\\\">-</span>\\\\r\\\\n          <p>de akte inbreng producties 21 tot en met 26 van [eiser] van 19 september 2022</p>\\\\r\\\\n        </li>\\\\r\\\\n        <li><span class=\\\\\"mark\\\\\">-</span>\\\\r\\\\n          <p>het (verkort) proces-verbaal van de mondelinge behandeling van 23 september 2022</p>\\\\r\\\\n        </li>\\\\r\\\\n        <li><span class=\\\\\"mark\\\\\">-</span>\\\\r\\\\n          <p>akte uitlating van [eiser] met producties 27 tot en met 31 van 19 oktober 2022</p>\\\\r\\\\n        </li>\\\\r\\\\n        <li><span class=\\\\\"mark\\\\\">-</span>\\\\r\\\\n          <p>de antwoordakte uitlating van ABN AMRO van 16 november 2022.</p>\\\\r\\\\n        </li>\\\\r\\\\n      </ul>\\\\r\\\\n      \\\\r\\\\n    </div>\\\\r\\\\n    <div class=\\\\\"paragroup\\\\\">\\\\r\\\\n      <span class=\\\\\"nr\\\\\">1.2.</span>\\\\r\\\\n      <p>Ten slotte is vonnis bepaald.<span class=\\\\\"linebreak1\\\\\"> </span></p>\\\\r\\\\n      \\\\r\\\\n    </div>\\\\r\\\\n  </div>\\\\r\\\\n  <div class=\\\\\"section\\\\\">\\\\r\\\\n    <h2>\\\\r\\\\n      <span class=\\\\\"nr\\\\\">2</span> De feiten</h2>\\\\r\\\\n    <div class=\\\\\"paragroup\\\\\">\\\\r\\\\n      <span class=\\\\\"nr\\\\\">2.1.</span>\\\\r\\\\n      <p>\\\\r\\\\n        [eiser] is op grond van een op 7 februari 2017 met ABN AMRO gesloten overeenkomst houder van een betaalrekening eindigend op nummer 301 en een spaarrekening eindigend op 212. <span class=\\\\\"linebreak1\\\\\"> </span></p>\\\\r\\\\n      \\\\r\\\\n    </div>\\\\r\\\\n    <div class=\\\\\"paragroup\\\\\">\\\\r\\\\n      <span class=\\\\\"nr\\\\\">2.2.</span>\\\\r\\\\n      <p>Op de overeenkomst tussen [eiser] en ABN AMRO zijn de Algemene Bankvoorwaarden 2017 (hierna: ABV) van toepassing. Daarin is, voor zover van belang, vermeld:<span class=\\\\\"linebreak1\\\\\"> </span></p>\\\\r\\\\n      \\\\r\\\\n      <div class=\\\\\"parablock\\\\\">\\\\r\\\\n        <p>(…)</p>\\\\r\\\\n        <p>\\\\r\\\\n          <span class=\\\\\"emphasis\\\\\" style=\\\\\"font-weight:bold;\\\\\">Artikel 2 - Zorgplicht </span>\\\\r\\\\n        </p>\\\\r\\\\n        <p>\\\\r\\\\n          <span class=\\\\\"emphasis\\\\\" style=\\\\\"font-style:italic;\\\\\">Wij hebben een zorgplicht. U bent ook zorgvuldig tegenover ons en u mag van onze dienstverlening geen misbruik maken.</span>\\\\r\\\\n        </p>\\\\r\\\\n      </div><span class=\\\\\"linebreak1\\\\\"> </span>\\\\r\\\\n      \\\\r\\\\n      <div class=\\\\\"parablock\\\\\">\\\\r\\\\n        <p>1. Wij zijn bij onze dienstverlening zorgvuldig en houden hierbij zo goed mogelijk rekening met uw belangen. Dit doen wij op een manier die aansluit bij de aard van de dienstverlening. Deze belangrijke regel geldt altijd. Andere regels in de ABV of in de voor producten of diensten geldende overeenkomsten en de daarbij behorende bijzondere voorwaarden kunnen dit niet veranderen. Wij streven naar begrijpelijke producten en diensten. Ook streven wij naar begrijpelijke informatie over die producten en diensten en de risico’s ervan.</p>\\\\r\\\\n        <p>2. U bent zorgvuldig tegenover ons en houdt zo goed mogelijk rekening met onze belangen. U werkt eraan mee dat wij onze dienstverlening correct kunnen uitvoeren en aan onze verplichtingen kunnen voldoen. Hiermee bedoelen wij niet alleen onze verplichtingen tegenover u, maar bijvoorbeeld ook verplichtingen die wij in verband met onze dienstverlening aan u hebben tegenover toezichthouders of fiscale of andere (nationale, internationale of supranationale) autoriteiten. U geeft ons, als wij daarom vragen, de informatie en documentatie die wij daarvoor nodig hebben. Als het u duidelijk moet zijn dat wij die informatie of documentatie nodig hebben, geeft u die uit uzelf. U mag onze diensten of producten alleen gebruiken waarvoor ze zijn bedoeld en hiervan geen misbruik (laten) maken. Denkt u bij misbruik bijvoorbeeld aan strafbare feiten of activiteiten die schadelijk zijn voor ons of onze reputatie of die de werking en betrouwbaarheid van het financiële stelsel kunnen schaden.</p>\\\\r\\\\n      </div><span class=\\\\\"linebreak1\\\\\"> </span>\\\\r\\\\n      \\\\r\\\\n      <div class=\\\\\"parablock\\\\\">\\\\r\\\\n        <p>\\\\r\\\\n          <span class=\\\\\"emphasis\\\\\" style=\\\\\"font-weight:bold;\\\\\">Artikel 3 - Activiteiten en doeleinden </span>\\\\r\\\\n        </p>\\\\r\\\\n        <p>\\\\r\\\\n          <span class=\\\\\"emphasis\\\\\" style=\\\\\"font-style:italic;\\\\\">Wij vragen u om informatie om misbruik te voorkomen en risico’s te beoordelen.</span>\\\\r\\\\n        </p>\\\\r\\\\n      </div><span class=\\\\\"linebreak1\\\\\"> </span>\\\\r\\\\n      \\\\r\\\\n      <div class=\\\\\"parablock\\\\\">\\\\r\\\\n        <p>1. Banken hebben een sleutelrol in het nationale en internationale financiële stelsel. Helaas wordt onze dienstverlening soms misbruikt, bijvoorbeeld voor het witwassen van geld. Wij willen misbruik voorkomen en moeten dit volgens de wet ook doen. Wij hebben hiervoor informatie van u nodig. De informatie kan bijvoorbeeld ook nodig zijn voor de beoordeling van onze risico’s of het goede verloop van onze dienstverlening. Daarom informeert u ons, als wij dat vragen, in ieder geval over: </p>\\\\r\\\\n        <p>a. uw activiteiten en doelen </p>\\\\r\\\\n        <p>b. waarom u een product of dienst van ons afneemt of wilt afnemen </p>\\\\r\\\\n        <p>c. hoe u bent gekomen aan geld, waardepapieren of andere zaken die u bij of via ons onderbrengt. </p>\\\\r\\\\n        <p>Ook verstrekt u ons alle informatie die wij nodig hebben om te bepalen in welk(e) land(en) u fiscaal inwoner bent. </p>\\\\r\\\\n        <p>2. U werkt eraan mee dat wij de informatie kunnen controleren. Bij het gebruik van de informatie houden wij ons aan de geldende privacyregelgeving.</p>\\\\r\\\\n        <p>(…)</p>\\\\r\\\\n      </div><span class=\\\\\"linebreak1\\\\\"> </span>\\\\r\\\\n      \\\\r\\\\n      <div class=\\\\\"parablock\\\\\">\\\\r\\\\n        <p>\\\\r\\\\n          <span class=\\\\\"emphasis\\\\\" style=\\\\\"font-weight:bold;\\\\\">Artikel 35 - Opzegging van de relatie </span>\\\\r\\\\n        </p>\\\\r\\\\n        <p>\\\\r\\\\n          <span class=\\\\\"emphasis\\\\\" style=\\\\\"font-style:italic;\\\\\">U kunt de relatie opzeggen. Wij kunnen dit ook. Opzegging betekent dat de relatie eindigt en alle lopende overeenkomsten zo snel mogelijk worden afgewikkeld. </span>\\\\r\\\\n        </p>\\\\r\\\\n      </div><span class=\\\\\"linebreak1\\\\\"> </span>\\\\r\\\\n      \\\\r\\\\n      <div class=\\\\\"parablock\\\\\">\\\\r\\\\n        <p>1. U kunt de relatie tussen u en ons opzeggen. Wij kunnen dit ook. Het is daarvoor niet nodig dat u in verzuim bent met de nakoming van een verplichting. Wij houden ons bij opzegging aan onze zorgplicht als genoemd in artikel 2 lid 1 ABV. Als u ons vraagt waarom wij de relatie opzeggen, dan laten wij u dat weten.</p>\\\\r\\\\n        <p>2. Opzegging betekent dat de relatie en alle lopende overeenkomsten worden beëindigd. Gedeeltelijke opzegging kan ook. In dat geval kunnen er bijvoorbeeld bepaalde overeenkomsten blijven bestaan.</p>\\\\r\\\\n        <p>3. Als er voor de beëindiging van een overeenkomst voorwaarden gelden, zoals een opzegtermijn, worden die nageleefd. Tijdens de afwikkeling van de relatie en de beëindigde overeenkomsten blijven alle toepasselijke voorwaarden van kracht.</p>\\\\r\\\\n        <p>(…)</p>\\\\r\\\\n      </div><span class=\\\\\"linebreak1\\\\\"> </span>\\\\r\\\\n      \\\\r\\\\n    </div>\\\\r\\\\n    <div class=\\\\\"paragroup\\\\\">\\\\r\\\\n      <span class=\\\\\"nr\\\\\">2.3.</span>\\\\r\\\\n      <p>\\\\r\\\\n        [eiser] beschikt tevens over een betaalrekening bij de ING Bank.<span class=\\\\\"linebreak1\\\\\"> </span></p>\\\\r\\\\n      \\\\r\\\\n    </div>\\\\r\\\\n    <div class=\\\\\"paragroup\\\\\">\\\\r\\\\n      <span class=\\\\\"nr\\\\\">2.4.</span>\\\\r\\\\n      <p>In de periode van 1 tot en met 28 september 2017 heeft [eiser] in verschillende transacties een bedrag van in totaal € 315.950,00 ontvangen op zijn rekening bij ABN AMRO van de heer [naam 1] (hierna: de broer van [eiser] ). De broer van [eiser] heeft dit bedrag overgemaakt vanaf een betaalrekening bij de HSBC Bank in Jersey. <span class=\\\\\"linebreak1\\\\\"> </span></p>\\\\r\\\\n      \\\\r\\\\n    </div>\\\\r\\\\n    <div class=\\\\\"paragroup\\\\\">\\\\r\\\\n      <span class=\\\\\"nr\\\\\">2.5.</span>\\\\r\\\\n      <p>In de periode van 19 juni tot en met 3 juli 2018 heeft [eiser] in verschillende transacties een bedrag van € 104.480,00 ontvangen op zijn rekening bij ABN AMRO van MECAST ltd (hierna: Mecast), een vennootschap naar Irakees recht. Het bedrag is overgemaakt via een Letse betaalrekening die op naam staat van Mecast.<span class=\\\\\"linebreak1\\\\\"> </span></p>\\\\r\\\\n      \\\\r\\\\n    </div>\\\\r\\\\n    <div class=\\\\\"paragroup\\\\\">\\\\r\\\\n      <span class=\\\\\"nr\\\\\">2.6.</span>\\\\r\\\\n      <p>ABN AMRO is naar aanleiding van (onder meer) deze transacties een cliëntonderzoek gestart op grond van de Wet ter voorkoming van witwassen en financieren van terrorisme (hierna: Wwft). <span class=\\\\\"linebreak1\\\\\"> </span></p>\\\\r\\\\n      \\\\r\\\\n    </div>\\\\r\\\\n    <div class=\\\\\"paragroup\\\\\">\\\\r\\\\n      <span class=\\\\\"nr\\\\\">2.7.</span>\\\\r\\\\n      <p>Op 10 november 2020 heeft [eiser] in een telefoongesprek met de bank aangegeven tien jaar werkzaam te zijn geweest voor Mecast in de functie van managing partner. Ook heeft hij verklaard dat hij de gelden die hij in Irak heeft verdiend, in 2017 heeft overgemaakt naar Nederlandse bankrekeningen. <span class=\\\\\"linebreak1\\\\\"> </span></p>\\\\r\\\\n      \\\\r\\\\n    </div>\\\\r\\\\n    <div class=\\\\\"paragroup\\\\\">\\\\r\\\\n      <span class=\\\\\"nr\\\\\">2.8.</span>\\\\r\\\\n      <p>Op schriftelijke vragen van ABN AMRO heeft [eiser] per brief  van 20 november 2020 als volgt geantwoord:<span class=\\\\\"linebreak1\\\\\"> </span></p>\\\\r\\\\n      \\\\r\\\\n      <div class=\\\\\"parablock\\\\\">\\\\r\\\\n        <p>(…) </p>\\\\r\\\\n        <p>\\\\r\\\\n          <span class=\\\\\"emphasis\\\\\" style=\\\\\"font-weight:bold;\\\\\">2. U geeft op 19 juni 2018 en 03 juli 2018 in totaal EUR 104.480,00 ontvangen van MECAST ltd. Wat is de reden voor deze transactie?</span>\\\\r\\\\n        </p>\\\\r\\\\n        <p>\\\\tHet geld was een onderdeel van mijn privévermogen.</p>\\\\r\\\\n        <p>\\\\r\\\\n          <span class=\\\\\"emphasis\\\\\" style=\\\\\"font-weight:bold;\\\\\">Wat is de herkomst van deze gelden?</span>\\\\r\\\\n        </p>\\\\r\\\\n        <p>Het geld was een onderdeel van mijn privévermogen dat ik met de activiteiten voor Mecast heb verdiend in de periode 2006-2015.</p>\\\\r\\\\n      </div><span class=\\\\\"linebreak1\\\\\"> </span>\\\\r\\\\n      \\\\r\\\\n      <div class=\\\\\"parablock\\\\\">\\\\r\\\\n        <p>\\\\r\\\\n          <span class=\\\\\"emphasis\\\\\" style=\\\\\"font-weight:bold;\\\\\">3. U heeft in de periode van 1 september 2017 tot en met 28 september 2017 in totaal EUR 315.950,00 ontvangen van [naam 1] middels een buitenlandse overboeking.</span>\\\\r\\\\n        </p>\\\\r\\\\n        <p>a. <span class=\\\\\"emphasis\\\\\" style=\\\\\"font-weight:bold;\\\\\">Wat is de reden voor deze transacties?</span></p>\\\\r\\\\n        <p>Aflossing van een persoonlijke lening, omdat mijn broer dit bedrag persoonlijk van mij in Irak in 2015 had geleend van mijn privévermogen.</p>\\\\r\\\\n        <p>b. <span class=\\\\\"emphasis\\\\\" style=\\\\\"font-weight:bold;\\\\\">Waarom hebben deze transacties via een buitenlandse bankrekening in Jersey (Brits Kroonbezit) plaatsgevonden?</span></p>\\\\r\\\\n        <p>Ik had het voorkeur om het geld hier terug te krijgen, omdat ik van plan was om een woning te kopen. </p>\\\\r\\\\n        <p>(…)</p>\\\\r\\\\n      </div><span class=\\\\\"linebreak1\\\\\"> </span>\\\\r\\\\n      \\\\r\\\\n    </div>\\\\r\\\\n    <div class=\\\\\"paragroup\\\\\">\\\\r\\\\n      <span class=\\\\\"nr\\\\\">2.9.</span>\\\\r\\\\n      <p>ABN AMRO heeft per brief van 3 mei 2021 vervolgvragen gesteld. Hierop heeft [eiser] op 11 mei 2021 geantwoord:<span class=\\\\\"linebreak1\\\\\"> </span></p>\\\\r\\\\n      \\\\r\\\\n      <div class=\\\\\"parablock\\\\\">\\\\r\\\\n        <p>\\\\r\\\\n          <span class=\\\\\"emphasis\\\\\" style=\\\\\"font-weight:bold;\\\\\">Wat is de reden dat u een deel van uw privévermogen bij MECAST ltd bewaart?</span>\\\\r\\\\n        </p>\\\\r\\\\n        <p>Destijds dit bedrag niet beschikbaar was om eerder overgemaakt te worden. Zie de voucher van MECAST in de bijlage.</p>\\\\r\\\\n      </div><span class=\\\\\"linebreak1\\\\\"> </span>\\\\r\\\\n      \\\\r\\\\n      <div class=\\\\\"parablock\\\\\">\\\\r\\\\n        <p>\\\\r\\\\n          <span class=\\\\\"emphasis\\\\\" style=\\\\\"font-weight:bold;\\\\\">Wat is de reden dat uw broer in 2015 dit bedrag van u heeft geleend?</span>\\\\r\\\\n        </p>\\\\r\\\\n        <p>Mijn broer had dit bedrag persoonlijk van mij geleend, had ik hem niet gevraagd waarom hij dit bedrag nodig had.</p>\\\\r\\\\n      </div><span class=\\\\\"linebreak1\\\\\"> </span>\\\\r\\\\n      \\\\r\\\\n      <div class=\\\\\"parablock\\\\\">\\\\r\\\\n        <p>\\\\r\\\\n          <span class=\\\\\"emphasis\\\\\" style=\\\\\"font-weight:bold;\\\\\">Hoe heeft u dit vermogen toentertijd opgebouwd?</span>\\\\r\\\\n        </p>\\\\r\\\\n        <p>Het verkopen van Broadcasting Services, system integration van radio- en tv studio’s en media solutions zoals bv een play-out system. Klanten waren: het ministerie van cultuur van KRG,(…). Leveranciers waren: ND SatCom GMBH, UBMS, Mediacast Sys, Syes Italy, (…). Als bijlage stuur ik u inkoop-en verkoopfacturen mee.</p>\\\\r\\\\n      </div><span class=\\\\\"linebreak1\\\\\"> </span>\\\\r\\\\n      \\\\r\\\\n    </div>\\\\r\\\\n    <div class=\\\\\"paragroup\\\\\">\\\\r\\\\n      <span class=\\\\\"nr\\\\\">2.10.</span>\\\\r\\\\n      <p>\\\\r\\\\n        [eiser] heeft aan de bank inkoop- en verkoopfacturen en accountantsverklaringen verstuurd ter onderbouwing van zijn vermogensopbouw bij Mecast. Daarnaast heeft hij de bank een “voucher” van 29 november 2015 gestuurd waarin staat:<span class=\\\\\"linebreak1\\\\\"> </span></p>\\\\r\\\\n      \\\\r\\\\n      <div class=\\\\\"parablock\\\\\">\\\\r\\\\n        <p>We confirm Mr. [eiser] has the amount Euro 115.000,00 (Hundred and fifteen thousand Euros) in MeCast Ltd as part of his equity capital. We will pay the amount when becomes available within 5 years</p>\\\\r\\\\n      </div><span class=\\\\\"linebreak1\\\\\"> </span>\\\\r\\\\n      \\\\r\\\\n      <div class=\\\\\"parablock\\\\\">\\\\r\\\\n        <p>\\\\tAdministration</p>\\\\r\\\\n      </div><span class=\\\\\"linebreak1\\\\\"> </span>\\\\r\\\\n      \\\\r\\\\n    </div>\\\\r\\\\n    <div class=\\\\\"paragroup\\\\\">\\\\r\\\\n      <span class=\\\\\"nr\\\\\">2.11.</span>\\\\r\\\\n      <p>Verder heeft hij notulen overgelegd van 29 december 2015 van MeCast Ltd, waarin staat:<span class=\\\\\"linebreak1\\\\\"> </span></p>\\\\r\\\\n      \\\\r\\\\n      <div class=\\\\\"parablock\\\\\">\\\\r\\\\n        <p>Subject: Termination of Mr. [eiser] from managing director position</p>\\\\r\\\\n      </div><span class=\\\\\"linebreak1\\\\\"> </span>\\\\r\\\\n      \\\\r\\\\n      <div class=\\\\\"parablock\\\\\">\\\\r\\\\n        <p>Meeting minutes</p>\\\\r\\\\n        <p>(…)</p>\\\\r\\\\n        <p>Mr. [eiser] financial situation has been assessed as following:</p>\\\\r\\\\n        <p>\\uf0b7 His income from salary, bounces and company profit sharing from 1-7-2006 to 29-12-2015 has been as below:</p>\\\\r\\\\n        <p>o Paid: Euro 980,700.00 (nine hundred, eighty thousand and seven hundred Euros)</p>\\\\r\\\\n        <p>o MeCast Ltd is owing Mr. [eiser] Eur 115,000 (which is part of his total income as above) and per voucher No 0159 dated 29-11-2015.</p>\\\\r\\\\n      </div><span class=\\\\\"linebreak1\\\\\"> </span>\\\\r\\\\n      \\\\r\\\\n    </div>\\\\r\\\\n    <div class=\\\\\"paragroup\\\\\">\\\\r\\\\n      <span class=\\\\\"nr\\\\\">2.12.</span>\\\\r\\\\n      <p>Op 9 juni 2021 hebben partijen opnieuw telefonisch contact gehad en op 14 juni 2021 heeft ABN AMRO wederom schriftelijke vragen gesteld aan [eiser] . Daarbij heeft de bank aangegeven dat de eerdere verklaringen van [eiser] onvoldoende onderbouwd zijn door middel van documentatie, waardoor de bank niet aan haar wettelijke verplichtingen kan voldoen. De bank heeft [eiser] nogmaals de mogelijkheid gegeven om de documentatie aan te leveren en aangekondigd dat als dat uitblijft, ze de relatie met [eiser] zal heroverwegen. Daarop heeft [eiser] per e-mail van 22 juni 2021 gereageerd:<span class=\\\\\"linebreak1\\\\\"> </span></p>\\\\r\\\\n      \\\\r\\\\n      <div class=\\\\\"parablock\\\\\">\\\\r\\\\n        <p>\\\\r\\\\n          <span class=\\\\\"emphasis\\\\\" style=\\\\\"font-weight:bold;\\\\\">Wat is de reden dat uw broer in 2015 dit bedrag van u heeft geleend?</span>\\\\r\\\\n        </p>\\\\r\\\\n        <p>Mijn broer had dit bedrag persoonlijk van mij geleend. we hadden geen overeenkomst getekend omdat hij mijn broer is. We tekenen geen contracten binnen de familie bijvoorbeeld voor geld lenen, maar ik heb hem deze keer gevraagd. Hij verteld dat hij een stukje kavel gekocht had in de stad ERBIL in Irak.</p>\\\\r\\\\n      </div><span class=\\\\\"linebreak1\\\\\"> </span>\\\\r\\\\n      \\\\r\\\\n      <div class=\\\\\"parablock\\\\\">\\\\r\\\\n        <p>\\\\r\\\\n          <span class=\\\\\"emphasis\\\\\" style=\\\\\"font-weight:bold;\\\\\">Hoe heeft u dit vermogen toentertijd opgebouwd?</span>\\\\r\\\\n        </p>\\\\r\\\\n        <p>Het geld is een onderdeel van mijn privévermogen dat ik met de activiteiten voor Mecast heb verdiend in de periode 2006 – 2015.</p>\\\\r\\\\n      </div><span class=\\\\\"linebreak1\\\\\"> </span>\\\\r\\\\n      \\\\r\\\\n      <div class=\\\\\"parablock\\\\\">\\\\r\\\\n        <p>\\\\r\\\\n          <span class=\\\\\"emphasis\\\\\" style=\\\\\"font-weight:bold;\\\\\">Graag ontvangen wij bijpassende documentatie die uw verklaring onderbouwt.</span>\\\\r\\\\n        </p>\\\\r\\\\n        <p>Zie de notulen vergadering van MECAST en inkoop- en verkoopfacturen in de bijlage. </p>\\\\r\\\\n      </div><span class=\\\\\"linebreak1\\\\\"> </span>\\\\r\\\\n      \\\\r\\\\n    </div>\\\\r\\\\n    <div class=\\\\\"paragroup\\\\\">\\\\r\\\\n      <span class=\\\\\"nr\\\\\">2.13.</span>\\\\r\\\\n      <p>Op 23 juli 2021 is ABN AMRO een heroverweging gestart. Hieruit volgde een onacceptabele risicoscore voor de bank. ABN AMRO gaf als onderbouwing dat er onduidelijke transacties hadden plaatsgevonden, de gelden (indirect) afkomstig waren uit hoog-risicolanden Irak en Jersey en dat de verklaringen van [eiser] over de herkomst van de gelden niet geverifieerd konden worden op basis van de door [eiser] overgelegde documenten.<span class=\\\\\"linebreak1\\\\\"> </span></p>\\\\r\\\\n      \\\\r\\\\n    </div>\\\\r\\\\n    <div class=\\\\\"paragroup\\\\\">\\\\r\\\\n      <span class=\\\\\"nr\\\\\">2.14.</span>\\\\r\\\\n      <p>Per brief van 23 september 2021 heeft ABN AMRO geschreven de klantrelatie met [eiser] te zullen beëindigen als gevolg waarvan de bankrekeningen van [eiser] worden gesloten. ABN AMRO schrijft: <span class=\\\\\"linebreak1\\\\\"> </span></p>\\\\r\\\\n      \\\\r\\\\n      <div class=\\\\\"parablock\\\\\">\\\\r\\\\n        <p>U heeft, ondanks onze eerdere verzoeken, ontoereikend gehoor gegeven aan ons verzoek om documentatie aan te leveren ter onderbouwing van uw verklaringen. De Bank kan hierdoor de activiteiten op haar rekeningen niet verklaren. Hierdoor kan de Bank niet aan de op haar rustende wettelijke verplichtingen voldoen. Het gebrek aan inzicht brengt voor de Bank niet in te schatten risico’s met zich mee. Dit soort risico’s kan en mag de Bank niet aanvaarden. Wij maken dan ook gebruik van ons recht om de relatie met u, de heer [eiser] , per 23 november 2021 te beëindigen.</p>\\\\r\\\\n      </div><span class=\\\\\"linebreak1\\\\\"> </span>\\\\r\\\\n      \\\\r\\\\n    </div>\\\\r\\\\n    <div class=\\\\\"paragroup\\\\\">\\\\r\\\\n      <span class=\\\\\"nr\\\\\">2.15.</span>\\\\r\\\\n      <p>\\\\r\\\\n        [eiser] heeft op 13 oktober 2021 schriftelijk bezwaar gemaakt tegen de opzegging. <span class=\\\\\"linebreak1\\\\\"> </span></p>\\\\r\\\\n      \\\\r\\\\n    </div>\\\\r\\\\n    <div class=\\\\\"paragroup\\\\\">\\\\r\\\\n      <span class=\\\\\"nr\\\\\">2.16.</span>\\\\r\\\\n      <p>Bij brief van 28 december 2021 heeft ABN AMRO op het bezwaar gereageerd. <span class=\\\\\"linebreak1\\\\\"> </span></p>\\\\r\\\\n      \\\\r\\\\n    </div>\\\\r\\\\n    <div class=\\\\\"paragroup\\\\\">\\\\r\\\\n      <span class=\\\\\"nr\\\\\">2.17.</span>\\\\r\\\\n      <p>Bij brief van 5 mei 2022 heeft ABN AMRO de bankrelatie met [eiser] beëindigd per 5 juli 2022:<span class=\\\\\"linebreak1\\\\\"> </span></p>\\\\r\\\\n      \\\\r\\\\n      <div class=\\\\\"parablock\\\\\">\\\\r\\\\n        <p>(…)</p>\\\\r\\\\n        <p>Op 23 september 2021 heeft de bank u een eerste beëindigingsbrief gestuurd. Vanwege de procedure gestart door uw advocaat (…) is deze beëindiging opgeschort. Echter de bank heeft het besluit genomen om nu door te gaan met de beëindiging van de relatie. Hiertoe is de bank bevoegd op grond van artikel 35 van de Algemene Bankvoorwaarden (…) </p>\\\\r\\\\n      </div>\\\\r\\\\n    </div>\\\\r\\\\n    <div class=\\\\\"paragroup\\\\\">\\\\r\\\\n      <span class=\\\\\"nr\\\\\">2.18.</span>\\\\r\\\\n      <p>\\\\r\\\\n        [eiser] heeft in deze procedure een document overgelegd waarin staat:<span class=\\\\\"linebreak1\\\\\"> </span></p>\\\\r\\\\n      \\\\r\\\\n      <div class=\\\\\"parablock\\\\\">\\\\r\\\\n        <p>\\\\r\\\\n          <span class=\\\\\"emphasis\\\\\" style=\\\\\"font-weight:bold;border-bottom:1px solid black;\\\\\">Company Registration</span>\\\\r\\\\n        </p>\\\\r\\\\n        <p>Company name: \\\\t\\\\t<span class=\\\\\"emphasis\\\\\" style=\\\\\"font-weight:bold;\\\\\">MECAST Company</span></p>\\\\r\\\\n        <p>Company Type:\\\\t\\\\t<span class=\\\\\"emphasis\\\\\" style=\\\\\"font-weight:bold;\\\\\">General Trading and installation of radio and television broadcasting and communications systems Ltd</span></p>\\\\r\\\\n        <p>The company’s capital: \\\\t<span class=\\\\\"emphasis\\\\\" style=\\\\\"font-weight:bold;\\\\\">300,000,000 million Iraqi Dinars</span></p>\\\\r\\\\n        <p>(…)</p>\\\\r\\\\n        <p>Affiliation date:\\\\t\\\\t<span class=\\\\\"emphasis\\\\\" style=\\\\\"font-weight:bold;\\\\\">10.11.2005</span></p>\\\\r\\\\n        <p>(…)</p>\\\\r\\\\n        <p>Business type:\\\\t\\\\t<span class=\\\\\"emphasis\\\\\" style=\\\\\"font-weight:bold;\\\\\">General Trading and installation of radio and television broadcasting and communications systems Ltd</span></p>\\\\r\\\\n        <p>Managing director:\\\\t<span class=\\\\\"emphasis\\\\\" style=\\\\\"font-weight:bold;\\\\\">[naam 2]</span></p>\\\\r\\\\n      </div><span class=\\\\\"linebreak1\\\\\"> </span>\\\\r\\\\n      \\\\r\\\\n    </div>\\\\r\\\\n    <div class=\\\\\"paragroup\\\\\">\\\\r\\\\n      <span class=\\\\\"nr\\\\\">2.19.</span>\\\\r\\\\n      <p>Ook heeft hij een kopie van een pas van de Iraakse Kamer van Koophandel overgelegd waarop staat:<span class=\\\\\"linebreak1\\\\\"> </span></p>\\\\r\\\\n      \\\\r\\\\n      <div class=\\\\\"parablock\\\\\">\\\\r\\\\n        <p>\\\\r\\\\n          <span class=\\\\\"emphasis\\\\\" style=\\\\\"font-weight:bold;\\\\\">Erbil Chamber of Commerce and Industry/Iraq</span>\\\\r\\\\n        </p>\\\\r\\\\n        <p>\\\\r\\\\n          <span class=\\\\\"emphasis\\\\\" style=\\\\\"font-weight:bold;border-bottom:1px solid black;\\\\\">Company ID</span>\\\\r\\\\n        </p>\\\\r\\\\n        <p>Company Name:\\\\t\\\\t<span class=\\\\\"emphasis\\\\\" style=\\\\\"font-weight:bold;\\\\\">Mecast Co.</span></p>\\\\r\\\\n        <p>Executive Director:\\\\t\\\\t<span class=\\\\\"emphasis\\\\\" style=\\\\\"font-weight:bold;\\\\\">[naam 2]</span></p>\\\\r\\\\n        <p>Capital:\\\\t\\\\t\\\\t<span class=\\\\\"emphasis\\\\\" style=\\\\\"font-weight:bold;\\\\\">300 000 000</span></p>\\\\r\\\\n        <p>(…)</p>\\\\r\\\\n        <p>Membership Date:\\\\t\\\\t<span class=\\\\\"emphasis\\\\\" style=\\\\\"font-weight:bold;\\\\\">2005/11/10</span></p>\\\\r\\\\n        <p>Renewing Date:\\\\t\\\\t<span class=\\\\\"emphasis\\\\\" style=\\\\\"font-weight:bold;\\\\\">2015/01/15</span></p>\\\\r\\\\n        <p>Expire Date:\\\\t\\\\t<span class=\\\\\"emphasis\\\\\" style=\\\\\"font-weight:bold;\\\\\">2016/12/31</span></p>\\\\r\\\\n      </div><span class=\\\\\"linebreak1\\\\\"> </span>\\\\r\\\\n      \\\\r\\\\n    </div>\\\\r\\\\n    <div class=\\\\\"paragroup\\\\\">\\\\r\\\\n      <span class=\\\\\"nr\\\\\">2.20.</span>\\\\r\\\\n      <p>Daarnaast heeft [eiser] een overeenkomst overgelegd waarin staat:<span class=\\\\\"linebreak1\\\\\"> </span></p>\\\\r\\\\n      \\\\r\\\\n      <div class=\\\\\"parablock\\\\\">\\\\r\\\\n        <p>\\\\r\\\\n          <span class=\\\\\"emphasis\\\\\" style=\\\\\"font-weight:bold;border-bottom:1px solid black;\\\\\">Contract</span>\\\\r\\\\n        </p>\\\\r\\\\n        <p>\\\\r\\\\n          <span class=\\\\\"emphasis\\\\\" style=\\\\\"font-style:italic;\\\\\">First Party // </span>Ministry of Education of Kurdistan Region</p>\\\\r\\\\n        <p>\\\\r\\\\n          <span class=\\\\\"emphasis\\\\\" style=\\\\\"border-bottom:1px solid black;\\\\\">Second party//</span> Mecast company – the authorized owner ( [naam 2] ) </p>\\\\r\\\\n        <p>(…)</p>\\\\r\\\\n      </div><span class=\\\\\"linebreak1\\\\\"> </span>\\\\r\\\\n      \\\\r\\\\n    </div>\\\\r\\\\n    <div class=\\\\\"paragroup\\\\\">\\\\r\\\\n      <span class=\\\\\"nr\\\\\">2.21.</span>\\\\r\\\\n      <p>Tot slot heeft [eiser] een verklaring overgelegd van de Italiaanse vennootschap SY.E.S. S.r.l., gedateerd 4 oktober 2022:<span class=\\\\\"linebreak1\\\\\"> </span></p>\\\\r\\\\n      \\\\r\\\\n      <div class=\\\\\"parablock\\\\\">\\\\r\\\\n        <p>(…)</p>\\\\r\\\\n        <p>Our company had been conducting business with Mr. [eiser] , as the owner of Mecast company since 2011 up to 2016.</p>\\\\r\\\\n      </div><span class=\\\\\"linebreak1\\\\\"> </span>\\\\r\\\\n      \\\\r\\\\n      <div class=\\\\\"parablock\\\\\">\\\\r\\\\n        <p>Our representative has visited Mecast multiple times and Mr. [eiser] has also visited our office in Milan twice.</p>\\\\r\\\\n      </div><span class=\\\\\"linebreak1\\\\\"> </span>\\\\r\\\\n      \\\\r\\\\n      <div class=\\\\\"parablock\\\\\">\\\\r\\\\n        <p>Mecast was a company specialized in the field of broadcasting services, and had its office in Erbil, Iraq.</p>\\\\r\\\\n        <p>(…)</p>\\\\r\\\\n      </div><span class=\\\\\"linebreak1\\\\\"> </span>\\\\r\\\\n      \\\\r\\\\n    </div>\\\\r\\\\n  </div>\\\\r\\\\n  <div class=\\\\\"section\\\\\">\\\\r\\\\n    <h2>\\\\r\\\\n      <span class=\\\\\"nr\\\\\">3</span> Het geschil</h2>\\\\r\\\\n    <div class=\\\\\"paragroup\\\\\">\\\\r\\\\n      <span class=\\\\\"nr\\\\\">3.1.</span>\\\\r\\\\n      <p>\\\\r\\\\n        [eiser] vordert - na eiswijziging ter zitting - dat de rechtbank, voor zover mogelijk uitvoerbaar bij voorraad:<span class=\\\\\"linebreak1\\\\\"> </span></p>\\\\r\\\\n      \\\\r\\\\n      <p>1. en 2. artikelen 2 lid 2 en 3 van de Algemene bankvoorwaarden vernietigt, omdat dit artikel onredelijk bezwarend is, dan wel vanwege conversie van het vernietigde beding een als geldig aan te merken beding formuleert op grond van artikel 3:41 en 3:42 BW dat in overeenstemming is met overweging 21 van de Richtlijn 2018/1673;</p>\\\\r\\\\n      <p>3 en 4. voor recht verklaart dat ABN AMRO verplicht is de bankrelatie met [eiser] te herstellen en te continueren, althans voor recht verklaart dat de opzegging onrechtmatig was vanwege strijd met de artikelen 7, 48 lid 1 en 49 van het Handvest van de Grondrechten van de Europese Unie en de artikelen 6 en 8 van het Europees Verdrag voor de Rechten van de Mens en vanwege strijd met artikel 2 lid 1 ABV dan wel artikel 6:248 lid 2 BW, dan wel de bijzondere zorgplicht op grond van het ongeschreven recht;</p>\\\\r\\\\n      <p>5. ABN AMRO verbiedt om de bankrelatie opnieuw op te zeggen, tenzij ABN AMRO nieuwe feiten en omstandigheden stelt waardoor er ten aanzien van [eiser] een zwaardere verdenking met betrekking tot witwassen bestaat dan een redelijk vermoeden van schuld;</p>\\\\r\\\\n      <p>6. ABN AMRO verbiedt</p>\\\\r\\\\n      <div class=\\\\\"parablock\\\\\">\\\\r\\\\n        <p>a. om [eiser] a) te bevragen over de transacties en b) te vragen nadere documenten te verschaffen met betrekking tot de transacties waarover/ waar om ABN AMRO [eiser] tot aan datum opzegging al heeft bevraagd tenzij ABN AMRO nieuwe feiten stelt waardoor er ten aanzien van [eiser] een zwaardere verdenking met betrekking tot witwassen bestaat dan een redelijk vermoeden van schuld;</p>\\\\r\\\\n        <p>       7. ABN AMRO veroordeelt in de proceskosten.</p>\\\\r\\\\n      </div><span class=\\\\\"linebreak1\\\\\"> </span>\\\\r\\\\n      \\\\r\\\\n    </div>\\\\r\\\\n    <div class=\\\\\"paragroup\\\\\">\\\\r\\\\n      <span class=\\\\\"nr\\\\\">3.2.</span>\\\\r\\\\n      <p>Op de stellingen van partijen wordt hierna, voor zover van belang, nader ingegaan.<span class=\\\\\"linebreak1\\\\\"> </span></p>\\\\r\\\\n      \\\\r\\\\n    </div>\\\\r\\\\n  </div>\\\\r\\\\n  <div class=\\\\\"section overwegingen\\\\\">\\\\r\\\\n    <h2>\\\\r\\\\n      <span class=\\\\\"nr\\\\\">4</span> De beoordeling</h2>\\\\r\\\\n    <div class=\\\\\"parablock\\\\\">\\\\r\\\\n      <p>\\\\r\\\\n        <span class=\\\\\"emphasis\\\\\" style=\\\\\"font-style:italic;\\\\\">ad vorderingen 1 en 2: vernietiging van artikelen 2 lid 2 en 3 van de </span>\\\\r\\\\n      </p>\\\\r\\\\n      <p>\\\\r\\\\n        <span class=\\\\\"emphasis\\\\\" style=\\\\\"font-style:italic;\\\\\">Algemene bankvoorwaarden </span>\\\\r\\\\n      </p>\\\\r\\\\n    </div><span class=\\\\\"linebreak1\\\\\"> </span>\\\\r\\\\n    \\\\r\\\\n    <div class=\\\\\"paragroup\\\\\">\\\\r\\\\n      <span class=\\\\\"nr\\\\\">4.1.</span>\\\\r\\\\n      <p>Volgens [eiser] zijn artikel 2 lid 2 ABV en artikel 3 ABV onredelijk bezwarend, omdat daarin zijn fundamentele rechten en beginselen niet zijn gewaarborgd. [eiser] doet een beroep op artikel 6, 8, 13 en 14 Europees Verdrag voor de Rechten van de Mens (hierna: EVRM) en op artikel 7, 8, 16, 47 en 48 van het Handvest van de Grondrechten van de Europese Unie (hierna: Handvest). [eiser] betoogt dat ABN AMRO hem een onbeperkte informatieplicht oplegt en naar eigen goeddunken de relatie kan beëindigen. [eiser] is bij de uitvoering van het wettelijk verplichte cliëntonderzoek overgeleverd aan de willekeur van ABN AMRO. Met de informatieplicht wordt [eiser] gedwongen mee te werken aan een zgn. ‘fishing expedition’ en mogelijk aan zijn eigen veroordeling, terwijl niet eens een redelijk vermoeden van schuld bestaat. Naar aanleiding van een eventuele (voor [eiser] niet-kenbare) MOT-melding kunnen opsporingsdiensten de door [eiser] verstrekte informatie strafrechtelijk vorderen van ABN AMRO. [eiser] vordert vernietiging van de algemene voorwaarden op grond van artikel 6:233 BW. Voorts betoogt [eiser] dat de algemene voorwaarden geconverteerd moeten worden (artikel 3:41 en 42 BW) naar een artikel dat in overeenstemming is met overweging 21 van de Richtlijn 2018/1673.</p>\\\\r\\\\n    </div>\\\\r\\\\n    <div class=\\\\\"paragroup\\\\\">\\\\r\\\\n      <span class=\\\\\"nr\\\\\">4.2.</span>\\\\r\\\\n      <p>Volgens ABN AMRO heeft zij de grondrechten van [eiser] niet geschonden. De informatie die zij opvraagt, beperkt zich tot de herkomst van de gelden van de ongebruikelijke transacties. Voor zover er al sprake is van een schending of inmenging is die legitiem, omdat de aanpak van witwassen een taak van zwaarwegend belang is. De bank verwerkt alleen persoonsgegevens indien artikel 6 van de AVG daarvoor een grondslag biedt, te weten voldoen aan een wettelijke verplichting. De verwerking van persoonsgegevens blijft tot dit doeleinde beperkt. Daarmee voldoet de bank aan de algemene beginselen van noodzakelijkheid, evenredigheid, proportionaliteit en subsidiariteit. Van enig onderzoek in strafrechtelijk verband is geen sprake. Er is volgens ABN AMRO geen grond om artikel 2 en 3 van de ABV te vernietigen.<span class=\\\\\"linebreak1\\\\\"> </span></p>\\\\r\\\\n      \\\\r\\\\n      <div class=\\\\\"parablock\\\\\">\\\\r\\\\n        <p>\\\\r\\\\n          <span class=\\\\\"emphasis\\\\\" style=\\\\\"font-style:italic;\\\\\">toetsingskader grondrechten</span>\\\\r\\\\n        </p>\\\\r\\\\n      </div>\\\\r\\\\n    </div>\\\\r\\\\n    <div class=\\\\\"paragroup\\\\\">\\\\r\\\\n      <span class=\\\\\"nr\\\\\">4.3.</span>\\\\r\\\\n      <p>De rechtbank overweegt als volgt. Aan artikel 6 EVRM (‘Recht op een eerlijk proces’), 8 EVRM (‘Recht op eerbiediging van privé-, familie- en gezinsleven’), 13 EVRM (‘Recht op een daadwerkelijk rechtsmiddel’), 14 EVRM (‘Verbod van discriminatie’), artikel 7 van het Handvest (‘Eerbiediging van het privéleven en het familie- en gezinsleven’), 8 Handvest (‘Bescherming van persoonsgegevens’), 16 Handvest (Vrijheid van ondernemerschap’), 47 Handvest (‘Recht op een doeltreffende voorziening in rechte en op een onpartijdig gerecht’) en 48 Handvest (‘Vermoeden van onschuld en rechten van de verdediging’) komt geen directe horizontale werking toe, nu deze bepalingen zich richten tot de overheid en niet tot private partijen. Indien genoemde grondrechten niet of onvoldoende zijn gewaarborgd in de ABV, is dit geen grond om de ABV om die reden onredelijk bezwarend te achten. Dit laat onverlet dat de artikelen wel indirect kunnen doorwerken in privaatrechtelijke verhoudingen, bijvoorbeeld door de invulling van open privaatrechtelijke normen, zoals de verplichting bij de uitvoering van een overeenkomst te handelen naar de maatstaven van redelijkheid en billijkheid, en de zorgvuldigheidsnorm van artikel 6:162 BW. Binnen die normen moet dan een afweging plaatsvinden van de wederzijdse rechten en gerechtvaardigde belangen van partijen. <span class=\\\\\"linebreak1\\\\\"> </span></p>\\\\r\\\\n      \\\\r\\\\n      <div class=\\\\\"parablock\\\\\">\\\\r\\\\n        <p>\\\\r\\\\n          <span class=\\\\\"emphasis\\\\\" style=\\\\\"font-style:italic;\\\\\">toepassing Richtlijn 93/13 betreffende oneerlijke bedingen in consumentenovereenkomsten</span>\\\\r\\\\n        </p>\\\\r\\\\n      </div>\\\\r\\\\n    </div>\\\\r\\\\n    <div class=\\\\\"paragroup\\\\\">\\\\r\\\\n      <span class=\\\\\"nr\\\\\">4.4.</span>\\\\r\\\\n      <p>Artikel 3 lid 1 van de ‘Richtlijn 93/13 betreffende oneerlijke bedingen in consumentenovereenkomsten’ (hierna ook: Richtlijn 93/13) bepaalt dat een beding in een overeenkomst waarover niet afzonderlijk is onderhandeld, als oneerlijk wordt beschouwd indien het, in strijd met de goede trouw, het evenwicht tussen de uit de overeenkomst voortvloeiende rechten en verplichtingen van de partijen ten nadele van de consument aanzienlijk verstoort. <span class=\\\\\"linebreak1\\\\\"> </span></p>\\\\r\\\\n      \\\\r\\\\n    </div>\\\\r\\\\n    <div class=\\\\\"paragroup\\\\\">\\\\r\\\\n      <span class=\\\\\"nr\\\\\">4.5.</span>\\\\r\\\\n      <p>Partijen hebben deze richtlijn niet in hun stellingen ten aanzien van de ABV betrokken, zodat de rechtbank volgens vaste rechtspraak ambtshalve moet toetsen of daarin sprake is van oneerlijke bedingen die [eiser] niet binden. [eiser] is aan te merken als ‘consument’ zoals vermeld in artikel 2 aanhef en sub b van de Richtlijn 93/13. De algemene voorwaarden (artikel 2 lid 2 en/of artikel 3 ABV) waarvan [eiser] vernietiging vordert, vallen onder de werking van Richtlijn 93/13. Het gaat immers om bedingen die door een professionele partij (ABN AMRO) worden gebruikt in overeenkomsten met consumenten ( [eiser] ). Voorts is voorafgaand aan de totstandkoming van de overeenkomst niet door partijen onderhandeld over deze algemene voorwaarden. Evenmin zien deze bedingen op het eigenlijke voorwerp van de overeenkomst (‘kernbedingen’) of op de gelijkwaardigheid van de wederzijdse prestaties (artikel 4 lid 2 Richtlijn 93/13). <span class=\\\\\"linebreak1\\\\\"> </span></p>\\\\r\\\\n      \\\\r\\\\n      <div class=\\\\\"parablock\\\\\">\\\\r\\\\n        <p>\\\\r\\\\n          <span class=\\\\\"emphasis\\\\\" style=\\\\\"font-style:italic;\\\\\">de toets of de bedingen oneerlijk/onredelijk bezwarend zijn</span>\\\\r\\\\n        </p>\\\\r\\\\n      </div>\\\\r\\\\n    </div>\\\\r\\\\n    <div class=\\\\\"paragroup\\\\\">\\\\r\\\\n      <span class=\\\\\"nr\\\\\">4.6.</span>\\\\r\\\\n      <p>In zijn arrest van 22 november 2019 (ECLI:NL:HR:2019:1830) heeft de Hoge Raad het uit de Richtlijn 93/13 voortvloeiende toetsingskader uiteengezet. Het HvJEU laat het aan de nationale rechter over om in het licht van de omstandigheden van het betrokken geval te onderzoeken of een specifiek beding oneerlijk is als in Richtlijn 93/13 bedoeld. Naar Nederlands recht vindt dit onderzoek plaats in het kader van artikel 6:233, aanhef en onder a, BW. Volgens deze bepaling is een beding in algemene voorwaarden vernietigbaar indien het, gelet op de aard en de overige inhoud van de overeenkomst, de wijze waarop de voorwaarden zijn tot stand gekomen, de wederzijds kenbare belangen van partijen en de overige omstandigheden van het geval, onredelijk bezwarend is voor de wederpartij.<span class=\\\\\"linebreak1\\\\\"> </span></p>\\\\r\\\\n      \\\\r\\\\n    </div>\\\\r\\\\n    <div class=\\\\\"paragroup\\\\\">\\\\r\\\\n      <span class=\\\\\"nr\\\\\">4.7.</span>\\\\r\\\\n      <p>De rechtbank overweegt als volgt. Mede gelet op de aard van diensten waarop de overeenkomst betrekking heeft, te weten het (in verregaande mate wettelijk gereguleerd) betalingsverkeer, is de rechtbank van oordeel dat artikel 2 lid 2 en artikel 3 ABV op zichzelf en in onderlinge samenhang bezien, niet het evenwicht tussen de uit de overeenkomst voortvloeiende rechten en verplichtingen van de partijen ten nadele van [eiser] verstoren. Dit geldt temeer, indien genoemde artikelen worden bezien in samenhang met artikel 2 lid 1 en artikel 35 lid 1 ABV, waaruit volgt dat voor de bank een (eveneens in verregaande mate ‘gereguleerde’) bancaire zorgplicht geldt. Voorts zijn de volgende omstandigheden van belang. <span class=\\\\\"linebreak1\\\\\"> </span></p>\\\\r\\\\n      \\\\r\\\\n    </div>\\\\r\\\\n    <div class=\\\\\"paragroup\\\\\">\\\\r\\\\n      <span class=\\\\\"nr\\\\\">4.8.</span>\\\\r\\\\n      <p>Van een rekeninghouder mag redelijkerwijs worden verwacht dat hij de informatie en documenten aanlevert die de bank nodig heeft om naar behoren te kunnen functioneren binnen het betalingsverkeersysteem. De bank heeft een gerechtvaardigd belang bij het opnemen van deze bedingen, te weten dat zij dient te voldoen aan de op haar toepasselijke wet- en regelgeving. Anders dan [eiser] stelt, legt de bank hem geen onbeperkte informatieplicht op. ABN AMRO is op basis van risico-indicatoren een cliëntonderzoek gestart (op grond van de Leidraad Wet ter voorkoming van witwassen en financieren van terrorisme en Sanctiewet van De Nederlandsche Bank, hierna: Leidraad). De vragen van ABN AMRO zagen specifiek op de herkomst van het vermogen van [eiser] naar aanleiding van een aantal ongebruikelijke transacties. Bij het stellen van vragen, de beoordeling en de beëindiging van de klantrelatie dient ABN AMRO de Wwft, de Leidraad en artikel 2 ABV na te leven. ABN AMRO heeft onderbouwd dat zij zorgvuldig en conform deze voorschriften heeft gehandeld. Anders dan [eiser] stelt, is hij dus niet overgeleverd aan de willekeur van ABN AMRO. <span class=\\\\\"linebreak1\\\\\"> </span></p>\\\\r\\\\n      \\\\r\\\\n    </div>\\\\r\\\\n    <div class=\\\\\"paragroup\\\\\">\\\\r\\\\n      <span class=\\\\\"nr\\\\\">4.9.</span>\\\\r\\\\n      <p>Verder is van belang dat [eiser] niet in een minder gunstige positie wordt geplaatst, dan die welke uit het geldende recht voortvloeit. De zorgplicht en informatieplicht zouden ook gelden indien de AVB niet in dergelijke plichten zouden voorzien. Voorts zijn de bedingen voor een normaal geïnformeerde en redelijk omzichtige en oplettende consument dusdanig duidelijk en begrijpelijk geformuleerd dat (ook) [eiser] de mogelijke gevolgen die voor hem uit de overeenkomst voortvloeien heeft kunnen inschatten, zoals het geven van informatie en documentatie in het kader van het in de Wwft bedoelde cliëntonderzoek. ABN AMRO kon er redelijkerwijs vanuit gaan dat [eiser] de desbetreffende bedingen zou aanvaarden indien daarover op eerlijke en billijke wijze afzonderlijk was onderhandeld. Hierbij is ook relevant dat de bedingen gebruikelijk zijn en in vergelijkbare overeenkomsten met banken worden gehanteerd. Bij het voorgaande is tenslotte niet zonder belang dat, zoals ABN AMRO heeft aangevoerd, de ABV in overleg met onder meer de Consumentenbond zijn opgesteld. Het voorgaande leidt tot de conclusie dat de bedingen niet onredelijk bezwarend en evenmin oneerlijk zijn, zodat voor gehele of gedeeltelijke vernietiging daarvan geen grond bestaat.<span class=\\\\\"linebreak1\\\\\"> </span></p>\\\\r\\\\n      \\\\r\\\\n    </div>\\\\r\\\\n    <div class=\\\\\"paragroup\\\\\">\\\\r\\\\n      <span class=\\\\\"nr\\\\\">4.10.</span>\\\\r\\\\n      <p>Het voorgaande leidt tot de conclusie dat het primair onder 1 en 2 gevorderde niet toewijsbaar is. Omdat van gehele of gedeeltelijke vernietiging van artikel 2 lid 2 ABV en/of artikel 3 ABV geen sprake is, is ook het subsidiair onder 1 en 2 gevorderde niet-toewijsbaar. <span class=\\\\\"linebreak1\\\\\"> </span></p>\\\\r\\\\n      \\\\r\\\\n      <div class=\\\\\"parablock\\\\\">\\\\r\\\\n        <p>\\\\r\\\\n          <span class=\\\\\"emphasis\\\\\" style=\\\\\"font-style:italic;\\\\\">ad vorderingen 3 en 4: opzegging bankrelatie</span>\\\\r\\\\n        </p>\\\\r\\\\n      </div><span class=\\\\\"linebreak1\\\\\"> </span>\\\\r\\\\n      \\\\r\\\\n    </div>\\\\r\\\\n    <div class=\\\\\"paragroup\\\\\">\\\\r\\\\n      <span class=\\\\\"nr\\\\\">4.11.</span>\\\\r\\\\n      <p>Met betrekking tot de opzegging van de bankrelatie voert [eiser] het volgende aan. Volgens [eiser] voert ABN AMRO een publiekrechtelijke taak uit en behartigt zij publiekrechtelijke belangen. Zij treedt op als hulppersoon van de overheid. De delegatie van publieke taken aan private partijen zoals ABN AMRO voldoet echter niet aan de vereisten van legaliteit, proportionaliteit en subsidiariteit en doet afbreuk aan de rechtsbescherming van burgers. [eiser] voert aan dat ABN AMRO inbreuk maakt op zijn fundamentele grondrechten (voortvloeiende uit het Europees Handvest, het EVRM en de bancaire zorgplicht). Hoewel ABN AMRO [eiser] geen enkel concreet verwijt kan maken met betrekking tot betrokkenheid bij enig crimineel doen of nalaten heeft gemaakt, wordt [eiser] , volgens hem ten onrechte, gecriminaliseerd door ABN AMRO. Hij wordt aangemerkt als ongewenst element in het financieel stelsel. Er is geen reëel en concreet witwasrisico om de beëindiging van de relatie te rechtvaardigen. Ook beroept ABN AMRO zich ten onrechte op de contractsvrijheid. Van contractsvrijheid is geen sprake, gelet op de in artikel 5 Wwft opgenomen beëindigingsverplichting ingeval van een witwasrisico. De politie mag de gegevens die [eiser] aan de bank heeft overgelegd vrijelijk opvragen (artikel 17 jo. 13 sub a en b Wwft jo. artikel 8 Wet politiegegevens). Artikel 23 Wwft bepaalt dat ABN AMRO het opvragen geheim moet houden voor [eiser] . ABN AMRO is ook verplicht ongebruikelijke transacties te melden aan de politie (artikel 16 Wwft). Het niet kunnen afronden van een cliëntonderzoek is een ongebruikelijke transactie. Bovendien is opzegging van de bancaire relatie naar maatstaven van redelijkheid en billijkheid onaanvaardbaar. De omstandigheid dat [eiser] ook beschikt over een bankrekening bij ING, doet aan het voorgaande niet af, omdat het een kwestie van tijd is dat ten aanzien van die bankrekening eenzelfde geschil ontstaat. [eiser] voert aan dat hij redelijke verklaringen heeft gegeven voor de herkomst van het geld. Het betrof een uitkering van de winst uit zijn eerdere onderneming Mecast en een terugbetaling van een lening door zijn broer. Ook heeft hij uitgelegd waarom hij niet meer documenten kan overleggen, onder meer omdat hij plotseling naar Nederland moest vertrekken en geen toegang meer heeft tot de Kamer van Koophandel in Irak. Ook heeft [eiser] geen toegang meer tot de jaarstukken, omdat het lang geleden is en de stukken niet meer digitaal beschikbaar zijn. Het gevolg van de opzegging is dat het voor [eiser] niet of nauwelijks meer mogelijk is financiële diensten en producten af te nemen en hij zodoende niet meer kan deelnemen aan het maatschappelijk verkeer, wat een onaanvaardbare (straf)sanctie is.<span class=\\\\\"linebreak1\\\\\"> </span></p>\\\\r\\\\n      \\\\r\\\\n    </div>\\\\r\\\\n    <div class=\\\\\"paragroup\\\\\">\\\\r\\\\n      <span class=\\\\\"nr\\\\\">4.12.</span>\\\\r\\\\n      <p>ABN AMRO voert verweer. ABN AMRO heeft als Wwft-instelling de verplichting om cliëntonderzoek te doen en ongebruikelijke transacties te melden. Zij is poortwachter om misbruik van het financiële systeem te voorkomen en handelt slechts preventief. Het opsporings- en vervolgingswerk berust bij de overheid en ABN AMRO heeft zelf geen formele opsporingsbevoegdheden. De bank heeft ook een eigen belang om preventieve maatregelen te nemen tegen financieel-economische criminaliteit, te weten dat de integriteit van de financiële sector gewaarborgd wordt. Voor zover al sprake is van een inmenging in de grondrechten van [eiser] , is die inbreuk legitiem. Er is immers een doelstelling van algemeen belang (de aanpak van witwassen en terrorismefinanciering) en de bank verwerkt slechts persoonsgegevens voor zover artikel 6 Algemene Verordening Persoonsgegevens daar een grondslag voor biedt. Er waren voldoende indicaties om een cliëntonderzoek te starten. In de periode tussen 1 september 2017 en 3 juli 2018 is in totaal een bedrag van € 420.430,00 gestort op de rekening van [eiser] , afkomstig uit landen met een hoog risico, in dit geval (indirect uit) Irak en Jersey. Deze landen zijn genoemd als hoge risicolanden zonder effectieve AML/CFT-systemen (Bijlage III van de vierde anti-witwasrichtlijn, Leidraad naleving Wwft van 24 oktober 2018). Bij een cliëntonderzoek moet de bank passende maatregelen treffen om de bron van het vermogen dat bij de diverse transacties gebruikt wordt, vast te stellen (artikel 8 lid 5 sub b onder 2 Wwft). De uitkomst van het cliëntenonderzoek en de door [eiser] gegeven informatie zijn voor de bank niet voldoende om te kunnen voldoen aan haar Wwft-verplichtingen. De verklaring van [eiser] over de herkomst van de gelden heeft de bank onvoldoende door middel van objectieve documenten kunnen verifiëren. De door [eiser] overgelegde facturen tonen niet meer aan dan dat Mecast heeft bestaan en er omzet is geweest. De bank kan niet vaststellen of [eiser] een belang genoot in Mecast of meedeelde in de winst. [eiser] heeft onvoldoende bewijs overgelegd van de herkomst van het geld van Mecast en de herkomst van het geld van de lening aan zijn broer. [eiser] heeft verklaard dat het gaat om aanspraak op het eigen vermogen van Mecast, maar dit had hij als eigenaar via een aandeelhoudersbesluit te gelde kunnen maken, in plaats van dit in notulen vast te laten leggen. De bank wijst op tegenstrijdigheden in de verklaringen van [eiser] , namelijk eerst dat het privévermogen betrof en daarna dat het de tegenwaarde was van het belang van [eiser] in Mecast. [eiser] had belastingaangiftes, loonstroken, jaarrekeningen of een akte van oprichting, verkoop van aandelen of liquidatie van Mecast kunnen overleggen. Nu hij dat heeft nagelaten, kan ABN AMRO de verklaringen niet verifiëren. Het niet kunnen aanleveren van de documenten ligt in de risicosfeer van [eiser] . Een plotseling vertrek uit Irak is geen afdoende verklaring dat hij geen administratie van zijn bedrijf kan aanleveren. Dit levert voor de bank een onacceptabel risico op waarop zij volgens haar terecht actie op heeft ondernomen. De bancaire relatie is een duurovereenkomst die in beginsel opzegbaar is (artikel 35 ABV). De opzegging door ABN AMRO is gerechtvaardigd en niet naar maatstaven van redelijkheid en billijkheid onaanvaardbaar. ABN AMRO heeft meegewogen dat [eiser] een ING-rekening heeft en toegang houdt tot het betalingsverkeer. Dat ING in de toekomst mogelijk vragen gaat stellen, vormt geen belemmering voor ABN AMRO om te kunnen opzeggen. ING heeft de verplichting ervoor te zorgen dat [eiser] (onder voorwaarden) toegang behoudt tot het betalingsverkeer. Verder betoogt de bank dat zij voor een opzegging geen concrete bewijzen nodig heeft dat de klant betrokken is bij financieel-economische criminaliteit.<span class=\\\\\"linebreak1\\\\\"> </span></p>\\\\r\\\\n      \\\\r\\\\n      <div class=\\\\\"parablock\\\\\">\\\\r\\\\n        <p>\\\\r\\\\n          <span class=\\\\\"emphasis\\\\\" style=\\\\\"font-style:italic;\\\\\">beoordeling opzegging bankrelatie</span>\\\\r\\\\n        </p>\\\\r\\\\n      </div>\\\\r\\\\n    </div>\\\\r\\\\n    <div class=\\\\\"paragroup\\\\\">\\\\r\\\\n      <span class=\\\\\"nr\\\\\">4.13.</span>\\\\r\\\\n      <p>De rechtbank overweegt als volgt. Banken hebben op grond van de Wwft een verantwoordelijkheid bij het signaleren van zogenoemde financieel-economische criminaliteit en andere integriteitsrisico’s. Zij moeten zoveel mogelijk voorkomen dat het financiële systeem voor oneigenlijke doelen wordt misbruikt. Daartoe moeten zij onderzoek doen naar hun cliënten en de verzamelde informatie actueel houden (artikel 3 e.v. Wwft). Dit is geen publiekrechtelijke taak en van optreden als hulppersoon van de overheid is geen sprake. De Wwft schrijft weliswaar niet (per geval) voor hoe het cliëntenonderzoek moet worden verricht, maar wel tot welk resultaat het onderzoek moet leiden. Als een bank onvoldoende inhoud kan geven aan haar verplichting om cliëntonderzoek uit te voeren - waardoor zij het risico van misbruik van de door haar aangeboden producten en diensten niet kan overzien - moet zij de relatie met die cliënt beëindigen (artikel 5 lid 3 Wwft). Het is voor de beëindiging van de relatie niet noodzakelijk dat er concrete bewijzen zijn dat de cliënt betrokken is bij criminele activiteiten. Banken hebben geen formele opsporingsbevoegdheden en zijn voor het cliëntenonderzoek afhankelijk van informatie uit openbare bronnen en informatie van de cliënt zelf. De cliënt is verplicht de bank te voorzien van de nodige informatie over - onder meer - hoe hij is gekomen aan geld dat hij bij de bank onderbrengt en eraan meewerkt dat de bank de informatie kan controleren (artikel 2 lid 2 en artikel 3 ABV). <span class=\\\\\"linebreak1\\\\\"> </span></p>\\\\r\\\\n      \\\\r\\\\n    </div>\\\\r\\\\n    <div class=\\\\\"paragroup\\\\\">\\\\r\\\\n      <span class=\\\\\"nr\\\\\">4.14.</span>\\\\r\\\\n      <p>Niet in geschil is dat ABN AMRO op grond van artikel 35 ABV in beginsel bevoegd is en op grond van artikel 5 lid 3 Wwft verplicht is om de bankrelatie met [eiser] op te zeggen. ABN AMRO heeft aanleiding gezien een klantenonderzoek te starten op grond van een aantal ongebruikelijke transacties op de bankrekening van [eiser] . Er waren verschillende indicatoren die als risico worden gezien, te weten stortingen van hoge bedragen aan een particulier die (indirect) werden gedaan vanuit hoog-risicolanden. [eiser] betwist ook niet dat ABN AMRO aanleiding had tot het verrichten van een cliëntonderzoek. ABN AMRO heeft bij herhaling om informatie en onderbouwing gevraagd over de herkomst van het geld dat is gestort vanuit Mecast en door de broer van [eiser] . De rechtbank is van oordeel dat de gegevens die [eiser] heeft verstrekt ontoereikend zijn om de bron van zijn vermogen vast te stellen. Uit de informatie kan hooguit worden afgeleid dat er bedrijfsactiviteiten waren bij Mecast en dat [eiser] een functie heeft bekleed bij deze vennootschap. Welke juridische relatie bestond tussen Mecast en [eiser] en wat de titel was van de vergoedingen van Mecast aan [eiser] , is echter niet of onvoldoende komen vast te staan. ABN AMRO heeft herhaaldelijk specifiek verzocht om informatie en documentatie hieromtrent en [eiser] is bij akte in de gelegenheid gesteld om producties te overleggen over de rechtsverhouding tussen [eiser] en Mecast en de titel van de vergoedingen die Mecast aan hem heeft betaald. [eiser] heeft geen objectieve informatie gegeven die zijn verklaringen onderbouwen, zoals bankafschriften waaruit betaling van zijn salaris of managementvergoeding blijkt, aandeelhoudersbesluiten, belastingaangiften of jaarrekeningen – waarvan [eiser] ter zitting heeft aangegeven dat deze vanaf 2012 zijn opgesteld – van Mecast, terwijl deze gegevens zich wel in zijn domein bevinden. [eiser] heeft ABN AMRO onvoldoende in staat gesteld om het cliëntonderzoek af te ronden. ABN AMRO kan daardoor niet voldoen aan de op haar rustende verplichtingen die voortvloeien uit de Wwft. Ook is ABN AMRO niet in staat de verdere risico’s te beoordelen die zij loopt bij voortzetting van de bankrelatie met [eiser] . De vragen van ABN AMRO voldeden aan de vereisten van proportionaliteit en subsidiariteit, omdat deze slechts zagen op de herkomst van het vermogen van een aantal ongebruikelijke transacties. Het komt voor risico van [eiser] dat hij deze vragen niet of onvoldoende heeft beantwoord, daar van hem verwacht had mogen worden dat hij ter zake onafhankelijke documenten kan overleggen zoals bankafschriften en belastingaangiften. De conclusie is dat ABN AMRO geen afdoende antwoord heeft gekregen op de vragen die zij heeft gesteld, terwijl [eiser] ruim voldoende gelegenheid voor beantwoording heeft gehad. Bovendien heeft ABN AMRO [eiser] herhaaldelijk gewaarschuwd voor de mogelijke gevolgen als hij niet volledig zou antwoorden. ABN AMRO heeft daarmee voldoende reden en belang de bankrelatie met [eiser] te beëindigen, hetgeen zij op een zorgvuldige manier heeft gedaan. <span class=\\\\\"linebreak1\\\\\"> </span></p>\\\\r\\\\n      \\\\r\\\\n    </div>\\\\r\\\\n    <div class=\\\\\"paragroup\\\\\">\\\\r\\\\n      <span class=\\\\\"nr\\\\\">4.15.</span>\\\\r\\\\n      <p>Tegenover het belang van ABN AMRO wijst [eiser] op zijn belang bij het hebben van een bankrekening. Hij vreest dat het gevolg van opzegging door ABN AMRO zal zijn dat zijn rekening bij de ING ook zal worden opgezegd op het moment dat hij het saldo van zijn ABN AMRO-rekening overboekt naar zijn ING-rekening. Volgens [eiser] moet de belangenafweging in zijn voordeel uitvallen. De toets van artikel 6:248 lid 2 BW ziet op de vraag of het gebruik door de bank van haar opzeggingsbevoegdheid naar maatstaven van redelijkheid en billijkheid onaanvaardbaar moet worden geacht, gegeven de verdere inhoud van de overeenkomst, de relevante omstandigheden van het geval en de belangen van partijen bij het gebruik van die opzeggingsbevoegdheid (Hoge Raad 10 oktober 2014, ECLI:NL:HR:2014:2929, ING/De Keijzer Beheer). De rechtbank acht het voldoende voor de toegang tot het betalingsverkeer dat [eiser] over een andere bankrekening beschikt. Voor zover ING gebruikmaakt van haar bevoegdheid tot beëindiging, zal ING moeten meewegen dat [eiser] geen andere betaalrekening heeft. De rechtbank kan niet op die belangenafweging vooruitlopen. Andere feiten of omstandigheden die tot een succesvol beroep van [eiser] op artikel 6:248 lid 2 BW kunnen leiden, zijn gesteld noch gebleken. Gelet op het bovenstaande is het belang van ABN AMRO bij opzegging voldoende zwaarwegend in verhouding tot het belang van [eiser] bij voortzetting van de relatie. <span class=\\\\\"linebreak1\\\\\"> </span></p>\\\\r\\\\n      \\\\r\\\\n    </div>\\\\r\\\\n    <div class=\\\\\"paragroup\\\\\">\\\\r\\\\n      <span class=\\\\\"nr\\\\\">4.16.</span>\\\\r\\\\n      <p>De rechtbank is, in de gegeven omstandigheden, van oordeel dat is komen vast te staan dat ABN AMRO op grond van artikel 5 lid 3 Wwft verplicht was om de relatie te beëindigen en dat zij de in artikel 35 ABV vastgelegde bevoegdheid daartoe redelijkerwijs heeft kunnen en mogen uitoefenen. De vorderingen onder 3 en 4 zullen derhalve worden afgewezen. <span class=\\\\\"linebreak1\\\\\"> </span></p>\\\\r\\\\n      \\\\r\\\\n      <div class=\\\\\"parablock\\\\\">\\\\r\\\\n        <p>\\\\r\\\\n          <span class=\\\\\"emphasis\\\\\" style=\\\\\"font-style:italic;\\\\\">ad vorderingen 5 en 6: verbod tot opnieuw opzeggen bankrelatie en/of tot verdere bevraging van [eiser]</span>\\\\r\\\\n        </p>\\\\r\\\\n      </div>\\\\r\\\\n    </div>\\\\r\\\\n    <div class=\\\\\"paragroup\\\\\">\\\\r\\\\n      <span class=\\\\\"nr\\\\\">4.17.</span>\\\\r\\\\n      <p>Bij deze stand van zaken heeft [eiser] geen belang meer bij onder 5 en 6 gevorderde verboden, zodat ook deze vorderingen zullen worden afgewezen. <span class=\\\\\"linebreak1\\\\\"> </span></p>\\\\r\\\\n      \\\\r\\\\n      <div class=\\\\\"parablock\\\\\">\\\\r\\\\n        <p>\\\\r\\\\n          <span class=\\\\\"emphasis\\\\\" style=\\\\\"font-style:italic;\\\\\">veroordeling proceskosten</span>\\\\r\\\\n        </p>\\\\r\\\\n      </div>\\\\r\\\\n    </div>\\\\r\\\\n    <div class=\\\\\"paragroup\\\\\">\\\\r\\\\n      <span class=\\\\\"nr\\\\\">4.18.</span>\\\\r\\\\n      <p>\\\\r\\\\n        [eiser] zal als de in het ongelijk gestelde partij in de proceskosten worden veroordeeld. De kosten aan de zijde van ABN AMRO worden begroot op:</p>\\\\r\\\\n      <p>- griffierecht\\\\t€\\\\t676,00</p>\\\\r\\\\n      <p>- salaris advocaat\\\\t€<span class=\\\\\"emphasis\\\\\" style=\\\\\"border-bottom:1px solid black;\\\\\">\\\\t1.196,00</span> (2,5 punten× tarief II € 598,00)</p>\\\\r\\\\n      <p>Totaal\\\\t€ \\\\t1.872,00<span class=\\\\\"linebreak1\\\\\"> </span></p>\\\\r\\\\n      \\\\r\\\\n    </div>\\\\r\\\\n    <div class=\\\\\"paragroup\\\\\">\\\\r\\\\n      <span class=\\\\\"nr\\\\\">4.19.</span>\\\\r\\\\n      <p>De gevorderde veroordeling in de nakosten is toewijsbaar voor zover deze kosten op dit moment kunnen worden begroot. De nakosten zullen dan ook worden toegewezen op de wijze zoals in de beslissing vermeld.<span class=\\\\\"linebreak2\\\\\"> </span></p>\\\\r\\\\n      \\\\r\\\\n      \\\\r\\\\n    </div>\\\\r\\\\n  </div>\\\\r\\\\n  <div class=\\\\\"section beslissing\\\\\">\\\\r\\\\n    <h2>\\\\r\\\\n      <span class=\\\\\"nr\\\\\">5</span> De beslissing</h2>\\\\r\\\\n    <p>De rechtbank<span class=\\\\\"linebreak1\\\\\"> </span></p>\\\\r\\\\n    \\\\r\\\\n    <div class=\\\\\"paragroup\\\\\">\\\\r\\\\n      <span class=\\\\\"nr\\\\\">5.1.</span>\\\\r\\\\n      <p>wijst de vorderingen van [eiser] af,<span class=\\\\\"linebreak1\\\\\"> </span></p>\\\\r\\\\n      \\\\r\\\\n    </div>\\\\r\\\\n    <div class=\\\\\"paragroup\\\\\">\\\\r\\\\n      <span class=\\\\\"nr\\\\\">5.2.</span>\\\\r\\\\n      <p>veroordeelt [eiser] in de proceskosten, aan de zijde van ABN AMRO tot op heden begroot op € 1.872,00,</p>\\\\r\\\\n    </div>\\\\r\\\\n    <div class=\\\\\"paragroup\\\\\">\\\\r\\\\n      <span class=\\\\\"nr\\\\\">5.3.</span>\\\\r\\\\n      <p>veroordeelt [eiser] in de na dit vonnis ontstane kosten, begroot op € 173,00 aan salaris advocaat, te vermeerderen, onder de voorwaarde dat [eiser] niet binnen 14 dagen na aanschrijving aan het vonnis heeft voldaan en er vervolgens betekening van de uitspraak heeft plaatsgevonden, met een bedrag van € 90,00 aan salaris advocaat en de explootkosten van betekening van de uitspraak,<span class=\\\\\"linebreak1\\\\\"> </span></p>\\\\r\\\\n      \\\\r\\\\n    </div>\\\\r\\\\n    <div class=\\\\\"paragroup\\\\\">\\\\r\\\\n      <span class=\\\\\"nr\\\\\">5.4.</span>\\\\r\\\\n      <p>verklaart dit vonnis wat betreft de kostenveroordeling uitvoerbaar bij voorraad.<span class=\\\\\"linebreak1\\\\\"> </span></p>\\\\r\\\\n      \\\\r\\\\n      <div class=\\\\\"parablock\\\\\">\\\\r\\\\n        <p>Dit vonnis is gewezen door mr. G.J. Meijer en in het openbaar uitgesproken op 22 februari 2023.</p>\\\\r\\\\n      </div><span class=\\\\\"linebreak5\\\\\"> </span>\\\\r\\\\n      \\\\r\\\\n      \\\\r\\\\n      \\\\r\\\\n      \\\\r\\\\n      \\\\r\\\\n      \\\\r\\\\n      \\\\r\\\\n      \\\\r\\\\n      \\\\r\\\\n      \\\\r\\\\n      \\\\r\\\\n      \\\\r\\\\n      \\\\r\\\\n      \\\\r\\\\n      \\\\r\\\\n      \\\\r\\\\n      \\\\r\\\\n      \\\\r\\\\n      \\\\r\\\\n      \\\\r\\\\n      \\\\r\\\\n      \\\\r\\\\n      \\\\r\\\\n    </div>\\\\r\\\\n  </div>\\\\r\\\\n</div>\",\"Keywords\":null,\"Ingetrokken\":false,\"Rechtsgebieden\":[{\"ResourceIdentifier\":\"http://psi.rechtspraak.nl/rechtsgebied#civielRecht_verbintenissenrecht\",\"Naam\":\"Civiel recht; Verbintenissenrecht\",\"DisplayTekst\":\"<span> Verbintenissenrecht</span>\"}],\"Identifier\":\"ECLI:NL:RBGEL:2023:784\",\"DatumModified\":\"0001-01-01T00:00:00\",\"DatumPublicatie\":\"2023-02-17T17:30:32\",\"PublisherNaam\":null,\"PublisherIdentifier\":null,\"Vervangt\":[],\"WordtVervangenDoor\":[],\"InstantieNaam\":\"<span>Rechtbank Gelderland</span>\",\"InstantieType\":\"Rechtbanken\",\"InstantieIdentifier\":\"http://standaarden.overheid.nl/owms/terms/Rechtbank_Gelderland\",\"Rechter\":[],\"RechterLabel\":null,\"DatumUitspraak\":\"2023-02-22T00:00:00\",\"Zaaknummer\":[\"<span>C/05/400106 / HA ZA 22-85</span>\"],\"Alias\":[],\"CasusPeriodeStartJaar\":0,\"CasusPeriodeEindJaar\":0,\"ZittingsplaatsNaam\":null,\"ZittingsplaatsIdentifier\":null,\"FormeleRelatie\":[],\"Vindplaatsen\":[\"<span>Rechtspraak.nl</span>\",\"<span>Sdu Nieuws Financieel recht 2023/71</span>\"],\"Type\":\"Uitspraak\",\"TypeResourceIdentifier\":\"http://psi.rechtspraak.nl/uitspraak\",\"ProcedureSoorten\":[{\"Naam\":\"<span>Eerste aanleg - enkelvoudig</span>\",\"ResourceIdentifier\":\"http://psi.rechtspraak.nl/procedure#eersteAanlegEnkelvoudig\"},{\"Naam\":\"<span>Op tegenspraak</span>\",\"ResourceIdentifier\":\"http://psi.rechtspraak.nl/procedure#opTegenspraak\"}],\"TypeVoorDeUitspraakDatum\":\"uitspraak\",\"IsInactief\":false,\"Issued\":\"2023-03-01T14:00:23\",\"KoopUrl\":\"https://linkeddata.overheid.nl/document/ECLI:NL:RBGEL:2023:784\",\"Titel\":\"ECLI:NL:RBGEL:2023:784, Rechtbank Gelderland, C/05/400106 / HA ZA 22-85\"}']\n"
          ]
        }
      ]
    },
    {
      "cell_type": "code",
      "source": [
        "# Omdat de uitspraak in json-format staat kan python goed overweg met de datastructuur, maar er moet wel even een \"library\" worden ingeschakeld:\n",
        "import json\n",
        "uitspraak = uitsprakenlijst[0][1]\n",
        "uitspraakjson = json.loads(uitspraak)\n",
        "print(uitspraakjson[\"DatumUitspraak\"])\n",
        "print(uitspraakjson[\"UitspraakTekst\"])\n"
      ],
      "metadata": {
        "id": "k-_tTiVtSCa5"
      },
      "execution_count": null,
      "outputs": []
    },
    {
      "cell_type": "code",
      "source": [
        "# We gaan de uitspraak weer opschonen: \n",
        "uitspraakSchoon = uitspraakjson[\"UitspraakTekst\"]\n",
        "uitspraakSchoon = re.sub(\"<.+?>\", \"\", uitspraakSchoon)\n",
        "uitspraakSchoon = re.sub(\"\\s{2,}\", \" \", uitspraakSchoon)\n",
        "print(uitspraakSchoon)\n"
      ],
      "metadata": {
        "colab": {
          "base_uri": "https://localhost:8080/"
        },
        "id": "OTVCbeLoTCCJ",
        "outputId": "441d28a8-8c4f-4bc1-8f79-96870f0d9c03"
      },
      "execution_count": 16,
      "outputs": [
        {
          "output_type": "stream",
          "name": "stdout",
          "text": [
            " vonnis RECHTBANK GELDERLAND Team kanton en handelsrecht Zittingsplaats Arnhem zaaknummer / rolnummer: C/05/400106 / HA ZA 22-85 Vonnis van 22 februari 2023 in de zaak van [eiser] , wonende te [woonplaats] , eiser, advocaat mr. R.H.J.M. Silvertand te Waalwijk, tegen de naamloze vennootschap ABN AMRO BANK N.V., gevestigd te Amsterdam, gedaagde, advocaat mr. A.L. Bremmer te Amsterdam. Partijen zullen hierna [eiser] en ABN AMRO of de bank worden genoemd. 1 De procedure 1.1. Het verloop van de procedure blijkt uit: - het tussenvonnis van 1 juni 2022 - de akte inbreng producties 18 tot en met 20 van [eiser] van 13 juli 2022 - de akte inbreng producties 21 tot en met 26 van [eiser] van 19 september 2022 - het (verkort) proces-verbaal van de mondelinge behandeling van 23 september 2022 - akte uitlating van [eiser] met producties 27 tot en met 31 van 19 oktober 2022 - de antwoordakte uitlating van ABN AMRO van 16 november 2022. 1.2. Ten slotte is vonnis bepaald. 2 De feiten 2.1. [eiser] is op grond van een op 7 februari 2017 met ABN AMRO gesloten overeenkomst houder van een betaalrekening eindigend op nummer 301 en een spaarrekening eindigend op 212. 2.2. Op de overeenkomst tussen [eiser] en ABN AMRO zijn de Algemene Bankvoorwaarden 2017 (hierna: ABV) van toepassing. Daarin is, voor zover van belang, vermeld: (…) Artikel 2 - Zorgplicht Wij hebben een zorgplicht. U bent ook zorgvuldig tegenover ons en u mag van onze dienstverlening geen misbruik maken. 1. Wij zijn bij onze dienstverlening zorgvuldig en houden hierbij zo goed mogelijk rekening met uw belangen. Dit doen wij op een manier die aansluit bij de aard van de dienstverlening. Deze belangrijke regel geldt altijd. Andere regels in de ABV of in de voor producten of diensten geldende overeenkomsten en de daarbij behorende bijzondere voorwaarden kunnen dit niet veranderen. Wij streven naar begrijpelijke producten en diensten. Ook streven wij naar begrijpelijke informatie over die producten en diensten en de risico’s ervan. 2. U bent zorgvuldig tegenover ons en houdt zo goed mogelijk rekening met onze belangen. U werkt eraan mee dat wij onze dienstverlening correct kunnen uitvoeren en aan onze verplichtingen kunnen voldoen. Hiermee bedoelen wij niet alleen onze verplichtingen tegenover u, maar bijvoorbeeld ook verplichtingen die wij in verband met onze dienstverlening aan u hebben tegenover toezichthouders of fiscale of andere (nationale, internationale of supranationale) autoriteiten. U geeft ons, als wij daarom vragen, de informatie en documentatie die wij daarvoor nodig hebben. Als het u duidelijk moet zijn dat wij die informatie of documentatie nodig hebben, geeft u die uit uzelf. U mag onze diensten of producten alleen gebruiken waarvoor ze zijn bedoeld en hiervan geen misbruik (laten) maken. Denkt u bij misbruik bijvoorbeeld aan strafbare feiten of activiteiten die schadelijk zijn voor ons of onze reputatie of die de werking en betrouwbaarheid van het financiële stelsel kunnen schaden. Artikel 3 - Activiteiten en doeleinden Wij vragen u om informatie om misbruik te voorkomen en risico’s te beoordelen. 1. Banken hebben een sleutelrol in het nationale en internationale financiële stelsel. Helaas wordt onze dienstverlening soms misbruikt, bijvoorbeeld voor het witwassen van geld. Wij willen misbruik voorkomen en moeten dit volgens de wet ook doen. Wij hebben hiervoor informatie van u nodig. De informatie kan bijvoorbeeld ook nodig zijn voor de beoordeling van onze risico’s of het goede verloop van onze dienstverlening. Daarom informeert u ons, als wij dat vragen, in ieder geval over: a. uw activiteiten en doelen b. waarom u een product of dienst van ons afneemt of wilt afnemen c. hoe u bent gekomen aan geld, waardepapieren of andere zaken die u bij of via ons onderbrengt. Ook verstrekt u ons alle informatie die wij nodig hebben om te bepalen in welk(e) land(en) u fiscaal inwoner bent. 2. U werkt eraan mee dat wij de informatie kunnen controleren. Bij het gebruik van de informatie houden wij ons aan de geldende privacyregelgeving. (…) Artikel 35 - Opzegging van de relatie U kunt de relatie opzeggen. Wij kunnen dit ook. Opzegging betekent dat de relatie eindigt en alle lopende overeenkomsten zo snel mogelijk worden afgewikkeld. 1. U kunt de relatie tussen u en ons opzeggen. Wij kunnen dit ook. Het is daarvoor niet nodig dat u in verzuim bent met de nakoming van een verplichting. Wij houden ons bij opzegging aan onze zorgplicht als genoemd in artikel 2 lid 1 ABV. Als u ons vraagt waarom wij de relatie opzeggen, dan laten wij u dat weten. 2. Opzegging betekent dat de relatie en alle lopende overeenkomsten worden beëindigd. Gedeeltelijke opzegging kan ook. In dat geval kunnen er bijvoorbeeld bepaalde overeenkomsten blijven bestaan. 3. Als er voor de beëindiging van een overeenkomst voorwaarden gelden, zoals een opzegtermijn, worden die nageleefd. Tijdens de afwikkeling van de relatie en de beëindigde overeenkomsten blijven alle toepasselijke voorwaarden van kracht. (…) 2.3. [eiser] beschikt tevens over een betaalrekening bij de ING Bank. 2.4. In de periode van 1 tot en met 28 september 2017 heeft [eiser] in verschillende transacties een bedrag van in totaal € 315.950,00 ontvangen op zijn rekening bij ABN AMRO van de heer [naam 1] (hierna: de broer van [eiser] ). De broer van [eiser] heeft dit bedrag overgemaakt vanaf een betaalrekening bij de HSBC Bank in Jersey. 2.5. In de periode van 19 juni tot en met 3 juli 2018 heeft [eiser] in verschillende transacties een bedrag van € 104.480,00 ontvangen op zijn rekening bij ABN AMRO van MECAST ltd (hierna: Mecast), een vennootschap naar Irakees recht. Het bedrag is overgemaakt via een Letse betaalrekening die op naam staat van Mecast. 2.6. ABN AMRO is naar aanleiding van (onder meer) deze transacties een cliëntonderzoek gestart op grond van de Wet ter voorkoming van witwassen en financieren van terrorisme (hierna: Wwft). 2.7. Op 10 november 2020 heeft [eiser] in een telefoongesprek met de bank aangegeven tien jaar werkzaam te zijn geweest voor Mecast in de functie van managing partner. Ook heeft hij verklaard dat hij de gelden die hij in Irak heeft verdiend, in 2017 heeft overgemaakt naar Nederlandse bankrekeningen. 2.8. Op schriftelijke vragen van ABN AMRO heeft [eiser] per brief van 20 november 2020 als volgt geantwoord: (…) 2. U geeft op 19 juni 2018 en 03 juli 2018 in totaal EUR 104.480,00 ontvangen van MECAST ltd. Wat is de reden voor deze transactie? Het geld was een onderdeel van mijn privévermogen. Wat is de herkomst van deze gelden? Het geld was een onderdeel van mijn privévermogen dat ik met de activiteiten voor Mecast heb verdiend in de periode 2006-2015. 3. U heeft in de periode van 1 september 2017 tot en met 28 september 2017 in totaal EUR 315.950,00 ontvangen van [naam 1] middels een buitenlandse overboeking. a. Wat is de reden voor deze transacties? Aflossing van een persoonlijke lening, omdat mijn broer dit bedrag persoonlijk van mij in Irak in 2015 had geleend van mijn privévermogen. b. Waarom hebben deze transacties via een buitenlandse bankrekening in Jersey (Brits Kroonbezit) plaatsgevonden? Ik had het voorkeur om het geld hier terug te krijgen, omdat ik van plan was om een woning te kopen. (…) 2.9. ABN AMRO heeft per brief van 3 mei 2021 vervolgvragen gesteld. Hierop heeft [eiser] op 11 mei 2021 geantwoord: Wat is de reden dat u een deel van uw privévermogen bij MECAST ltd bewaart? Destijds dit bedrag niet beschikbaar was om eerder overgemaakt te worden. Zie de voucher van MECAST in de bijlage. Wat is de reden dat uw broer in 2015 dit bedrag van u heeft geleend? Mijn broer had dit bedrag persoonlijk van mij geleend, had ik hem niet gevraagd waarom hij dit bedrag nodig had. Hoe heeft u dit vermogen toentertijd opgebouwd? Het verkopen van Broadcasting Services, system integration van radio- en tv studio’s en media solutions zoals bv een play-out system. Klanten waren: het ministerie van cultuur van KRG,(…). Leveranciers waren: ND SatCom GMBH, UBMS, Mediacast Sys, Syes Italy, (…). Als bijlage stuur ik u inkoop-en verkoopfacturen mee. 2.10. [eiser] heeft aan de bank inkoop- en verkoopfacturen en accountantsverklaringen verstuurd ter onderbouwing van zijn vermogensopbouw bij Mecast. Daarnaast heeft hij de bank een “voucher” van 29 november 2015 gestuurd waarin staat: We confirm Mr. [eiser] has the amount Euro 115.000,00 (Hundred and fifteen thousand Euros) in MeCast Ltd as part of his equity capital. We will pay the amount when becomes available within 5 years Administration 2.11. Verder heeft hij notulen overgelegd van 29 december 2015 van MeCast Ltd, waarin staat: Subject: Termination of Mr. [eiser] from managing director position Meeting minutes (…) Mr. [eiser] financial situation has been assessed as following:  His income from salary, bounces and company profit sharing from 1-7-2006 to 29-12-2015 has been as below: o Paid: Euro 980,700.00 (nine hundred, eighty thousand and seven hundred Euros) o MeCast Ltd is owing Mr. [eiser] Eur 115,000 (which is part of his total income as above) and per voucher No 0159 dated 29-11-2015. 2.12. Op 9 juni 2021 hebben partijen opnieuw telefonisch contact gehad en op 14 juni 2021 heeft ABN AMRO wederom schriftelijke vragen gesteld aan [eiser] . Daarbij heeft de bank aangegeven dat de eerdere verklaringen van [eiser] onvoldoende onderbouwd zijn door middel van documentatie, waardoor de bank niet aan haar wettelijke verplichtingen kan voldoen. De bank heeft [eiser] nogmaals de mogelijkheid gegeven om de documentatie aan te leveren en aangekondigd dat als dat uitblijft, ze de relatie met [eiser] zal heroverwegen. Daarop heeft [eiser] per e-mail van 22 juni 2021 gereageerd: Wat is de reden dat uw broer in 2015 dit bedrag van u heeft geleend? Mijn broer had dit bedrag persoonlijk van mij geleend. we hadden geen overeenkomst getekend omdat hij mijn broer is. We tekenen geen contracten binnen de familie bijvoorbeeld voor geld lenen, maar ik heb hem deze keer gevraagd. Hij verteld dat hij een stukje kavel gekocht had in de stad ERBIL in Irak. Hoe heeft u dit vermogen toentertijd opgebouwd? Het geld is een onderdeel van mijn privévermogen dat ik met de activiteiten voor Mecast heb verdiend in de periode 2006 – 2015. Graag ontvangen wij bijpassende documentatie die uw verklaring onderbouwt. Zie de notulen vergadering van MECAST en inkoop- en verkoopfacturen in de bijlage. 2.13. Op 23 juli 2021 is ABN AMRO een heroverweging gestart. Hieruit volgde een onacceptabele risicoscore voor de bank. ABN AMRO gaf als onderbouwing dat er onduidelijke transacties hadden plaatsgevonden, de gelden (indirect) afkomstig waren uit hoog-risicolanden Irak en Jersey en dat de verklaringen van [eiser] over de herkomst van de gelden niet geverifieerd konden worden op basis van de door [eiser] overgelegde documenten. 2.14. Per brief van 23 september 2021 heeft ABN AMRO geschreven de klantrelatie met [eiser] te zullen beëindigen als gevolg waarvan de bankrekeningen van [eiser] worden gesloten. ABN AMRO schrijft: U heeft, ondanks onze eerdere verzoeken, ontoereikend gehoor gegeven aan ons verzoek om documentatie aan te leveren ter onderbouwing van uw verklaringen. De Bank kan hierdoor de activiteiten op haar rekeningen niet verklaren. Hierdoor kan de Bank niet aan de op haar rustende wettelijke verplichtingen voldoen. Het gebrek aan inzicht brengt voor de Bank niet in te schatten risico’s met zich mee. Dit soort risico’s kan en mag de Bank niet aanvaarden. Wij maken dan ook gebruik van ons recht om de relatie met u, de heer [eiser] , per 23 november 2021 te beëindigen. 2.15. [eiser] heeft op 13 oktober 2021 schriftelijk bezwaar gemaakt tegen de opzegging. 2.16. Bij brief van 28 december 2021 heeft ABN AMRO op het bezwaar gereageerd. 2.17. Bij brief van 5 mei 2022 heeft ABN AMRO de bankrelatie met [eiser] beëindigd per 5 juli 2022: (…) Op 23 september 2021 heeft de bank u een eerste beëindigingsbrief gestuurd. Vanwege de procedure gestart door uw advocaat (…) is deze beëindiging opgeschort. Echter de bank heeft het besluit genomen om nu door te gaan met de beëindiging van de relatie. Hiertoe is de bank bevoegd op grond van artikel 35 van de Algemene Bankvoorwaarden (…) 2.18. [eiser] heeft in deze procedure een document overgelegd waarin staat: Company Registration Company name: MECAST Company Company Type: General Trading and installation of radio and television broadcasting and communications systems Ltd The company’s capital: 300,000,000 million Iraqi Dinars (…) Affiliation date: 10.11.2005 (…) Business type: General Trading and installation of radio and television broadcasting and communications systems Ltd Managing director:\t[naam 2] 2.19. Ook heeft hij een kopie van een pas van de Iraakse Kamer van Koophandel overgelegd waarop staat: Erbil Chamber of Commerce and Industry/Iraq Company ID Company Name: Mecast Co. Executive Director: [naam 2] Capital: 300 000 000 (…) Membership Date: 2005/11/10 Renewing Date: 2015/01/15 Expire Date: 2016/12/31 2.20. Daarnaast heeft [eiser] een overeenkomst overgelegd waarin staat: Contract First Party // Ministry of Education of Kurdistan Region Second party// Mecast company – the authorized owner ( [naam 2] ) (…) 2.21. Tot slot heeft [eiser] een verklaring overgelegd van de Italiaanse vennootschap SY.E.S. S.r.l., gedateerd 4 oktober 2022: (…) Our company had been conducting business with Mr. [eiser] , as the owner of Mecast company since 2011 up to 2016. Our representative has visited Mecast multiple times and Mr. [eiser] has also visited our office in Milan twice. Mecast was a company specialized in the field of broadcasting services, and had its office in Erbil, Iraq. (…) 3 Het geschil 3.1. [eiser] vordert - na eiswijziging ter zitting - dat de rechtbank, voor zover mogelijk uitvoerbaar bij voorraad: 1. en 2. artikelen 2 lid 2 en 3 van de Algemene bankvoorwaarden vernietigt, omdat dit artikel onredelijk bezwarend is, dan wel vanwege conversie van het vernietigde beding een als geldig aan te merken beding formuleert op grond van artikel 3:41 en 3:42 BW dat in overeenstemming is met overweging 21 van de Richtlijn 2018/1673; 3 en 4. voor recht verklaart dat ABN AMRO verplicht is de bankrelatie met [eiser] te herstellen en te continueren, althans voor recht verklaart dat de opzegging onrechtmatig was vanwege strijd met de artikelen 7, 48 lid 1 en 49 van het Handvest van de Grondrechten van de Europese Unie en de artikelen 6 en 8 van het Europees Verdrag voor de Rechten van de Mens en vanwege strijd met artikel 2 lid 1 ABV dan wel artikel 6:248 lid 2 BW, dan wel de bijzondere zorgplicht op grond van het ongeschreven recht; 5. ABN AMRO verbiedt om de bankrelatie opnieuw op te zeggen, tenzij ABN AMRO nieuwe feiten en omstandigheden stelt waardoor er ten aanzien van [eiser] een zwaardere verdenking met betrekking tot witwassen bestaat dan een redelijk vermoeden van schuld; 6. ABN AMRO verbiedt a. om [eiser] a) te bevragen over de transacties en b) te vragen nadere documenten te verschaffen met betrekking tot de transacties waarover/ waar om ABN AMRO [eiser] tot aan datum opzegging al heeft bevraagd tenzij ABN AMRO nieuwe feiten stelt waardoor er ten aanzien van [eiser] een zwaardere verdenking met betrekking tot witwassen bestaat dan een redelijk vermoeden van schuld; 7. ABN AMRO veroordeelt in de proceskosten. 3.2. Op de stellingen van partijen wordt hierna, voor zover van belang, nader ingegaan. 4 De beoordeling ad vorderingen 1 en 2: vernietiging van artikelen 2 lid 2 en 3 van de Algemene bankvoorwaarden 4.1. Volgens [eiser] zijn artikel 2 lid 2 ABV en artikel 3 ABV onredelijk bezwarend, omdat daarin zijn fundamentele rechten en beginselen niet zijn gewaarborgd. [eiser] doet een beroep op artikel 6, 8, 13 en 14 Europees Verdrag voor de Rechten van de Mens (hierna: EVRM) en op artikel 7, 8, 16, 47 en 48 van het Handvest van de Grondrechten van de Europese Unie (hierna: Handvest). [eiser] betoogt dat ABN AMRO hem een onbeperkte informatieplicht oplegt en naar eigen goeddunken de relatie kan beëindigen. [eiser] is bij de uitvoering van het wettelijk verplichte cliëntonderzoek overgeleverd aan de willekeur van ABN AMRO. Met de informatieplicht wordt [eiser] gedwongen mee te werken aan een zgn. ‘fishing expedition’ en mogelijk aan zijn eigen veroordeling, terwijl niet eens een redelijk vermoeden van schuld bestaat. Naar aanleiding van een eventuele (voor [eiser] niet-kenbare) MOT-melding kunnen opsporingsdiensten de door [eiser] verstrekte informatie strafrechtelijk vorderen van ABN AMRO. [eiser] vordert vernietiging van de algemene voorwaarden op grond van artikel 6:233 BW. Voorts betoogt [eiser] dat de algemene voorwaarden geconverteerd moeten worden (artikel 3:41 en 42 BW) naar een artikel dat in overeenstemming is met overweging 21 van de Richtlijn 2018/1673. 4.2. Volgens ABN AMRO heeft zij de grondrechten van [eiser] niet geschonden. De informatie die zij opvraagt, beperkt zich tot de herkomst van de gelden van de ongebruikelijke transacties. Voor zover er al sprake is van een schending of inmenging is die legitiem, omdat de aanpak van witwassen een taak van zwaarwegend belang is. De bank verwerkt alleen persoonsgegevens indien artikel 6 van de AVG daarvoor een grondslag biedt, te weten voldoen aan een wettelijke verplichting. De verwerking van persoonsgegevens blijft tot dit doeleinde beperkt. Daarmee voldoet de bank aan de algemene beginselen van noodzakelijkheid, evenredigheid, proportionaliteit en subsidiariteit. Van enig onderzoek in strafrechtelijk verband is geen sprake. Er is volgens ABN AMRO geen grond om artikel 2 en 3 van de ABV te vernietigen. toetsingskader grondrechten 4.3. De rechtbank overweegt als volgt. Aan artikel 6 EVRM (‘Recht op een eerlijk proces’), 8 EVRM (‘Recht op eerbiediging van privé-, familie- en gezinsleven’), 13 EVRM (‘Recht op een daadwerkelijk rechtsmiddel’), 14 EVRM (‘Verbod van discriminatie’), artikel 7 van het Handvest (‘Eerbiediging van het privéleven en het familie- en gezinsleven’), 8 Handvest (‘Bescherming van persoonsgegevens’), 16 Handvest (Vrijheid van ondernemerschap’), 47 Handvest (‘Recht op een doeltreffende voorziening in rechte en op een onpartijdig gerecht’) en 48 Handvest (‘Vermoeden van onschuld en rechten van de verdediging’) komt geen directe horizontale werking toe, nu deze bepalingen zich richten tot de overheid en niet tot private partijen. Indien genoemde grondrechten niet of onvoldoende zijn gewaarborgd in de ABV, is dit geen grond om de ABV om die reden onredelijk bezwarend te achten. Dit laat onverlet dat de artikelen wel indirect kunnen doorwerken in privaatrechtelijke verhoudingen, bijvoorbeeld door de invulling van open privaatrechtelijke normen, zoals de verplichting bij de uitvoering van een overeenkomst te handelen naar de maatstaven van redelijkheid en billijkheid, en de zorgvuldigheidsnorm van artikel 6:162 BW. Binnen die normen moet dan een afweging plaatsvinden van de wederzijdse rechten en gerechtvaardigde belangen van partijen. toepassing Richtlijn 93/13 betreffende oneerlijke bedingen in consumentenovereenkomsten 4.4. Artikel 3 lid 1 van de ‘Richtlijn 93/13 betreffende oneerlijke bedingen in consumentenovereenkomsten’ (hierna ook: Richtlijn 93/13) bepaalt dat een beding in een overeenkomst waarover niet afzonderlijk is onderhandeld, als oneerlijk wordt beschouwd indien het, in strijd met de goede trouw, het evenwicht tussen de uit de overeenkomst voortvloeiende rechten en verplichtingen van de partijen ten nadele van de consument aanzienlijk verstoort. 4.5. Partijen hebben deze richtlijn niet in hun stellingen ten aanzien van de ABV betrokken, zodat de rechtbank volgens vaste rechtspraak ambtshalve moet toetsen of daarin sprake is van oneerlijke bedingen die [eiser] niet binden. [eiser] is aan te merken als ‘consument’ zoals vermeld in artikel 2 aanhef en sub b van de Richtlijn 93/13. De algemene voorwaarden (artikel 2 lid 2 en/of artikel 3 ABV) waarvan [eiser] vernietiging vordert, vallen onder de werking van Richtlijn 93/13. Het gaat immers om bedingen die door een professionele partij (ABN AMRO) worden gebruikt in overeenkomsten met consumenten ( [eiser] ). Voorts is voorafgaand aan de totstandkoming van de overeenkomst niet door partijen onderhandeld over deze algemene voorwaarden. Evenmin zien deze bedingen op het eigenlijke voorwerp van de overeenkomst (‘kernbedingen’) of op de gelijkwaardigheid van de wederzijdse prestaties (artikel 4 lid 2 Richtlijn 93/13). de toets of de bedingen oneerlijk/onredelijk bezwarend zijn 4.6. In zijn arrest van 22 november 2019 (ECLI:NL:HR:2019:1830) heeft de Hoge Raad het uit de Richtlijn 93/13 voortvloeiende toetsingskader uiteengezet. Het HvJEU laat het aan de nationale rechter over om in het licht van de omstandigheden van het betrokken geval te onderzoeken of een specifiek beding oneerlijk is als in Richtlijn 93/13 bedoeld. Naar Nederlands recht vindt dit onderzoek plaats in het kader van artikel 6:233, aanhef en onder a, BW. Volgens deze bepaling is een beding in algemene voorwaarden vernietigbaar indien het, gelet op de aard en de overige inhoud van de overeenkomst, de wijze waarop de voorwaarden zijn tot stand gekomen, de wederzijds kenbare belangen van partijen en de overige omstandigheden van het geval, onredelijk bezwarend is voor de wederpartij. 4.7. De rechtbank overweegt als volgt. Mede gelet op de aard van diensten waarop de overeenkomst betrekking heeft, te weten het (in verregaande mate wettelijk gereguleerd) betalingsverkeer, is de rechtbank van oordeel dat artikel 2 lid 2 en artikel 3 ABV op zichzelf en in onderlinge samenhang bezien, niet het evenwicht tussen de uit de overeenkomst voortvloeiende rechten en verplichtingen van de partijen ten nadele van [eiser] verstoren. Dit geldt temeer, indien genoemde artikelen worden bezien in samenhang met artikel 2 lid 1 en artikel 35 lid 1 ABV, waaruit volgt dat voor de bank een (eveneens in verregaande mate ‘gereguleerde’) bancaire zorgplicht geldt. Voorts zijn de volgende omstandigheden van belang. 4.8. Van een rekeninghouder mag redelijkerwijs worden verwacht dat hij de informatie en documenten aanlevert die de bank nodig heeft om naar behoren te kunnen functioneren binnen het betalingsverkeersysteem. De bank heeft een gerechtvaardigd belang bij het opnemen van deze bedingen, te weten dat zij dient te voldoen aan de op haar toepasselijke wet- en regelgeving. Anders dan [eiser] stelt, legt de bank hem geen onbeperkte informatieplicht op. ABN AMRO is op basis van risico-indicatoren een cliëntonderzoek gestart (op grond van de Leidraad Wet ter voorkoming van witwassen en financieren van terrorisme en Sanctiewet van De Nederlandsche Bank, hierna: Leidraad). De vragen van ABN AMRO zagen specifiek op de herkomst van het vermogen van [eiser] naar aanleiding van een aantal ongebruikelijke transacties. Bij het stellen van vragen, de beoordeling en de beëindiging van de klantrelatie dient ABN AMRO de Wwft, de Leidraad en artikel 2 ABV na te leven. ABN AMRO heeft onderbouwd dat zij zorgvuldig en conform deze voorschriften heeft gehandeld. Anders dan [eiser] stelt, is hij dus niet overgeleverd aan de willekeur van ABN AMRO. 4.9. Verder is van belang dat [eiser] niet in een minder gunstige positie wordt geplaatst, dan die welke uit het geldende recht voortvloeit. De zorgplicht en informatieplicht zouden ook gelden indien de AVB niet in dergelijke plichten zouden voorzien. Voorts zijn de bedingen voor een normaal geïnformeerde en redelijk omzichtige en oplettende consument dusdanig duidelijk en begrijpelijk geformuleerd dat (ook) [eiser] de mogelijke gevolgen die voor hem uit de overeenkomst voortvloeien heeft kunnen inschatten, zoals het geven van informatie en documentatie in het kader van het in de Wwft bedoelde cliëntonderzoek. ABN AMRO kon er redelijkerwijs vanuit gaan dat [eiser] de desbetreffende bedingen zou aanvaarden indien daarover op eerlijke en billijke wijze afzonderlijk was onderhandeld. Hierbij is ook relevant dat de bedingen gebruikelijk zijn en in vergelijkbare overeenkomsten met banken worden gehanteerd. Bij het voorgaande is tenslotte niet zonder belang dat, zoals ABN AMRO heeft aangevoerd, de ABV in overleg met onder meer de Consumentenbond zijn opgesteld. Het voorgaande leidt tot de conclusie dat de bedingen niet onredelijk bezwarend en evenmin oneerlijk zijn, zodat voor gehele of gedeeltelijke vernietiging daarvan geen grond bestaat. 4.10. Het voorgaande leidt tot de conclusie dat het primair onder 1 en 2 gevorderde niet toewijsbaar is. Omdat van gehele of gedeeltelijke vernietiging van artikel 2 lid 2 ABV en/of artikel 3 ABV geen sprake is, is ook het subsidiair onder 1 en 2 gevorderde niet-toewijsbaar. ad vorderingen 3 en 4: opzegging bankrelatie 4.11. Met betrekking tot de opzegging van de bankrelatie voert [eiser] het volgende aan. Volgens [eiser] voert ABN AMRO een publiekrechtelijke taak uit en behartigt zij publiekrechtelijke belangen. Zij treedt op als hulppersoon van de overheid. De delegatie van publieke taken aan private partijen zoals ABN AMRO voldoet echter niet aan de vereisten van legaliteit, proportionaliteit en subsidiariteit en doet afbreuk aan de rechtsbescherming van burgers. [eiser] voert aan dat ABN AMRO inbreuk maakt op zijn fundamentele grondrechten (voortvloeiende uit het Europees Handvest, het EVRM en de bancaire zorgplicht). Hoewel ABN AMRO [eiser] geen enkel concreet verwijt kan maken met betrekking tot betrokkenheid bij enig crimineel doen of nalaten heeft gemaakt, wordt [eiser] , volgens hem ten onrechte, gecriminaliseerd door ABN AMRO. Hij wordt aangemerkt als ongewenst element in het financieel stelsel. Er is geen reëel en concreet witwasrisico om de beëindiging van de relatie te rechtvaardigen. Ook beroept ABN AMRO zich ten onrechte op de contractsvrijheid. Van contractsvrijheid is geen sprake, gelet op de in artikel 5 Wwft opgenomen beëindigingsverplichting ingeval van een witwasrisico. De politie mag de gegevens die [eiser] aan de bank heeft overgelegd vrijelijk opvragen (artikel 17 jo. 13 sub a en b Wwft jo. artikel 8 Wet politiegegevens). Artikel 23 Wwft bepaalt dat ABN AMRO het opvragen geheim moet houden voor [eiser] . ABN AMRO is ook verplicht ongebruikelijke transacties te melden aan de politie (artikel 16 Wwft). Het niet kunnen afronden van een cliëntonderzoek is een ongebruikelijke transactie. Bovendien is opzegging van de bancaire relatie naar maatstaven van redelijkheid en billijkheid onaanvaardbaar. De omstandigheid dat [eiser] ook beschikt over een bankrekening bij ING, doet aan het voorgaande niet af, omdat het een kwestie van tijd is dat ten aanzien van die bankrekening eenzelfde geschil ontstaat. [eiser] voert aan dat hij redelijke verklaringen heeft gegeven voor de herkomst van het geld. Het betrof een uitkering van de winst uit zijn eerdere onderneming Mecast en een terugbetaling van een lening door zijn broer. Ook heeft hij uitgelegd waarom hij niet meer documenten kan overleggen, onder meer omdat hij plotseling naar Nederland moest vertrekken en geen toegang meer heeft tot de Kamer van Koophandel in Irak. Ook heeft [eiser] geen toegang meer tot de jaarstukken, omdat het lang geleden is en de stukken niet meer digitaal beschikbaar zijn. Het gevolg van de opzegging is dat het voor [eiser] niet of nauwelijks meer mogelijk is financiële diensten en producten af te nemen en hij zodoende niet meer kan deelnemen aan het maatschappelijk verkeer, wat een onaanvaardbare (straf)sanctie is. 4.12. ABN AMRO voert verweer. ABN AMRO heeft als Wwft-instelling de verplichting om cliëntonderzoek te doen en ongebruikelijke transacties te melden. Zij is poortwachter om misbruik van het financiële systeem te voorkomen en handelt slechts preventief. Het opsporings- en vervolgingswerk berust bij de overheid en ABN AMRO heeft zelf geen formele opsporingsbevoegdheden. De bank heeft ook een eigen belang om preventieve maatregelen te nemen tegen financieel-economische criminaliteit, te weten dat de integriteit van de financiële sector gewaarborgd wordt. Voor zover al sprake is van een inmenging in de grondrechten van [eiser] , is die inbreuk legitiem. Er is immers een doelstelling van algemeen belang (de aanpak van witwassen en terrorismefinanciering) en de bank verwerkt slechts persoonsgegevens voor zover artikel 6 Algemene Verordening Persoonsgegevens daar een grondslag voor biedt. Er waren voldoende indicaties om een cliëntonderzoek te starten. In de periode tussen 1 september 2017 en 3 juli 2018 is in totaal een bedrag van € 420.430,00 gestort op de rekening van [eiser] , afkomstig uit landen met een hoog risico, in dit geval (indirect uit) Irak en Jersey. Deze landen zijn genoemd als hoge risicolanden zonder effectieve AML/CFT-systemen (Bijlage III van de vierde anti-witwasrichtlijn, Leidraad naleving Wwft van 24 oktober 2018). Bij een cliëntonderzoek moet de bank passende maatregelen treffen om de bron van het vermogen dat bij de diverse transacties gebruikt wordt, vast te stellen (artikel 8 lid 5 sub b onder 2 Wwft). De uitkomst van het cliëntenonderzoek en de door [eiser] gegeven informatie zijn voor de bank niet voldoende om te kunnen voldoen aan haar Wwft-verplichtingen. De verklaring van [eiser] over de herkomst van de gelden heeft de bank onvoldoende door middel van objectieve documenten kunnen verifiëren. De door [eiser] overgelegde facturen tonen niet meer aan dan dat Mecast heeft bestaan en er omzet is geweest. De bank kan niet vaststellen of [eiser] een belang genoot in Mecast of meedeelde in de winst. [eiser] heeft onvoldoende bewijs overgelegd van de herkomst van het geld van Mecast en de herkomst van het geld van de lening aan zijn broer. [eiser] heeft verklaard dat het gaat om aanspraak op het eigen vermogen van Mecast, maar dit had hij als eigenaar via een aandeelhoudersbesluit te gelde kunnen maken, in plaats van dit in notulen vast te laten leggen. De bank wijst op tegenstrijdigheden in de verklaringen van [eiser] , namelijk eerst dat het privévermogen betrof en daarna dat het de tegenwaarde was van het belang van [eiser] in Mecast. [eiser] had belastingaangiftes, loonstroken, jaarrekeningen of een akte van oprichting, verkoop van aandelen of liquidatie van Mecast kunnen overleggen. Nu hij dat heeft nagelaten, kan ABN AMRO de verklaringen niet verifiëren. Het niet kunnen aanleveren van de documenten ligt in de risicosfeer van [eiser] . Een plotseling vertrek uit Irak is geen afdoende verklaring dat hij geen administratie van zijn bedrijf kan aanleveren. Dit levert voor de bank een onacceptabel risico op waarop zij volgens haar terecht actie op heeft ondernomen. De bancaire relatie is een duurovereenkomst die in beginsel opzegbaar is (artikel 35 ABV). De opzegging door ABN AMRO is gerechtvaardigd en niet naar maatstaven van redelijkheid en billijkheid onaanvaardbaar. ABN AMRO heeft meegewogen dat [eiser] een ING-rekening heeft en toegang houdt tot het betalingsverkeer. Dat ING in de toekomst mogelijk vragen gaat stellen, vormt geen belemmering voor ABN AMRO om te kunnen opzeggen. ING heeft de verplichting ervoor te zorgen dat [eiser] (onder voorwaarden) toegang behoudt tot het betalingsverkeer. Verder betoogt de bank dat zij voor een opzegging geen concrete bewijzen nodig heeft dat de klant betrokken is bij financieel-economische criminaliteit. beoordeling opzegging bankrelatie 4.13. De rechtbank overweegt als volgt. Banken hebben op grond van de Wwft een verantwoordelijkheid bij het signaleren van zogenoemde financieel-economische criminaliteit en andere integriteitsrisico’s. Zij moeten zoveel mogelijk voorkomen dat het financiële systeem voor oneigenlijke doelen wordt misbruikt. Daartoe moeten zij onderzoek doen naar hun cliënten en de verzamelde informatie actueel houden (artikel 3 e.v. Wwft). Dit is geen publiekrechtelijke taak en van optreden als hulppersoon van de overheid is geen sprake. De Wwft schrijft weliswaar niet (per geval) voor hoe het cliëntenonderzoek moet worden verricht, maar wel tot welk resultaat het onderzoek moet leiden. Als een bank onvoldoende inhoud kan geven aan haar verplichting om cliëntonderzoek uit te voeren - waardoor zij het risico van misbruik van de door haar aangeboden producten en diensten niet kan overzien - moet zij de relatie met die cliënt beëindigen (artikel 5 lid 3 Wwft). Het is voor de beëindiging van de relatie niet noodzakelijk dat er concrete bewijzen zijn dat de cliënt betrokken is bij criminele activiteiten. Banken hebben geen formele opsporingsbevoegdheden en zijn voor het cliëntenonderzoek afhankelijk van informatie uit openbare bronnen en informatie van de cliënt zelf. De cliënt is verplicht de bank te voorzien van de nodige informatie over - onder meer - hoe hij is gekomen aan geld dat hij bij de bank onderbrengt en eraan meewerkt dat de bank de informatie kan controleren (artikel 2 lid 2 en artikel 3 ABV). 4.14. Niet in geschil is dat ABN AMRO op grond van artikel 35 ABV in beginsel bevoegd is en op grond van artikel 5 lid 3 Wwft verplicht is om de bankrelatie met [eiser] op te zeggen. ABN AMRO heeft aanleiding gezien een klantenonderzoek te starten op grond van een aantal ongebruikelijke transacties op de bankrekening van [eiser] . Er waren verschillende indicatoren die als risico worden gezien, te weten stortingen van hoge bedragen aan een particulier die (indirect) werden gedaan vanuit hoog-risicolanden. [eiser] betwist ook niet dat ABN AMRO aanleiding had tot het verrichten van een cliëntonderzoek. ABN AMRO heeft bij herhaling om informatie en onderbouwing gevraagd over de herkomst van het geld dat is gestort vanuit Mecast en door de broer van [eiser] . De rechtbank is van oordeel dat de gegevens die [eiser] heeft verstrekt ontoereikend zijn om de bron van zijn vermogen vast te stellen. Uit de informatie kan hooguit worden afgeleid dat er bedrijfsactiviteiten waren bij Mecast en dat [eiser] een functie heeft bekleed bij deze vennootschap. Welke juridische relatie bestond tussen Mecast en [eiser] en wat de titel was van de vergoedingen van Mecast aan [eiser] , is echter niet of onvoldoende komen vast te staan. ABN AMRO heeft herhaaldelijk specifiek verzocht om informatie en documentatie hieromtrent en [eiser] is bij akte in de gelegenheid gesteld om producties te overleggen over de rechtsverhouding tussen [eiser] en Mecast en de titel van de vergoedingen die Mecast aan hem heeft betaald. [eiser] heeft geen objectieve informatie gegeven die zijn verklaringen onderbouwen, zoals bankafschriften waaruit betaling van zijn salaris of managementvergoeding blijkt, aandeelhoudersbesluiten, belastingaangiften of jaarrekeningen – waarvan [eiser] ter zitting heeft aangegeven dat deze vanaf 2012 zijn opgesteld – van Mecast, terwijl deze gegevens zich wel in zijn domein bevinden. [eiser] heeft ABN AMRO onvoldoende in staat gesteld om het cliëntonderzoek af te ronden. ABN AMRO kan daardoor niet voldoen aan de op haar rustende verplichtingen die voortvloeien uit de Wwft. Ook is ABN AMRO niet in staat de verdere risico’s te beoordelen die zij loopt bij voortzetting van de bankrelatie met [eiser] . De vragen van ABN AMRO voldeden aan de vereisten van proportionaliteit en subsidiariteit, omdat deze slechts zagen op de herkomst van het vermogen van een aantal ongebruikelijke transacties. Het komt voor risico van [eiser] dat hij deze vragen niet of onvoldoende heeft beantwoord, daar van hem verwacht had mogen worden dat hij ter zake onafhankelijke documenten kan overleggen zoals bankafschriften en belastingaangiften. De conclusie is dat ABN AMRO geen afdoende antwoord heeft gekregen op de vragen die zij heeft gesteld, terwijl [eiser] ruim voldoende gelegenheid voor beantwoording heeft gehad. Bovendien heeft ABN AMRO [eiser] herhaaldelijk gewaarschuwd voor de mogelijke gevolgen als hij niet volledig zou antwoorden. ABN AMRO heeft daarmee voldoende reden en belang de bankrelatie met [eiser] te beëindigen, hetgeen zij op een zorgvuldige manier heeft gedaan. 4.15. Tegenover het belang van ABN AMRO wijst [eiser] op zijn belang bij het hebben van een bankrekening. Hij vreest dat het gevolg van opzegging door ABN AMRO zal zijn dat zijn rekening bij de ING ook zal worden opgezegd op het moment dat hij het saldo van zijn ABN AMRO-rekening overboekt naar zijn ING-rekening. Volgens [eiser] moet de belangenafweging in zijn voordeel uitvallen. De toets van artikel 6:248 lid 2 BW ziet op de vraag of het gebruik door de bank van haar opzeggingsbevoegdheid naar maatstaven van redelijkheid en billijkheid onaanvaardbaar moet worden geacht, gegeven de verdere inhoud van de overeenkomst, de relevante omstandigheden van het geval en de belangen van partijen bij het gebruik van die opzeggingsbevoegdheid (Hoge Raad 10 oktober 2014, ECLI:NL:HR:2014:2929, ING/De Keijzer Beheer). De rechtbank acht het voldoende voor de toegang tot het betalingsverkeer dat [eiser] over een andere bankrekening beschikt. Voor zover ING gebruikmaakt van haar bevoegdheid tot beëindiging, zal ING moeten meewegen dat [eiser] geen andere betaalrekening heeft. De rechtbank kan niet op die belangenafweging vooruitlopen. Andere feiten of omstandigheden die tot een succesvol beroep van [eiser] op artikel 6:248 lid 2 BW kunnen leiden, zijn gesteld noch gebleken. Gelet op het bovenstaande is het belang van ABN AMRO bij opzegging voldoende zwaarwegend in verhouding tot het belang van [eiser] bij voortzetting van de relatie. 4.16. De rechtbank is, in de gegeven omstandigheden, van oordeel dat is komen vast te staan dat ABN AMRO op grond van artikel 5 lid 3 Wwft verplicht was om de relatie te beëindigen en dat zij de in artikel 35 ABV vastgelegde bevoegdheid daartoe redelijkerwijs heeft kunnen en mogen uitoefenen. De vorderingen onder 3 en 4 zullen derhalve worden afgewezen. ad vorderingen 5 en 6: verbod tot opnieuw opzeggen bankrelatie en/of tot verdere bevraging van [eiser] 4.17. Bij deze stand van zaken heeft [eiser] geen belang meer bij onder 5 en 6 gevorderde verboden, zodat ook deze vorderingen zullen worden afgewezen. veroordeling proceskosten 4.18. [eiser] zal als de in het ongelijk gestelde partij in de proceskosten worden veroordeeld. De kosten aan de zijde van ABN AMRO worden begroot op: - griffierecht\t€\t676,00 - salaris advocaat\t€\t1.196,00 (2,5 punten× tarief II € 598,00) Totaal\t€ 1.872,00 4.19. De gevorderde veroordeling in de nakosten is toewijsbaar voor zover deze kosten op dit moment kunnen worden begroot. De nakosten zullen dan ook worden toegewezen op de wijze zoals in de beslissing vermeld. 5 De beslissing De rechtbank 5.1. wijst de vorderingen van [eiser] af, 5.2. veroordeelt [eiser] in de proceskosten, aan de zijde van ABN AMRO tot op heden begroot op € 1.872,00, 5.3. veroordeelt [eiser] in de na dit vonnis ontstane kosten, begroot op € 173,00 aan salaris advocaat, te vermeerderen, onder de voorwaarde dat [eiser] niet binnen 14 dagen na aanschrijving aan het vonnis heeft voldaan en er vervolgens betekening van de uitspraak heeft plaatsgevonden, met een bedrag van € 90,00 aan salaris advocaat en de explootkosten van betekening van de uitspraak, 5.4. verklaart dit vonnis wat betreft de kostenveroordeling uitvoerbaar bij voorraad. Dit vonnis is gewezen door mr. G.J. Meijer en in het openbaar uitgesproken op 22 februari 2023. \n"
          ]
        }
      ]
    },
    {
      "cell_type": "code",
      "source": [
        "nieuweUitsprakenlijst = []\n",
        "for uitspraak in uitsprakenlijst:\n",
        "    jsonUitspraak = json.loads(uitspraak[1])\n",
        "    tekstUitspraak = jsonUitspraak[\"UitspraakTekst\"]\n",
        "    if tekstUitspraak: \n",
        "        uitspraakSchoon = re.sub(\"<.+?>\", \"\", tekstUitspraak)\n",
        "        uitspraakSchoon = re.sub(\"\\s{2,}\", \"\", uitspraakSchoon)\n",
        "    else:\n",
        "        uitspraakSchoon = \"\"\n",
        "    toeTeVoegenAanNieuweLijst = [uitspraak[0], len(uitspraakSchoon), uitspraakSchoon.count(\" \") + 1, uitspraakSchoon]\n",
        "    nieuweUitsprakenlijst.append(toeTeVoegenAanNieuweLijst)"
      ],
      "metadata": {
        "id": "lxa0fTMUTtYP"
      },
      "execution_count": 21,
      "outputs": []
    },
    {
      "cell_type": "code",
      "source": [
        "nieuweUitsprakenlijst[0]"
      ],
      "metadata": {
        "id": "MZzY9bFnUvk6"
      },
      "execution_count": null,
      "outputs": []
    },
    {
      "cell_type": "markdown",
      "source": [
        "##Taal: Natural Language Processing (NLP) of text mining\n",
        "\n",
        "### Een paar toepassingen:\n",
        "* metadata destilleren;\n",
        "* NER: named entity recognition;\n",
        "* anomalie-detectie;\n",
        "* POS (part of speech): zinsontleding;\n",
        "* Sentimentanalyse;\n",
        "* Samenvatten;\n",
        "* Topic modelling: over welke onderwerpen gaan de teksten?\n",
        "* Classification;\n",
        "\n",
        "### Juridische toepassingen:\n",
        "* analyseren (empirical legal research);\n",
        "* rechters en advocaten profilen;\n",
        "* alert-service: uitspraak over een bepaald onderwerp?\n",
        "* wetgeving ondersteunen;\n",
        "* document-/contractbeheer;\n",
        "* documentvalidatie;\n",
        "* voorspellen;\n",
        "* beslissen.\n",
        "\n",
        "Let op: beperking ecli-database: lang niet alle uitspraken worden gepubliceerd! (10 tot 15%?). Dit betekent niet dat de database onbruikbaar is, maar wel dat je niet altijd te maken hebt met een representatieve dataset.\n",
        "\n",
        "### Hoe doen we dat?\n",
        "Een computer kan teksten niet begrijpen, maar wel rekenen met cijfers. Dus: strings omzetten naar getallen.\n",
        "\n",
        "* Zoeken op woorden/regular expressions;\n",
        "* Bag of words/TFIDF (term frequency - inversed document frequency);\n",
        "* Taalmodellen: Aan de hand van een grote corpus wordt elk woord voorzien van een getal/serie getallen\n",
        "\n",
        "### Mijn theorie:\n",
        "Het is moeilijker om de juiste vraag te stellen dan om het juiste antwoord daarop te geven.\n",
        "\n",
        "### Uitgangspunt: De computer kan geen taal begrijpen.\n",
        "Maar de computer kan wel rekenen!\n",
        "\n",
        "We gaan daarom teksten omzetten naar getallen. Hoe doen we dat?\n",
        "\n",
        "Daar zijn verschillende manieren voor.\n",
        "\n",
        "Een manier is: tellen van woorden.\n",
        "(Maar je zou ook zinnen kunnen tellen, of tekens.)\n",
        "\n",
        "Tellen gaat door middel van tokenization: elk woord (of zin, teken) is een token."
      ],
      "metadata": {
        "id": "WEK0MJV3U-Z5"
      }
    },
    {
      "cell_type": "code",
      "source": [
        "import pandas as pd\n",
        "import numpy as np\n",
        "import gensim\n",
        "from gensim.models import word2vec\n",
        "from gensim.models.word2vec import Word2Vec\n",
        "from gensim.models import KeyedVectors\n",
        "# import gensim.summarization.summarizer as summarizer\n",
        "import nltk\n",
        "nltk.download('all')\n",
        "nltk.download('stopwords')  \n",
        "from nltk.corpus import stopwords\n",
        "from sklearn.feature_extraction.text import (CountVectorizer, TfidfVectorizer)"
      ],
      "metadata": {
        "id": "OZZcxSkEZkXL"
      },
      "execution_count": null,
      "outputs": []
    },
    {
      "cell_type": "code",
      "source": [
        "# We zetten de computer even aan het werk met het downloaden van wat neurale modellen. \n",
        "import spacy\n",
        "!python -m spacy download nl_core_news_lg\n",
        "import nl_core_news_lg\n",
        "import matplotlib.pyplot as plt\n",
        "import nltk\n",
        "from nltk.tokenize import word_tokenize\n",
        "# tokenizer = nltk.data.load('tokenizers/punkt/dutch.pickle')\n",
        "nlp = spacy.load(\"nl_core_news_lg\")"
      ],
      "metadata": {
        "id": "NTz4dlmEZwOp"
      },
      "execution_count": null,
      "outputs": []
    },
    {
      "cell_type": "code",
      "source": [
        "# Stopwoorden: woorden die veel voorkomen, maar weinig betekenis toevoegen aan een tekst.\n",
        "from nltk.corpus import stopwords\n",
        "stopwoorden = stopwords.words(\"dutch\")\n",
        "print(stopwoorden)"
      ],
      "metadata": {
        "colab": {
          "base_uri": "https://localhost:8080/"
        },
        "id": "qxNvEcMUahFa",
        "outputId": "035742bc-e13c-4ac9-dfb3-0a3b2de45718"
      },
      "execution_count": 26,
      "outputs": [
        {
          "output_type": "stream",
          "name": "stdout",
          "text": [
            "['de', 'en', 'van', 'ik', 'te', 'dat', 'die', 'in', 'een', 'hij', 'het', 'niet', 'zijn', 'is', 'was', 'op', 'aan', 'met', 'als', 'voor', 'had', 'er', 'maar', 'om', 'hem', 'dan', 'zou', 'of', 'wat', 'mijn', 'men', 'dit', 'zo', 'door', 'over', 'ze', 'zich', 'bij', 'ook', 'tot', 'je', 'mij', 'uit', 'der', 'daar', 'haar', 'naar', 'heb', 'hoe', 'heeft', 'hebben', 'deze', 'u', 'want', 'nog', 'zal', 'me', 'zij', 'nu', 'ge', 'geen', 'omdat', 'iets', 'worden', 'toch', 'al', 'waren', 'veel', 'meer', 'doen', 'toen', 'moet', 'ben', 'zonder', 'kan', 'hun', 'dus', 'alles', 'onder', 'ja', 'eens', 'hier', 'wie', 'werd', 'altijd', 'doch', 'wordt', 'wezen', 'kunnen', 'ons', 'zelf', 'tegen', 'na', 'reeds', 'wil', 'kon', 'niets', 'uw', 'iemand', 'geweest', 'andere']\n"
          ]
        }
      ]
    },
    {
      "cell_type": "code",
      "source": [
        "# Bag of words: een functie\n",
        "def BOW(lijst, ngramMin: int = 1, ngramMax: int= 1, taal: str = \"dutch\", tfidf: bool = False):\n",
        "    stop_words = stopwoorden # set(stopwords.words(taal))\n",
        "    if tfidf: Vec = TfidfVectorizer(ngram_range=(ngramMin,ngramMax), # to use bigrams ngram_range=(2,2)\n",
        "                           stop_words=stop_words)\n",
        "    else: Vec = CountVectorizer(ngram_range=(ngramMin,ngramMax), # to use bigrams ngram_range=(2,2)\n",
        "                           stop_words=stop_words)\n",
        "    data = Vec.fit_transform(lijst)\n",
        "    return pd.DataFrame(data.toarray(),columns=Vec.get_feature_names_out())"
      ],
      "metadata": {
        "id": "cDLpu95SarIX"
      },
      "execution_count": 27,
      "outputs": []
    },
    {
      "cell_type": "code",
      "source": [
        "# Bag of words: per document een regel met per woord het aantal keren dat het woord voorkomt. \n",
        "zinnen = [\" De rechtbank vond het pleidooi van de advocaat maar matig maar het pleidooi van de OvJ erg goed\", \n",
        "         \" De rechtbank vond pleidooi van de advocaat goed\"]\n",
        "a = BOW(zinnen, ngramMax= 4, tfidf = True)\n",
        "a.head()"
      ],
      "metadata": {
        "colab": {
          "base_uri": "https://localhost:8080/",
          "height": 258
        },
        "id": "HtuQDsrDa_uz",
        "outputId": "43f545e9-8bf5-4095-8316-9b1da8b6adc1"
      },
      "execution_count": 33,
      "outputs": [
        {
          "output_type": "execute_result",
          "data": {
            "text/plain": [
              "   advocaat  advocaat goed  advocaat matig  advocaat matig pleidooi  \\\n",
              "0  0.142054        0.00000        0.199651                 0.199651   \n",
              "1  0.243065        0.34162        0.000000                 0.000000   \n",
              "\n",
              "   advocaat matig pleidooi ovj       erg  erg goed      goed     matig  \\\n",
              "0                     0.199651  0.199651  0.199651  0.142054  0.199651   \n",
              "1                     0.000000  0.000000  0.000000  0.243065  0.000000   \n",
              "\n",
              "   matig pleidooi  ...  pleidooi ovj erg goed  rechtbank  rechtbank vond  \\\n",
              "0        0.199651  ...               0.199651   0.142054        0.142054   \n",
              "1        0.000000  ...               0.000000   0.243065        0.243065   \n",
              "\n",
              "   rechtbank vond pleidooi  rechtbank vond pleidooi advocaat      vond  \\\n",
              "0                 0.142054                          0.142054  0.142054   \n",
              "1                 0.243065                          0.243065  0.243065   \n",
              "\n",
              "   vond pleidooi  vond pleidooi advocaat  vond pleidooi advocaat goed  \\\n",
              "0       0.142054                0.142054                      0.00000   \n",
              "1       0.243065                0.243065                      0.34162   \n",
              "\n",
              "   vond pleidooi advocaat matig  \n",
              "0                      0.199651  \n",
              "1                      0.000000  \n",
              "\n",
              "[2 rows x 32 columns]"
            ],
            "text/html": [
              "\n",
              "  <div id=\"df-7314926c-248a-497c-95f9-4d24d475e8c9\">\n",
              "    <div class=\"colab-df-container\">\n",
              "      <div>\n",
              "<style scoped>\n",
              "    .dataframe tbody tr th:only-of-type {\n",
              "        vertical-align: middle;\n",
              "    }\n",
              "\n",
              "    .dataframe tbody tr th {\n",
              "        vertical-align: top;\n",
              "    }\n",
              "\n",
              "    .dataframe thead th {\n",
              "        text-align: right;\n",
              "    }\n",
              "</style>\n",
              "<table border=\"1\" class=\"dataframe\">\n",
              "  <thead>\n",
              "    <tr style=\"text-align: right;\">\n",
              "      <th></th>\n",
              "      <th>advocaat</th>\n",
              "      <th>advocaat goed</th>\n",
              "      <th>advocaat matig</th>\n",
              "      <th>advocaat matig pleidooi</th>\n",
              "      <th>advocaat matig pleidooi ovj</th>\n",
              "      <th>erg</th>\n",
              "      <th>erg goed</th>\n",
              "      <th>goed</th>\n",
              "      <th>matig</th>\n",
              "      <th>matig pleidooi</th>\n",
              "      <th>...</th>\n",
              "      <th>pleidooi ovj erg goed</th>\n",
              "      <th>rechtbank</th>\n",
              "      <th>rechtbank vond</th>\n",
              "      <th>rechtbank vond pleidooi</th>\n",
              "      <th>rechtbank vond pleidooi advocaat</th>\n",
              "      <th>vond</th>\n",
              "      <th>vond pleidooi</th>\n",
              "      <th>vond pleidooi advocaat</th>\n",
              "      <th>vond pleidooi advocaat goed</th>\n",
              "      <th>vond pleidooi advocaat matig</th>\n",
              "    </tr>\n",
              "  </thead>\n",
              "  <tbody>\n",
              "    <tr>\n",
              "      <th>0</th>\n",
              "      <td>0.142054</td>\n",
              "      <td>0.00000</td>\n",
              "      <td>0.199651</td>\n",
              "      <td>0.199651</td>\n",
              "      <td>0.199651</td>\n",
              "      <td>0.199651</td>\n",
              "      <td>0.199651</td>\n",
              "      <td>0.142054</td>\n",
              "      <td>0.199651</td>\n",
              "      <td>0.199651</td>\n",
              "      <td>...</td>\n",
              "      <td>0.199651</td>\n",
              "      <td>0.142054</td>\n",
              "      <td>0.142054</td>\n",
              "      <td>0.142054</td>\n",
              "      <td>0.142054</td>\n",
              "      <td>0.142054</td>\n",
              "      <td>0.142054</td>\n",
              "      <td>0.142054</td>\n",
              "      <td>0.00000</td>\n",
              "      <td>0.199651</td>\n",
              "    </tr>\n",
              "    <tr>\n",
              "      <th>1</th>\n",
              "      <td>0.243065</td>\n",
              "      <td>0.34162</td>\n",
              "      <td>0.000000</td>\n",
              "      <td>0.000000</td>\n",
              "      <td>0.000000</td>\n",
              "      <td>0.000000</td>\n",
              "      <td>0.000000</td>\n",
              "      <td>0.243065</td>\n",
              "      <td>0.000000</td>\n",
              "      <td>0.000000</td>\n",
              "      <td>...</td>\n",
              "      <td>0.000000</td>\n",
              "      <td>0.243065</td>\n",
              "      <td>0.243065</td>\n",
              "      <td>0.243065</td>\n",
              "      <td>0.243065</td>\n",
              "      <td>0.243065</td>\n",
              "      <td>0.243065</td>\n",
              "      <td>0.243065</td>\n",
              "      <td>0.34162</td>\n",
              "      <td>0.000000</td>\n",
              "    </tr>\n",
              "  </tbody>\n",
              "</table>\n",
              "<p>2 rows × 32 columns</p>\n",
              "</div>\n",
              "      <button class=\"colab-df-convert\" onclick=\"convertToInteractive('df-7314926c-248a-497c-95f9-4d24d475e8c9')\"\n",
              "              title=\"Convert this dataframe to an interactive table.\"\n",
              "              style=\"display:none;\">\n",
              "        \n",
              "  <svg xmlns=\"http://www.w3.org/2000/svg\" height=\"24px\"viewBox=\"0 0 24 24\"\n",
              "       width=\"24px\">\n",
              "    <path d=\"M0 0h24v24H0V0z\" fill=\"none\"/>\n",
              "    <path d=\"M18.56 5.44l.94 2.06.94-2.06 2.06-.94-2.06-.94-.94-2.06-.94 2.06-2.06.94zm-11 1L8.5 8.5l.94-2.06 2.06-.94-2.06-.94L8.5 2.5l-.94 2.06-2.06.94zm10 10l.94 2.06.94-2.06 2.06-.94-2.06-.94-.94-2.06-.94 2.06-2.06.94z\"/><path d=\"M17.41 7.96l-1.37-1.37c-.4-.4-.92-.59-1.43-.59-.52 0-1.04.2-1.43.59L10.3 9.45l-7.72 7.72c-.78.78-.78 2.05 0 2.83L4 21.41c.39.39.9.59 1.41.59.51 0 1.02-.2 1.41-.59l7.78-7.78 2.81-2.81c.8-.78.8-2.07 0-2.86zM5.41 20L4 18.59l7.72-7.72 1.47 1.35L5.41 20z\"/>\n",
              "  </svg>\n",
              "      </button>\n",
              "      \n",
              "  <style>\n",
              "    .colab-df-container {\n",
              "      display:flex;\n",
              "      flex-wrap:wrap;\n",
              "      gap: 12px;\n",
              "    }\n",
              "\n",
              "    .colab-df-convert {\n",
              "      background-color: #E8F0FE;\n",
              "      border: none;\n",
              "      border-radius: 50%;\n",
              "      cursor: pointer;\n",
              "      display: none;\n",
              "      fill: #1967D2;\n",
              "      height: 32px;\n",
              "      padding: 0 0 0 0;\n",
              "      width: 32px;\n",
              "    }\n",
              "\n",
              "    .colab-df-convert:hover {\n",
              "      background-color: #E2EBFA;\n",
              "      box-shadow: 0px 1px 2px rgba(60, 64, 67, 0.3), 0px 1px 3px 1px rgba(60, 64, 67, 0.15);\n",
              "      fill: #174EA6;\n",
              "    }\n",
              "\n",
              "    [theme=dark] .colab-df-convert {\n",
              "      background-color: #3B4455;\n",
              "      fill: #D2E3FC;\n",
              "    }\n",
              "\n",
              "    [theme=dark] .colab-df-convert:hover {\n",
              "      background-color: #434B5C;\n",
              "      box-shadow: 0px 1px 3px 1px rgba(0, 0, 0, 0.15);\n",
              "      filter: drop-shadow(0px 1px 2px rgba(0, 0, 0, 0.3));\n",
              "      fill: #FFFFFF;\n",
              "    }\n",
              "  </style>\n",
              "\n",
              "      <script>\n",
              "        const buttonEl =\n",
              "          document.querySelector('#df-7314926c-248a-497c-95f9-4d24d475e8c9 button.colab-df-convert');\n",
              "        buttonEl.style.display =\n",
              "          google.colab.kernel.accessAllowed ? 'block' : 'none';\n",
              "\n",
              "        async function convertToInteractive(key) {\n",
              "          const element = document.querySelector('#df-7314926c-248a-497c-95f9-4d24d475e8c9');\n",
              "          const dataTable =\n",
              "            await google.colab.kernel.invokeFunction('convertToInteractive',\n",
              "                                                     [key], {});\n",
              "          if (!dataTable) return;\n",
              "\n",
              "          const docLinkHtml = 'Like what you see? Visit the ' +\n",
              "            '<a target=\"_blank\" href=https://colab.research.google.com/notebooks/data_table.ipynb>data table notebook</a>'\n",
              "            + ' to learn more about interactive tables.';\n",
              "          element.innerHTML = '';\n",
              "          dataTable['output_type'] = 'display_data';\n",
              "          await google.colab.output.renderOutput(dataTable, element);\n",
              "          const docLink = document.createElement('div');\n",
              "          docLink.innerHTML = docLinkHtml;\n",
              "          element.appendChild(docLink);\n",
              "        }\n",
              "      </script>\n",
              "    </div>\n",
              "  </div>\n",
              "  "
            ]
          },
          "metadata": {},
          "execution_count": 33
        }
      ]
    },
    {
      "cell_type": "code",
      "source": [
        "# LEUK!!!! \n",
        "# En nu gaan we even de uitspraakteksten op deze manier bekijken:\n",
        "uitspraakteksten = [] \n",
        "for u in nieuweUitsprakenlijst:\n",
        "    tekst = u[3]\n",
        "    tekst = re.sub(\"\\d+\", \"\", tekst)\n",
        "    uitspraakteksten.append(tekst)\n",
        "\n",
        "a= BOW(uitspraakteksten, ngramMax = 3, tfidf=True)\n",
        "a"
      ],
      "metadata": {
        "colab": {
          "base_uri": "https://localhost:8080/",
          "height": 491
        },
        "id": "oYBUsRanc0yq",
        "outputId": "f40876c0-17a4-4fc1-e9a9-0b5115e1531b"
      },
      "execution_count": 42,
      "outputs": [
        {
          "output_type": "execute_result",
          "data": {
            "text/plain": [
              "         aa  aa vijfde  aa vijfde lid  aanbevelingen  \\\n",
              "0  0.000000   0.000000       0.000000       0.000000   \n",
              "1  0.000000   0.000000       0.000000       0.000000   \n",
              "2  0.000000   0.000000       0.000000       0.000000   \n",
              "3  0.000000   0.000000       0.000000       0.000000   \n",
              "4  0.000000   0.000000       0.000000       0.000000   \n",
              "5  0.000000   0.000000       0.000000       0.006085   \n",
              "6  0.000000   0.000000       0.000000       0.000000   \n",
              "7  0.000000   0.000000       0.000000       0.000000   \n",
              "8  0.020248   0.020248       0.020248       0.000000   \n",
              "9  0.000000   0.000000       0.000000       0.000000   \n",
              "\n",
              "   aanbevelingen expertgroep  aanbevelingen expertgroep alimentatie  \\\n",
              "0                   0.000000                               0.000000   \n",
              "1                   0.000000                               0.000000   \n",
              "2                   0.000000                               0.000000   \n",
              "3                   0.000000                               0.000000   \n",
              "4                   0.000000                               0.000000   \n",
              "5                   0.006085                               0.006085   \n",
              "6                   0.000000                               0.000000   \n",
              "7                   0.000000                               0.000000   \n",
              "8                   0.000000                               0.000000   \n",
              "9                   0.000000                               0.000000   \n",
              "\n",
              "   aanbrengen  aanbrengen noemenswaardige  aanbrengen noemenswaardige kosten  \\\n",
              "0    0.000000                    0.000000                           0.000000   \n",
              "1    0.022523                    0.011262                           0.011262   \n",
              "2    0.000000                    0.000000                           0.000000   \n",
              "3    0.000000                    0.000000                           0.000000   \n",
              "4    0.000000                    0.000000                           0.000000   \n",
              "5    0.000000                    0.000000                           0.000000   \n",
              "6    0.000000                    0.000000                           0.000000   \n",
              "7    0.000000                    0.000000                           0.000000   \n",
              "8    0.000000                    0.000000                           0.000000   \n",
              "9    0.000000                    0.000000                           0.000000   \n",
              "\n",
              "   aanbrengen westhoek  ...  zwuitspraak enkelvoudige  \\\n",
              "0             0.000000  ...                   0.00000   \n",
              "1             0.011262  ...                   0.00000   \n",
              "2             0.000000  ...                   0.00000   \n",
              "3             0.000000  ...                   0.00000   \n",
              "4             0.000000  ...                   0.00000   \n",
              "5             0.000000  ...                   0.00000   \n",
              "6             0.000000  ...                   0.00000   \n",
              "7             0.000000  ...                   0.00000   \n",
              "8             0.000000  ...                   0.00000   \n",
              "9             0.000000  ...                   0.00691   \n",
              "\n",
              "   zwuitspraak enkelvoudige kamer       één  één jaar  één jaar eindigt  \\\n",
              "0                         0.00000  0.000000  0.000000          0.000000   \n",
              "1                         0.00000  0.000000  0.000000          0.000000   \n",
              "2                         0.00000  0.000000  0.000000          0.000000   \n",
              "3                         0.00000  0.000000  0.000000          0.000000   \n",
              "4                         0.00000  0.000000  0.000000          0.000000   \n",
              "5                         0.00000  0.000000  0.000000          0.000000   \n",
              "6                         0.00000  0.027307  0.000000          0.000000   \n",
              "7                         0.00000  0.000000  0.000000          0.000000   \n",
              "8                         0.00000  0.060245  0.070869          0.040496   \n",
              "9                         0.00691  0.000000  0.000000          0.000000   \n",
              "\n",
              "   één jaar vast  één jaar vaststelt  één jaar voorafgaande  één partijen  \\\n",
              "0       0.000000            0.000000               0.000000      0.000000   \n",
              "1       0.000000            0.000000               0.000000      0.000000   \n",
              "2       0.000000            0.000000               0.000000      0.000000   \n",
              "3       0.000000            0.000000               0.000000      0.000000   \n",
              "4       0.000000            0.000000               0.000000      0.000000   \n",
              "5       0.000000            0.000000               0.000000      0.000000   \n",
              "6       0.000000            0.000000               0.000000      0.032122   \n",
              "7       0.000000            0.000000               0.000000      0.000000   \n",
              "8       0.010124            0.010124               0.010124      0.000000   \n",
              "9       0.000000            0.000000               0.000000      0.000000   \n",
              "\n",
              "   één partijen woning  \n",
              "0             0.000000  \n",
              "1             0.000000  \n",
              "2             0.000000  \n",
              "3             0.000000  \n",
              "4             0.000000  \n",
              "5             0.000000  \n",
              "6             0.032122  \n",
              "7             0.000000  \n",
              "8             0.000000  \n",
              "9             0.000000  \n",
              "\n",
              "[10 rows x 24762 columns]"
            ],
            "text/html": [
              "\n",
              "  <div id=\"df-3b7a4512-72ef-4a78-a202-87e2d102c82d\">\n",
              "    <div class=\"colab-df-container\">\n",
              "      <div>\n",
              "<style scoped>\n",
              "    .dataframe tbody tr th:only-of-type {\n",
              "        vertical-align: middle;\n",
              "    }\n",
              "\n",
              "    .dataframe tbody tr th {\n",
              "        vertical-align: top;\n",
              "    }\n",
              "\n",
              "    .dataframe thead th {\n",
              "        text-align: right;\n",
              "    }\n",
              "</style>\n",
              "<table border=\"1\" class=\"dataframe\">\n",
              "  <thead>\n",
              "    <tr style=\"text-align: right;\">\n",
              "      <th></th>\n",
              "      <th>aa</th>\n",
              "      <th>aa vijfde</th>\n",
              "      <th>aa vijfde lid</th>\n",
              "      <th>aanbevelingen</th>\n",
              "      <th>aanbevelingen expertgroep</th>\n",
              "      <th>aanbevelingen expertgroep alimentatie</th>\n",
              "      <th>aanbrengen</th>\n",
              "      <th>aanbrengen noemenswaardige</th>\n",
              "      <th>aanbrengen noemenswaardige kosten</th>\n",
              "      <th>aanbrengen westhoek</th>\n",
              "      <th>...</th>\n",
              "      <th>zwuitspraak enkelvoudige</th>\n",
              "      <th>zwuitspraak enkelvoudige kamer</th>\n",
              "      <th>één</th>\n",
              "      <th>één jaar</th>\n",
              "      <th>één jaar eindigt</th>\n",
              "      <th>één jaar vast</th>\n",
              "      <th>één jaar vaststelt</th>\n",
              "      <th>één jaar voorafgaande</th>\n",
              "      <th>één partijen</th>\n",
              "      <th>één partijen woning</th>\n",
              "    </tr>\n",
              "  </thead>\n",
              "  <tbody>\n",
              "    <tr>\n",
              "      <th>0</th>\n",
              "      <td>0.000000</td>\n",
              "      <td>0.000000</td>\n",
              "      <td>0.000000</td>\n",
              "      <td>0.000000</td>\n",
              "      <td>0.000000</td>\n",
              "      <td>0.000000</td>\n",
              "      <td>0.000000</td>\n",
              "      <td>0.000000</td>\n",
              "      <td>0.000000</td>\n",
              "      <td>0.000000</td>\n",
              "      <td>...</td>\n",
              "      <td>0.00000</td>\n",
              "      <td>0.00000</td>\n",
              "      <td>0.000000</td>\n",
              "      <td>0.000000</td>\n",
              "      <td>0.000000</td>\n",
              "      <td>0.000000</td>\n",
              "      <td>0.000000</td>\n",
              "      <td>0.000000</td>\n",
              "      <td>0.000000</td>\n",
              "      <td>0.000000</td>\n",
              "    </tr>\n",
              "    <tr>\n",
              "      <th>1</th>\n",
              "      <td>0.000000</td>\n",
              "      <td>0.000000</td>\n",
              "      <td>0.000000</td>\n",
              "      <td>0.000000</td>\n",
              "      <td>0.000000</td>\n",
              "      <td>0.000000</td>\n",
              "      <td>0.022523</td>\n",
              "      <td>0.011262</td>\n",
              "      <td>0.011262</td>\n",
              "      <td>0.011262</td>\n",
              "      <td>...</td>\n",
              "      <td>0.00000</td>\n",
              "      <td>0.00000</td>\n",
              "      <td>0.000000</td>\n",
              "      <td>0.000000</td>\n",
              "      <td>0.000000</td>\n",
              "      <td>0.000000</td>\n",
              "      <td>0.000000</td>\n",
              "      <td>0.000000</td>\n",
              "      <td>0.000000</td>\n",
              "      <td>0.000000</td>\n",
              "    </tr>\n",
              "    <tr>\n",
              "      <th>2</th>\n",
              "      <td>0.000000</td>\n",
              "      <td>0.000000</td>\n",
              "      <td>0.000000</td>\n",
              "      <td>0.000000</td>\n",
              "      <td>0.000000</td>\n",
              "      <td>0.000000</td>\n",
              "      <td>0.000000</td>\n",
              "      <td>0.000000</td>\n",
              "      <td>0.000000</td>\n",
              "      <td>0.000000</td>\n",
              "      <td>...</td>\n",
              "      <td>0.00000</td>\n",
              "      <td>0.00000</td>\n",
              "      <td>0.000000</td>\n",
              "      <td>0.000000</td>\n",
              "      <td>0.000000</td>\n",
              "      <td>0.000000</td>\n",
              "      <td>0.000000</td>\n",
              "      <td>0.000000</td>\n",
              "      <td>0.000000</td>\n",
              "      <td>0.000000</td>\n",
              "    </tr>\n",
              "    <tr>\n",
              "      <th>3</th>\n",
              "      <td>0.000000</td>\n",
              "      <td>0.000000</td>\n",
              "      <td>0.000000</td>\n",
              "      <td>0.000000</td>\n",
              "      <td>0.000000</td>\n",
              "      <td>0.000000</td>\n",
              "      <td>0.000000</td>\n",
              "      <td>0.000000</td>\n",
              "      <td>0.000000</td>\n",
              "      <td>0.000000</td>\n",
              "      <td>...</td>\n",
              "      <td>0.00000</td>\n",
              "      <td>0.00000</td>\n",
              "      <td>0.000000</td>\n",
              "      <td>0.000000</td>\n",
              "      <td>0.000000</td>\n",
              "      <td>0.000000</td>\n",
              "      <td>0.000000</td>\n",
              "      <td>0.000000</td>\n",
              "      <td>0.000000</td>\n",
              "      <td>0.000000</td>\n",
              "    </tr>\n",
              "    <tr>\n",
              "      <th>4</th>\n",
              "      <td>0.000000</td>\n",
              "      <td>0.000000</td>\n",
              "      <td>0.000000</td>\n",
              "      <td>0.000000</td>\n",
              "      <td>0.000000</td>\n",
              "      <td>0.000000</td>\n",
              "      <td>0.000000</td>\n",
              "      <td>0.000000</td>\n",
              "      <td>0.000000</td>\n",
              "      <td>0.000000</td>\n",
              "      <td>...</td>\n",
              "      <td>0.00000</td>\n",
              "      <td>0.00000</td>\n",
              "      <td>0.000000</td>\n",
              "      <td>0.000000</td>\n",
              "      <td>0.000000</td>\n",
              "      <td>0.000000</td>\n",
              "      <td>0.000000</td>\n",
              "      <td>0.000000</td>\n",
              "      <td>0.000000</td>\n",
              "      <td>0.000000</td>\n",
              "    </tr>\n",
              "    <tr>\n",
              "      <th>5</th>\n",
              "      <td>0.000000</td>\n",
              "      <td>0.000000</td>\n",
              "      <td>0.000000</td>\n",
              "      <td>0.006085</td>\n",
              "      <td>0.006085</td>\n",
              "      <td>0.006085</td>\n",
              "      <td>0.000000</td>\n",
              "      <td>0.000000</td>\n",
              "      <td>0.000000</td>\n",
              "      <td>0.000000</td>\n",
              "      <td>...</td>\n",
              "      <td>0.00000</td>\n",
              "      <td>0.00000</td>\n",
              "      <td>0.000000</td>\n",
              "      <td>0.000000</td>\n",
              "      <td>0.000000</td>\n",
              "      <td>0.000000</td>\n",
              "      <td>0.000000</td>\n",
              "      <td>0.000000</td>\n",
              "      <td>0.000000</td>\n",
              "      <td>0.000000</td>\n",
              "    </tr>\n",
              "    <tr>\n",
              "      <th>6</th>\n",
              "      <td>0.000000</td>\n",
              "      <td>0.000000</td>\n",
              "      <td>0.000000</td>\n",
              "      <td>0.000000</td>\n",
              "      <td>0.000000</td>\n",
              "      <td>0.000000</td>\n",
              "      <td>0.000000</td>\n",
              "      <td>0.000000</td>\n",
              "      <td>0.000000</td>\n",
              "      <td>0.000000</td>\n",
              "      <td>...</td>\n",
              "      <td>0.00000</td>\n",
              "      <td>0.00000</td>\n",
              "      <td>0.027307</td>\n",
              "      <td>0.000000</td>\n",
              "      <td>0.000000</td>\n",
              "      <td>0.000000</td>\n",
              "      <td>0.000000</td>\n",
              "      <td>0.000000</td>\n",
              "      <td>0.032122</td>\n",
              "      <td>0.032122</td>\n",
              "    </tr>\n",
              "    <tr>\n",
              "      <th>7</th>\n",
              "      <td>0.000000</td>\n",
              "      <td>0.000000</td>\n",
              "      <td>0.000000</td>\n",
              "      <td>0.000000</td>\n",
              "      <td>0.000000</td>\n",
              "      <td>0.000000</td>\n",
              "      <td>0.000000</td>\n",
              "      <td>0.000000</td>\n",
              "      <td>0.000000</td>\n",
              "      <td>0.000000</td>\n",
              "      <td>...</td>\n",
              "      <td>0.00000</td>\n",
              "      <td>0.00000</td>\n",
              "      <td>0.000000</td>\n",
              "      <td>0.000000</td>\n",
              "      <td>0.000000</td>\n",
              "      <td>0.000000</td>\n",
              "      <td>0.000000</td>\n",
              "      <td>0.000000</td>\n",
              "      <td>0.000000</td>\n",
              "      <td>0.000000</td>\n",
              "    </tr>\n",
              "    <tr>\n",
              "      <th>8</th>\n",
              "      <td>0.020248</td>\n",
              "      <td>0.020248</td>\n",
              "      <td>0.020248</td>\n",
              "      <td>0.000000</td>\n",
              "      <td>0.000000</td>\n",
              "      <td>0.000000</td>\n",
              "      <td>0.000000</td>\n",
              "      <td>0.000000</td>\n",
              "      <td>0.000000</td>\n",
              "      <td>0.000000</td>\n",
              "      <td>...</td>\n",
              "      <td>0.00000</td>\n",
              "      <td>0.00000</td>\n",
              "      <td>0.060245</td>\n",
              "      <td>0.070869</td>\n",
              "      <td>0.040496</td>\n",
              "      <td>0.010124</td>\n",
              "      <td>0.010124</td>\n",
              "      <td>0.010124</td>\n",
              "      <td>0.000000</td>\n",
              "      <td>0.000000</td>\n",
              "    </tr>\n",
              "    <tr>\n",
              "      <th>9</th>\n",
              "      <td>0.000000</td>\n",
              "      <td>0.000000</td>\n",
              "      <td>0.000000</td>\n",
              "      <td>0.000000</td>\n",
              "      <td>0.000000</td>\n",
              "      <td>0.000000</td>\n",
              "      <td>0.000000</td>\n",
              "      <td>0.000000</td>\n",
              "      <td>0.000000</td>\n",
              "      <td>0.000000</td>\n",
              "      <td>...</td>\n",
              "      <td>0.00691</td>\n",
              "      <td>0.00691</td>\n",
              "      <td>0.000000</td>\n",
              "      <td>0.000000</td>\n",
              "      <td>0.000000</td>\n",
              "      <td>0.000000</td>\n",
              "      <td>0.000000</td>\n",
              "      <td>0.000000</td>\n",
              "      <td>0.000000</td>\n",
              "      <td>0.000000</td>\n",
              "    </tr>\n",
              "  </tbody>\n",
              "</table>\n",
              "<p>10 rows × 24762 columns</p>\n",
              "</div>\n",
              "      <button class=\"colab-df-convert\" onclick=\"convertToInteractive('df-3b7a4512-72ef-4a78-a202-87e2d102c82d')\"\n",
              "              title=\"Convert this dataframe to an interactive table.\"\n",
              "              style=\"display:none;\">\n",
              "        \n",
              "  <svg xmlns=\"http://www.w3.org/2000/svg\" height=\"24px\"viewBox=\"0 0 24 24\"\n",
              "       width=\"24px\">\n",
              "    <path d=\"M0 0h24v24H0V0z\" fill=\"none\"/>\n",
              "    <path d=\"M18.56 5.44l.94 2.06.94-2.06 2.06-.94-2.06-.94-.94-2.06-.94 2.06-2.06.94zm-11 1L8.5 8.5l.94-2.06 2.06-.94-2.06-.94L8.5 2.5l-.94 2.06-2.06.94zm10 10l.94 2.06.94-2.06 2.06-.94-2.06-.94-.94-2.06-.94 2.06-2.06.94z\"/><path d=\"M17.41 7.96l-1.37-1.37c-.4-.4-.92-.59-1.43-.59-.52 0-1.04.2-1.43.59L10.3 9.45l-7.72 7.72c-.78.78-.78 2.05 0 2.83L4 21.41c.39.39.9.59 1.41.59.51 0 1.02-.2 1.41-.59l7.78-7.78 2.81-2.81c.8-.78.8-2.07 0-2.86zM5.41 20L4 18.59l7.72-7.72 1.47 1.35L5.41 20z\"/>\n",
              "  </svg>\n",
              "      </button>\n",
              "      \n",
              "  <style>\n",
              "    .colab-df-container {\n",
              "      display:flex;\n",
              "      flex-wrap:wrap;\n",
              "      gap: 12px;\n",
              "    }\n",
              "\n",
              "    .colab-df-convert {\n",
              "      background-color: #E8F0FE;\n",
              "      border: none;\n",
              "      border-radius: 50%;\n",
              "      cursor: pointer;\n",
              "      display: none;\n",
              "      fill: #1967D2;\n",
              "      height: 32px;\n",
              "      padding: 0 0 0 0;\n",
              "      width: 32px;\n",
              "    }\n",
              "\n",
              "    .colab-df-convert:hover {\n",
              "      background-color: #E2EBFA;\n",
              "      box-shadow: 0px 1px 2px rgba(60, 64, 67, 0.3), 0px 1px 3px 1px rgba(60, 64, 67, 0.15);\n",
              "      fill: #174EA6;\n",
              "    }\n",
              "\n",
              "    [theme=dark] .colab-df-convert {\n",
              "      background-color: #3B4455;\n",
              "      fill: #D2E3FC;\n",
              "    }\n",
              "\n",
              "    [theme=dark] .colab-df-convert:hover {\n",
              "      background-color: #434B5C;\n",
              "      box-shadow: 0px 1px 3px 1px rgba(0, 0, 0, 0.15);\n",
              "      filter: drop-shadow(0px 1px 2px rgba(0, 0, 0, 0.3));\n",
              "      fill: #FFFFFF;\n",
              "    }\n",
              "  </style>\n",
              "\n",
              "      <script>\n",
              "        const buttonEl =\n",
              "          document.querySelector('#df-3b7a4512-72ef-4a78-a202-87e2d102c82d button.colab-df-convert');\n",
              "        buttonEl.style.display =\n",
              "          google.colab.kernel.accessAllowed ? 'block' : 'none';\n",
              "\n",
              "        async function convertToInteractive(key) {\n",
              "          const element = document.querySelector('#df-3b7a4512-72ef-4a78-a202-87e2d102c82d');\n",
              "          const dataTable =\n",
              "            await google.colab.kernel.invokeFunction('convertToInteractive',\n",
              "                                                     [key], {});\n",
              "          if (!dataTable) return;\n",
              "\n",
              "          const docLinkHtml = 'Like what you see? Visit the ' +\n",
              "            '<a target=\"_blank\" href=https://colab.research.google.com/notebooks/data_table.ipynb>data table notebook</a>'\n",
              "            + ' to learn more about interactive tables.';\n",
              "          element.innerHTML = '';\n",
              "          dataTable['output_type'] = 'display_data';\n",
              "          await google.colab.output.renderOutput(dataTable, element);\n",
              "          const docLink = document.createElement('div');\n",
              "          docLink.innerHTML = docLinkHtml;\n",
              "          element.appendChild(docLink);\n",
              "        }\n",
              "      </script>\n",
              "    </div>\n",
              "  </div>\n",
              "  "
            ]
          },
          "metadata": {},
          "execution_count": 42
        }
      ]
    },
    {
      "cell_type": "markdown",
      "source": [
        "### Andere manier: het toekennen van een waarde aan een woord.\n",
        "Niet alleen het tellen van woorden (en daar berekeningen op los te laten) kan de computer laten rekenen met taal.\n",
        "\n",
        "#### toekennen van een waarde: Eén waarde?\n",
        "Nee, een matrix. Bijvoorbeeld een lijst:\n",
        "\n",
        "> \n",
        "        woord = ([0.135, 0.246, 1.204],\n",
        "                [0.987, 0.538, 1.902])"
      ],
      "metadata": {
        "id": "oTk_6cDZe4Bz"
      }
    },
    {
      "cell_type": "code",
      "source": [
        "doc = nlp(\"\"\"Dit vonnis is gewezen door mr. R.M. Berendsen, kantonrechter, en is in aanwezigheid van de griffier in het openbaar uitgesproken \n",
        "op 4 augustus 2021.  Grosse afgegeven aan de gemachtigde van de eisende partij d.d. 4 augustus 2021 \"\"\")"
      ],
      "metadata": {
        "id": "g70MfaIffS3h"
      },
      "execution_count": 43,
      "outputs": []
    },
    {
      "cell_type": "markdown",
      "source": [
        "\n",
        "Hoe ziet de waarde van deze string eruit?\n",
        "\n",
        "De waarde wordt per woord berekend. Voor het woord \"gewezen\" (doc[3]) ziet de waardering eruit als volgt:"
      ],
      "metadata": {
        "id": "e2zBlDvcfj16"
      }
    },
    {
      "cell_type": "code",
      "source": [
        "t = doc[3]\n",
        "print(\"de matrix (vector) voor \" + str(t) + \" is een lijst met \" + str(len(t.vector)) + \" waarden!\")\n",
        "print(t.vector)"
      ],
      "metadata": {
        "colab": {
          "base_uri": "https://localhost:8080/"
        },
        "id": "9XzJOlvlflhp",
        "outputId": "da98c778-dd25-493c-d1ca-1486ad965200"
      },
      "execution_count": 45,
      "outputs": [
        {
          "output_type": "stream",
          "name": "stdout",
          "text": [
            "de matrix (vector) voor gewezen is een lijst met 300 waarden!\n",
            "[-1.1477e-01 -1.2062e+00  6.7353e-01 -1.8027e-01  2.7379e+00 -8.2294e-01\n",
            "  3.3535e+00  1.1208e+00 -7.6825e-01 -2.8557e-01  1.2372e+00 -2.1319e-01\n",
            "  2.4193e-01 -1.6057e+00 -6.4984e-01 -1.0612e-01  1.8430e+00  1.3413e+00\n",
            "  2.6289e+00 -1.4591e+00  5.9763e-02 -2.3906e-01 -1.9270e+00 -5.0158e+00\n",
            " -1.3336e+00  9.5708e-01 -1.3822e+00  8.5292e-01 -4.7535e-01 -1.7863e-01\n",
            "  1.4502e+00 -8.3260e-01  2.6066e+00 -2.4169e+00 -1.6404e+00  8.8685e-01\n",
            " -1.7499e+00  8.1432e-01 -4.0440e+00  3.1825e-01  9.5792e-01  5.3253e-01\n",
            " -1.0055e+00  1.0824e+00  1.3143e+00  1.3700e+00  2.1982e+00 -1.9661e+00\n",
            " -3.2781e-01  1.1628e+00 -2.4512e+00  1.8712e-01  1.6489e+00 -1.0777e+00\n",
            "  6.2761e-01 -1.4295e+00  4.2314e-01  8.8609e-01 -1.2441e+00  2.0226e+00\n",
            "  4.1203e-01 -2.0519e+00  3.3551e-01  8.1457e-01  2.8710e+00 -2.4429e+00\n",
            "  3.4470e-01 -1.1935e+00  3.2911e-01  8.7601e-01 -2.7337e+00 -1.1665e+00\n",
            "  1.2667e+00  1.6321e+00  1.6117e+00  4.6450e-01 -2.1286e+00  1.7606e+00\n",
            " -1.0421e+00  6.6542e-01 -1.0174e-01 -3.0481e+00 -1.3148e-01 -6.9023e-01\n",
            "  3.0316e+00  1.6907e+00 -1.3351e+00  3.4675e-01 -3.5614e-01  1.6245e+00\n",
            " -7.9186e-01 -1.2343e+00 -3.3930e-01 -1.4305e-01  6.2691e-01 -7.1206e-01\n",
            " -2.6265e+00 -1.5737e-01  3.3644e-01 -5.9521e-01  8.9376e-01  2.5611e+00\n",
            "  2.8188e+00  5.1428e-02 -1.3170e+00  4.4090e-01  3.6745e+00 -1.8229e+00\n",
            " -1.6114e+00  3.8058e-01  2.9138e-01  1.8546e-01 -1.6664e+00  6.4094e-01\n",
            " -1.1826e+00 -1.9896e+00  9.1585e-01 -8.2691e-01  7.0161e-01 -8.2960e-01\n",
            "  2.3839e+00  7.3036e-02  9.7709e-01 -6.9023e-01 -8.7760e-01 -6.3199e-01\n",
            " -5.4144e-01  2.0337e-01  1.0078e+00  1.2478e+00  6.7509e-01 -2.0475e-02\n",
            "  4.0840e-01 -2.2118e+00  1.3309e+00  1.3968e+00 -1.8730e+00 -3.1774e+00\n",
            "  3.3157e-01  3.5771e-01 -7.7954e-01  1.2986e+00 -6.4630e-01 -1.0697e+00\n",
            " -2.7558e+00 -4.2236e-03 -4.2911e-01 -7.0600e-01 -3.2578e-01 -1.1128e+00\n",
            " -9.7767e-01 -5.7454e-01 -1.5376e+00  2.5523e+00  3.1734e-01 -1.5278e+00\n",
            " -2.0790e-01 -2.3907e-01  3.7902e-03 -1.1127e+00 -1.1099e+00  1.8553e+00\n",
            "  2.5131e+00 -2.4491e-01  2.1673e+00  5.5069e-01 -1.2662e-01  1.7639e+00\n",
            "  2.0830e+00  3.4138e+00 -4.5843e-01  7.1426e-01 -2.8685e+00 -2.1860e-01\n",
            " -1.9855e+00 -3.8311e-01 -1.3002e+00  1.1226e+00 -7.4209e-01 -9.5141e-01\n",
            " -1.0027e+00  1.3846e+00 -1.4153e+00 -5.9135e-01  2.0363e+00  1.8398e+00\n",
            "  8.6254e-01 -1.2957e+00  9.5069e-01  1.4873e+00  2.1494e+00 -2.7655e+00\n",
            "  1.6160e+00 -1.0258e+00  5.4170e-01  9.6855e-01  8.5560e-01  7.3657e-01\n",
            "  2.5564e-01 -8.3064e-01  2.0063e-01  1.3374e-01  1.7826e+00  6.2422e-01\n",
            "  6.2754e-01 -1.4709e+00  6.0624e-01  2.0360e-02  2.7300e+00  7.9426e-01\n",
            "  1.5411e+00  1.9006e+00  1.4592e+00  1.5039e+00  1.5992e+00  1.5463e+00\n",
            "  3.9508e-01 -2.7039e+00 -5.5573e-01 -9.5136e-01 -7.3085e-01  8.3381e-01\n",
            " -1.7526e+00 -1.1393e+00  4.7203e-01  8.5921e-01  2.0920e+00 -6.5520e-01\n",
            "  3.2582e-01 -9.1906e-01  2.3210e-01  1.1964e+00  8.6520e-01  3.0191e-01\n",
            "  1.0669e+00  2.5534e-01  1.8534e-01 -3.1080e+00  7.3600e-01 -4.0153e-01\n",
            " -5.7126e-01 -1.3279e+00  7.7416e-01 -3.2455e+00 -4.7287e-01 -1.4655e-01\n",
            "  9.6214e-01 -1.7910e+00 -1.4896e+00  1.8528e+00 -2.0035e+00 -1.4083e-01\n",
            " -5.7045e-02 -2.3944e-01  1.2822e+00 -1.0979e+00  2.4883e+00 -8.4792e-01\n",
            " -3.6833e-02 -1.0985e-02 -1.5080e+00 -3.2300e+00 -1.0708e+00  9.1214e-01\n",
            "  5.7450e-01 -4.4525e-01  2.3573e+00 -1.7278e+00  7.1735e-01  1.1357e+00\n",
            " -1.3838e-01  2.3663e+00  1.1552e+00  1.4911e+00 -6.7090e-01  1.0887e+00\n",
            " -1.3580e+00  1.6066e+00  1.3464e-01  1.4977e+00  9.2745e-01  2.0160e-01\n",
            " -1.6848e+00 -7.7897e-01  9.2258e-01  6.2577e-01 -5.3899e-01  1.1584e+00\n",
            "  3.4152e-01 -2.9117e+00 -3.4754e+00  7.8487e-01 -2.2786e+00 -2.3891e+00\n",
            " -5.3829e-02 -3.4157e+00  1.2458e+00  1.2323e+00 -8.3575e-01  1.9162e+00]\n"
          ]
        }
      ]
    },
    {
      "cell_type": "markdown",
      "source": [
        "### Wat betekenen deze waarden?\n",
        "Kort gezegd: hoe meer de waarde van twee woorden dichter bij elkaar liggen, hoe vaker ze bij elkaar in de buurt zijn gezien.\n",
        "\n",
        "Als wij de waarden van verschillende woorden met elkaar vergelijken, en de 300 waarden per woord \"platslaan\" tot 2 waarden, dan kom je tot het volgende beeld:"
      ],
      "metadata": {
        "id": "ENOzuV2zf9a1"
      }
    },
    {
      "cell_type": "code",
      "source": [
        "tekst = \"Rome Parijs Berlijn Madrid Athene Luxemburg Caïro Amsterdam Rotterdam Den Haag Utrecht Eindhoven Groningen Tilburg Almere Breda Nijmegen Apeldoorn Snelweg Zandweg Kastanjelaan Zijweg\"\n",
        "text_tokens = word_tokenize(tekst.lower()) \n",
        "tokens_without_sw = [word for word in text_tokens if not word in stopwoorden]\n",
        "punctuering = [',', '.', ':', ';']\n",
        "tokens_zonder_punctuering = [word for word in text_tokens if not word in punctuering]\n",
        "geschoond = \" \".join(tokens_without_sw) \n",
        "\n",
        "a = nlp(geschoond)\n",
        "\n",
        "from sklearn.decomposition import PCA\n",
        "pca = PCA(n_components=2)\n",
        "result = pca.fit_transform(a.tensor)\n",
        "print(result)\n",
        "\n",
        "plt.figure(figsize=(12,12))\n",
        "plt.scatter(result[:,0], result[:,1])\n",
        "for i, word in enumerate(a):\n",
        "    plt.annotate(a[i].lower_, xy=(result[i, 0], result[i, 1]))\n",
        "plt.show()\n"
      ],
      "metadata": {
        "colab": {
          "base_uri": "https://localhost:8080/",
          "height": 1000
        },
        "id": "tSE4OqcegKKv",
        "outputId": "28a407a0-1e7b-434c-af49-69780d78e6ff"
      },
      "execution_count": 48,
      "outputs": [
        {
          "output_type": "stream",
          "name": "stdout",
          "text": [
            "[[  0.60981685  -4.0938005 ]\n",
            " [ -3.02652     -0.309922  ]\n",
            " [ -2.6228435   -7.045354  ]\n",
            " [ -2.3034425  -10.243884  ]\n",
            " [ -2.8802989   -9.467184  ]\n",
            " [ -3.553592   -11.910873  ]\n",
            " [  6.1330147   13.175598  ]\n",
            " [-10.254346     4.7580543 ]\n",
            " [ -1.5019016    4.0180387 ]\n",
            " [  9.483773     7.793091  ]\n",
            " [  4.9169827    0.29182428]\n",
            " [ -8.294388     0.99411833]\n",
            " [ -7.1673913    4.7395487 ]\n",
            " [ -9.556699    10.128434  ]\n",
            " [-13.48137     -1.7265438 ]\n",
            " [ -8.990895    -2.7123833 ]\n",
            " [ -4.764963    -0.67475134]\n",
            " [ -8.967509     6.4166355 ]\n",
            " [ -9.0522785   -0.7027087 ]\n",
            " [ 18.7965      -2.856468  ]\n",
            " [ 17.562773     2.6041882 ]\n",
            " [ 16.943882    -1.1151737 ]\n",
            " [ 21.971708    -2.0604827 ]]\n"
          ]
        },
        {
          "output_type": "display_data",
          "data": {
            "text/plain": [
              "<Figure size 1200x1200 with 1 Axes>"
            ],
            "image/png": "[encoded data removed]"
          },
          "metadata": {}
        }
      ]
    },
    {
      "cell_type": "markdown",
      "source": [
        "### POS-tagging (part of speech)\n",
        "Taalkundig ontleden: werkwoorden, bijvoeglijk naamwoorden, werkwoorden etc. \n",
        "\n",
        "Redekundige ontleding"
      ],
      "metadata": {
        "id": "b1jBMdqehWFj"
      }
    },
    {
      "cell_type": "code",
      "source": [
        "doc = nlp(\"De rechtbank wijst het verzoek toe\")\n",
        "for t in doc:\n",
        "    print(t, t.pos_, t.dep_)"
      ],
      "metadata": {
        "colab": {
          "base_uri": "https://localhost:8080/"
        },
        "id": "GBtMagachczf",
        "outputId": "ae329127-3efc-446f-c377-7fec69d58507"
      },
      "execution_count": 49,
      "outputs": [
        {
          "output_type": "stream",
          "name": "stdout",
          "text": [
            "De DET det\n",
            "rechtbank NOUN nsubj\n",
            "wijst VERB ROOT\n",
            "het DET det\n",
            "verzoek NOUN obj\n",
            "toe ADP compound:prt\n"
          ]
        }
      ]
    },
    {
      "cell_type": "code",
      "source": [
        "from spacy import displacy\n",
        "import IPython\n",
        "IPython.display.HTML(displacy.render(doc))"
      ],
      "metadata": {
        "colab": {
          "base_uri": "https://localhost:8080/",
          "height": 421
        },
        "id": "I7pTLQwchnIr",
        "outputId": "d986cf83-d264-4351-9d1a-73381d1bd16d"
      },
      "execution_count": 50,
      "outputs": [
        {
          "output_type": "execute_result",
          "data": {
            "text/plain": [
              "<IPython.core.display.HTML object>"
            ],
            "text/html": [
              "<svg xmlns=\"http://www.w3.org/2000/svg\" xmlns:xlink=\"http://www.w3.org/1999/xlink\" xml:lang=\"nl\" id=\"43094dae83c84cefb1ef187287ecc3d5-0\" class=\"displacy\" width=\"1100\" height=\"399.5\" direction=\"ltr\" style=\"max-width: none; height: 399.5px; color: #000000; background: #ffffff; font-family: Arial; direction: ltr\">\n",
              "<text class=\"displacy-token\" fill=\"currentColor\" text-anchor=\"middle\" y=\"309.5\">\n",
              "    <tspan class=\"displacy-word\" fill=\"currentColor\" x=\"50\">De</tspan>\n",
              "    <tspan class=\"displacy-tag\" dy=\"2em\" fill=\"currentColor\" x=\"50\">DET</tspan>\n",
              "</text>\n",
              "\n",
              "<text class=\"displacy-token\" fill=\"currentColor\" text-anchor=\"middle\" y=\"309.5\">\n",
              "    <tspan class=\"displacy-word\" fill=\"currentColor\" x=\"225\">rechtbank</tspan>\n",
              "    <tspan class=\"displacy-tag\" dy=\"2em\" fill=\"currentColor\" x=\"225\">NOUN</tspan>\n",
              "</text>\n",
              "\n",
              "<text class=\"displacy-token\" fill=\"currentColor\" text-anchor=\"middle\" y=\"309.5\">\n",
              "    <tspan class=\"displacy-word\" fill=\"currentColor\" x=\"400\">wijst</tspan>\n",
              "    <tspan class=\"displacy-tag\" dy=\"2em\" fill=\"currentColor\" x=\"400\">VERB</tspan>\n",
              "</text>\n",
              "\n",
              "<text class=\"displacy-token\" fill=\"currentColor\" text-anchor=\"middle\" y=\"309.5\">\n",
              "    <tspan class=\"displacy-word\" fill=\"currentColor\" x=\"575\">het</tspan>\n",
              "    <tspan class=\"displacy-tag\" dy=\"2em\" fill=\"currentColor\" x=\"575\">DET</tspan>\n",
              "</text>\n",
              "\n",
              "<text class=\"displacy-token\" fill=\"currentColor\" text-anchor=\"middle\" y=\"309.5\">\n",
              "    <tspan class=\"displacy-word\" fill=\"currentColor\" x=\"750\">verzoek</tspan>\n",
              "    <tspan class=\"displacy-tag\" dy=\"2em\" fill=\"currentColor\" x=\"750\">NOUN</tspan>\n",
              "</text>\n",
              "\n",
              "<text class=\"displacy-token\" fill=\"currentColor\" text-anchor=\"middle\" y=\"309.5\">\n",
              "    <tspan class=\"displacy-word\" fill=\"currentColor\" x=\"925\">toe</tspan>\n",
              "    <tspan class=\"displacy-tag\" dy=\"2em\" fill=\"currentColor\" x=\"925\">ADP</tspan>\n",
              "</text>\n",
              "\n",
              "<g class=\"displacy-arrow\">\n",
              "    <path class=\"displacy-arc\" id=\"arrow-43094dae83c84cefb1ef187287ecc3d5-0-0\" stroke-width=\"2px\" d=\"M70,264.5 C70,177.0 215.0,177.0 215.0,264.5\" fill=\"none\" stroke=\"currentColor\"/>\n",
              "    <text dy=\"1.25em\" style=\"font-size: 0.8em; letter-spacing: 1px\">\n",
              "        <textPath xlink:href=\"#arrow-43094dae83c84cefb1ef187287ecc3d5-0-0\" class=\"displacy-label\" startOffset=\"50%\" side=\"left\" fill=\"currentColor\" text-anchor=\"middle\">det</textPath>\n",
              "    </text>\n",
              "    <path class=\"displacy-arrowhead\" d=\"M70,266.5 L62,254.5 78,254.5\" fill=\"currentColor\"/>\n",
              "</g>\n",
              "\n",
              "<g class=\"displacy-arrow\">\n",
              "    <path class=\"displacy-arc\" id=\"arrow-43094dae83c84cefb1ef187287ecc3d5-0-1\" stroke-width=\"2px\" d=\"M245,264.5 C245,177.0 390.0,177.0 390.0,264.5\" fill=\"none\" stroke=\"currentColor\"/>\n",
              "    <text dy=\"1.25em\" style=\"font-size: 0.8em; letter-spacing: 1px\">\n",
              "        <textPath xlink:href=\"#arrow-43094dae83c84cefb1ef187287ecc3d5-0-1\" class=\"displacy-label\" startOffset=\"50%\" side=\"left\" fill=\"currentColor\" text-anchor=\"middle\">nsubj</textPath>\n",
              "    </text>\n",
              "    <path class=\"displacy-arrowhead\" d=\"M245,266.5 L237,254.5 253,254.5\" fill=\"currentColor\"/>\n",
              "</g>\n",
              "\n",
              "<g class=\"displacy-arrow\">\n",
              "    <path class=\"displacy-arc\" id=\"arrow-43094dae83c84cefb1ef187287ecc3d5-0-2\" stroke-width=\"2px\" d=\"M595,264.5 C595,177.0 740.0,177.0 740.0,264.5\" fill=\"none\" stroke=\"currentColor\"/>\n",
              "    <text dy=\"1.25em\" style=\"font-size: 0.8em; letter-spacing: 1px\">\n",
              "        <textPath xlink:href=\"#arrow-43094dae83c84cefb1ef187287ecc3d5-0-2\" class=\"displacy-label\" startOffset=\"50%\" side=\"left\" fill=\"currentColor\" text-anchor=\"middle\">det</textPath>\n",
              "    </text>\n",
              "    <path class=\"displacy-arrowhead\" d=\"M595,266.5 L587,254.5 603,254.5\" fill=\"currentColor\"/>\n",
              "</g>\n",
              "\n",
              "<g class=\"displacy-arrow\">\n",
              "    <path class=\"displacy-arc\" id=\"arrow-43094dae83c84cefb1ef187287ecc3d5-0-3\" stroke-width=\"2px\" d=\"M420,264.5 C420,89.5 745.0,89.5 745.0,264.5\" fill=\"none\" stroke=\"currentColor\"/>\n",
              "    <text dy=\"1.25em\" style=\"font-size: 0.8em; letter-spacing: 1px\">\n",
              "        <textPath xlink:href=\"#arrow-43094dae83c84cefb1ef187287ecc3d5-0-3\" class=\"displacy-label\" startOffset=\"50%\" side=\"left\" fill=\"currentColor\" text-anchor=\"middle\">obj</textPath>\n",
              "    </text>\n",
              "    <path class=\"displacy-arrowhead\" d=\"M745.0,266.5 L753.0,254.5 737.0,254.5\" fill=\"currentColor\"/>\n",
              "</g>\n",
              "\n",
              "<g class=\"displacy-arrow\">\n",
              "    <path class=\"displacy-arc\" id=\"arrow-43094dae83c84cefb1ef187287ecc3d5-0-4\" stroke-width=\"2px\" d=\"M420,264.5 C420,2.0 925.0,2.0 925.0,264.5\" fill=\"none\" stroke=\"currentColor\"/>\n",
              "    <text dy=\"1.25em\" style=\"font-size: 0.8em; letter-spacing: 1px\">\n",
              "        <textPath xlink:href=\"#arrow-43094dae83c84cefb1ef187287ecc3d5-0-4\" class=\"displacy-label\" startOffset=\"50%\" side=\"left\" fill=\"currentColor\" text-anchor=\"middle\">compound:prt</textPath>\n",
              "    </text>\n",
              "    <path class=\"displacy-arrowhead\" d=\"M925.0,266.5 L933.0,254.5 917.0,254.5\" fill=\"currentColor\"/>\n",
              "</g>\n",
              "</svg>"
            ]
          },
          "metadata": {},
          "execution_count": 50
        }
      ]
    },
    {
      "cell_type": "markdown",
      "source": [
        "### NER: Named Entity Recognition\n",
        "\n",
        "In teksten staan vaak eigen namen, namen van organisaties, plaatsen, maar ook bedragen en data etc. Spacy herkent deze 'entiteiten' in veel gevallen (maar nog zeker niet foutloos! In Engelse teksten zal de foutmarge wat kleiner zijn.)"
      ],
      "metadata": {
        "id": "je6wVlMdh1V0"
      }
    },
    {
      "cell_type": "code",
      "source": [
        "doc = nlp(\"\"\"Mijn naam is Raimond en ik woon in Amersfoort. Het is nu 20 februari 2023 en de tijd is half vier. \n",
        "Ik werk op een advocatenkantoor dat Coda Advocaten heet. Nog een half uur om € 1.000.000 op de bank te verdienen \"\"\")\n",
        "\n",
        "for entiteit in doc.ents:\n",
        "    print(\"NER:\", entiteit, \" Dit is een:\", entiteit.label_)"
      ],
      "metadata": {
        "colab": {
          "base_uri": "https://localhost:8080/"
        },
        "id": "B9Q2qLYoh51T",
        "outputId": "2171c0d7-d40f-4324-c661-79d50badfc78"
      },
      "execution_count": 52,
      "outputs": [
        {
          "output_type": "stream",
          "name": "stdout",
          "text": [
            "NER: Raimond  Dit is een: PERSON\n",
            "NER: Amersfoort  Dit is een: GPE\n",
            "NER: 20 februari 2023  Dit is een: DATE\n",
            "NER: half  Dit is een: TIME\n",
            "NER: vier  Dit is een: CARDINAL\n",
            "NER: Coda Advocaten  Dit is een: ORG\n",
            "NER: half uur  Dit is een: TIME\n",
            "NER: 1.000.000  Dit is een: CARDINAL\n"
          ]
        }
      ]
    }
  ]
}